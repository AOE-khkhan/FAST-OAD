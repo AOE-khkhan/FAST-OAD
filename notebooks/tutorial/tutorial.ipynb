{
 "cells": [
  {
   "cell_type": "markdown",
   "metadata": {},
   "source": [
    "![logo](./img/logo-onera.png \"Logo ONERA\") ![logo](./img/logo-ISAE_SUPAERO.png \"Logo ISAE-SUPAERO\") "
   ]
  },
  {
   "cell_type": "markdown",
   "metadata": {},
   "source": [
    "# FAST-OAD Tutorial"
   ]
  },
  {
   "cell_type": "markdown",
   "metadata": {},
   "source": [
    "FAST-OAD is a framework for performing rapid Overall Aircraft Design. The computational core of FAST-OAD is based on the  [OpenMDAO framework](https://openmdao.org/)."
   ]
  },
  {
   "cell_type": "markdown",
   "metadata": {},
   "source": [
    "## 1. Installation and import test\n",
    "In order to use this tutorial notebook, the *fastoad* package must be installed."
   ]
  },
  {
   "cell_type": "markdown",
   "metadata": {},
   "source": [
    "### Installation\n",
    "FAST requests at least Python 3.7 to be used. As of today, the package is available locally but will be in the future available on [PyPi](https://pypi.org/) to make it available through a simple *pip*.\n",
    "To install locally *fastoad* you must:\n",
    "1. Download the project **.zip** on the [Github repository](https://github.com/fast-aircraft-design/FAST-OAD)\n",
    "2. Unzip the project file\n",
    "3. In a terminal run:\n",
    "\n",
    "    `cd FAST-OAD-master`\n",
    "    \n",
    "    `pip install .`"
   ]
  },
  {
   "cell_type": "markdown",
   "metadata": {},
   "source": [
    "### Installation Test\n",
    "Run the following cell to attempt an import of the package and check if it is properly installed."
   ]
  },
  {
   "cell_type": "code",
   "execution_count": 8,
   "metadata": {},
   "outputs": [],
   "source": [
    "import fastoad"
   ]
  },
  {
   "cell_type": "markdown",
   "metadata": {},
   "source": [
    "## 2. Working with user files"
   ]
  },
  {
   "cell_type": "markdown",
   "metadata": {},
   "source": [
    "The FAST-OAD environment uses two types of user files:\n",
    "\n",
    "* Configuration files (**.toml**):\n",
    "\n",
    "    The configuration example file used for the tutorial can be found [here](./data/oad_process.toml).\n",
    "\n",
    "    FastProblem instances require a configuration file. The configuration file uses the .toml syntax. In this file the user defines:\n",
    "\n",
    "    1 - Path to search disciplinary modules\n",
    "```toml\n",
    "module_folders = []\n",
    "```\n",
    "\n",
    "\n",
    "    The actual path is empty since the native modules of FAST-OAD are already made available. However, if the user wants to integrate his own modules he must specify the path to the folder that contains the modules.\n",
    "\n",
    "    2 - Inputs and outputs filenames\n",
    "```toml\n",
    "input_file = \"../outputs/oad_process_inputs.xml\"\n",
    "output_file = \"../outputs/oad_process_outputs.xml\"\n",
    "```\n",
    "\n",
    "\n",
    "    The input file contains the global inputs values required to run all the model.\n",
    "    The output file contains all the variables (inputs + outputs) values obtained after a model run.\n",
    "\n",
    "    3 - The system level structure of the model\n",
    "```toml\n",
    "[model]\n",
    "    nonlinear_solver = \"om.NonlinearBlockGS(maxiter=100, iprint=0)\"\n",
    "    linear_solver = \"om.ScipyKrylov()\"\n",
    "    [model.geometry]\n",
    "        id = \"fastoad.geometry.legacy\"\n",
    "    [model.aerodynamics]\n",
    "        id = \"fastoad.aerodynamics.highspeed.legacy\"\n",
    "    [model.performance_loop]\n",
    "        nonlinear_solver = \"om.NonlinearBlockGS(iprint=0)\"\n",
    "        [model.performance_loop.performance]\n",
    "            id = \"fastoad.performances.breguet.implicit\"\n",
    "        [model.performance_loop.sizing_loop.propulsion]\n",
    "            id = \"fastoad.propulsion.rubber_engine\"\n",
    "```\n",
    "\n",
    "\n",
    "    4 - The parameters of the optimization problem\n",
    "\n",
    "* System variables files (**.xml**):\n",
    "\n",
    "    These file regroup the information of the variables involved in the system model. There are two types of system variables files:\n",
    "    \n",
    "    1 - INPUT_FILE: The input file contains the global inputs values required to run all the model. The user is free to modify the values of the variables in order that these new values are considered during a model run.\n",
    "    \n",
    "    2 - OUTPUT_FILE: The output file contains all the variables (inputs + outputs) values obtained after a model run.\n",
    "    "
   ]
  },
  {
   "cell_type": "markdown",
   "metadata": {},
   "source": [
    "![User Files](./img/user_files_arch.svg \"User Files Architecture\")"
   ]
  },
  {
   "cell_type": "code",
   "execution_count": 1,
   "metadata": {},
   "outputs": [
    {
     "name": "stdout",
     "output_type": "stream",
     "text": [
      "Unable to import mpi4py. Parallel processing unavailable.\n"
     ]
    }
   ],
   "source": [
    "import os.path as pth\n",
    "import openmdao.api as om\n",
    "from fastoad.cmd import api\n",
    "\n",
    "DATA_FOLDER_PATH = 'data'\n",
    "WORK_FOLDER_PATH = 'workdir'\n",
    "\n",
    "CONFIGURATION_FILE = pth.join(WORK_FOLDER_PATH, 'oad_process.toml')\n",
    "REF_VALUES_FILE = pth.join(DATA_FOLDER_PATH, 'CeRAS01_baseline.xml')\n"
   ]
  },
  {
   "cell_type": "code",
   "execution_count": 2,
   "metadata": {},
   "outputs": [],
   "source": [
    "api.generate_configuration_file(CONFIGURATION_FILE, overwrite=True)"
   ]
  },
  {
   "cell_type": "code",
   "execution_count": 3,
   "metadata": {},
   "outputs": [
    {
     "name": "stderr",
     "output_type": "stream",
     "text": [
      "The xpath Aircraft/propulsion/conventional/k_factors/k_SFC does not have any variable affected in the translator.\n",
      "The xpath Aircraft/propulsion/conventional/k_factors/k_corr does not have any variable affected in the translator.\n",
      "The xpath Aircraft/propulsion/conventional/k_factors/k_co2 does not have any variable affected in the translator.\n"
     ]
    }
   ],
   "source": [
    "api.generate_inputs(CONFIGURATION_FILE, True, REF_VALUES_FILE, 'legacy')"
   ]
  },
  {
   "cell_type": "code",
   "execution_count": 4,
   "metadata": {},
   "outputs": [
    {
     "name": "stdout",
     "output_type": "stream",
     "text": [
      "workdir\\n2.html\n"
     ]
    },
    {
     "data": {
      "text/html": [
       "\n",
       "        <iframe\n",
       "            width=\"100%\"\n",
       "            height=\"500px\"\n",
       "            src=\"workdir\\n2.html\"\n",
       "            frameborder=\"0\"\n",
       "            allowfullscreen\n",
       "        ></iframe>\n",
       "        "
      ],
      "text/plain": [
       "<IPython.lib.display.IFrame at 0x287ef7b8>"
      ]
     },
     "execution_count": 4,
     "metadata": {},
     "output_type": "execute_result"
    }
   ],
   "source": [
    "N2_FILE = pth.join(WORK_FOLDER_PATH, 'n2.html')\n",
    "api.write_n2(CONFIGURATION_FILE, N2_FILE, overwrite=True)\n",
    "from IPython.display import IFrame\n",
    "print(N2_FILE)\n",
    "IFrame(src=N2_FILE, width='100%', height='500px')"
   ]
  },
  {
   "cell_type": "markdown",
   "metadata": {},
   "source": [
    "## 3. Running your first MDA"
   ]
  },
  {
   "cell_type": "code",
   "execution_count": 5,
   "metadata": {},
   "outputs": [
    {
     "name": "stderr",
     "output_type": "stream",
     "text": [
      "D:\\cdavid\\PyCharmProjects\\FAST-OAD\\.venv\\lib\\site-packages\\openmdao\\core\\group.py:1100: UserWarning:Group (<model>): Input 'weights.weights.owe.flight_controls_weight.weight:airframe:flight_controls:mass:offset' with units of 'kg' is connected to output 'inputs.weight:airframe:flight_controls:mass:offset' which has no units.\n",
      "D:\\cdavid\\PyCharmProjects\\FAST-OAD\\.venv\\lib\\site-packages\\openmdao\\core\\group.py:1100: UserWarning:Group (<model>): Input 'weights.weights.owe.wing_weight.weight:airframe:wing:mass:offset' with units of 'kg' is connected to output 'inputs.weight:airframe:wing:mass:offset' which has no units.\n",
      "D:\\cdavid\\PyCharmProjects\\FAST-OAD\\.venv\\lib\\site-packages\\openmdao\\core\\group.py:1100: UserWarning:Group (<model>): Input 'weights.weights.owe.wing_weight.weight:airframe:wing:bending_sizing:mass:offset' with units of 'kg' is connected to output 'inputs.weight:airframe:wing:bending_sizing:mass:offset' which has no units.\n",
      "D:\\cdavid\\PyCharmProjects\\FAST-OAD\\.venv\\lib\\site-packages\\openmdao\\core\\group.py:1100: UserWarning:Group (<model>): Input 'weights.weights.owe.wing_weight.weight:airframe:wing:shear_sizing:mass:offset' with units of 'kg' is connected to output 'inputs.weight:airframe:wing:shear_sizing:mass:offset' which has no units.\n",
      "D:\\cdavid\\PyCharmProjects\\FAST-OAD\\.venv\\lib\\site-packages\\openmdao\\core\\group.py:1100: UserWarning:Group (<model>): Input 'weights.weights.owe.wing_weight.weight:airframe:wing:ribs:mass:offset' with units of 'kg' is connected to output 'inputs.weight:airframe:wing:ribs:mass:offset' which has no units.\n",
      "D:\\cdavid\\PyCharmProjects\\FAST-OAD\\.venv\\lib\\site-packages\\openmdao\\core\\group.py:1100: UserWarning:Group (<model>): Input 'weights.weights.owe.wing_weight.weight:airframe:wing:reinforcements:mass:offset' with units of 'kg' is connected to output 'inputs.weight:airframe:wing:reinforcements:mass:offset' which has no units.\n",
      "D:\\cdavid\\PyCharmProjects\\FAST-OAD\\.venv\\lib\\site-packages\\openmdao\\core\\group.py:1100: UserWarning:Group (<model>): Input 'weights.weights.owe.wing_weight.weight:airframe:wing:secondary_parts:mass:offset' with units of 'kg' is connected to output 'inputs.weight:airframe:wing:secondary_parts:mass:offset' which has no units.\n",
      "D:\\cdavid\\PyCharmProjects\\FAST-OAD\\.venv\\lib\\site-packages\\openmdao\\core\\group.py:1100: UserWarning:Group (<model>): Input 'weights.weights.owe.fuselage_weight.weight:airframe:fuselage:mass:offset' with units of 'kg' is connected to output 'inputs.weight:airframe:fuselage:mass:offset' which has no units.\n",
      "D:\\cdavid\\PyCharmProjects\\FAST-OAD\\.venv\\lib\\site-packages\\openmdao\\core\\group.py:1100: UserWarning:Group (<model>): Input 'weights.weights.owe.empennage_weight.weight:airframe:horizontal_tail:mass:offset' with units of 'kg' is connected to output 'inputs.weight:airframe:horizontal_tail:mass:offset' which has no units.\n",
      "D:\\cdavid\\PyCharmProjects\\FAST-OAD\\.venv\\lib\\site-packages\\openmdao\\core\\group.py:1100: UserWarning:Group (<model>): Input 'weights.weights.owe.empennage_weight.weight:airframe:vertical_tail:mass:offset' with units of 'kg' is connected to output 'inputs.weight:airframe:vertical_tail:mass:offset' which has no units.\n",
      "D:\\cdavid\\PyCharmProjects\\FAST-OAD\\.venv\\lib\\site-packages\\openmdao\\core\\group.py:1100: UserWarning:Group (<model>): Input 'weights.weights.owe.landing_gear_weight.weight:airframe:landing_gear:mass:offset' with units of 'kg' is connected to output 'inputs.weight:airframe:landing_gear:mass:offset' which has no units.\n",
      "D:\\cdavid\\PyCharmProjects\\FAST-OAD\\.venv\\lib\\site-packages\\openmdao\\core\\group.py:1100: UserWarning:Group (<model>): Input 'weights.weights.owe.pylons_weight.weight:airframe:pylon:mass:offset' with units of 'kg' is connected to output 'inputs.weight:airframe:pylon:mass:offset' which has no units.\n",
      "D:\\cdavid\\PyCharmProjects\\FAST-OAD\\.venv\\lib\\site-packages\\openmdao\\core\\group.py:1100: UserWarning:Group (<model>): Input 'weights.weights.owe.paint_weight.weight:airframe:paint:mass:offset' with units of 'kg' is connected to output 'inputs.weight:airframe:paint:mass:offset' which has no units.\n",
      "D:\\cdavid\\PyCharmProjects\\FAST-OAD\\.venv\\lib\\site-packages\\openmdao\\core\\group.py:1100: UserWarning:Group (<model>): Input 'weights.weights.owe.engines_weight.weight:propulsion:engine:mass:offset' with units of 'kg' is connected to output 'inputs.weight:propulsion:engine:mass:offset' which has no units.\n",
      "D:\\cdavid\\PyCharmProjects\\FAST-OAD\\.venv\\lib\\site-packages\\openmdao\\core\\group.py:1100: UserWarning:Group (<model>): Input 'weights.weights.owe.fuel_lines_weight.weight:propulsion:fuel_lines:mass:offset' with units of 'kg' is connected to output 'inputs.weight:propulsion:fuel_lines:mass:offset' which has no units.\n",
      "D:\\cdavid\\PyCharmProjects\\FAST-OAD\\.venv\\lib\\site-packages\\openmdao\\core\\group.py:1100: UserWarning:Group (<model>): Input 'weights.weights.owe.unconsumables_weight.weight:propulsion:unconsumables:mass:offset' with units of 'kg' is connected to output 'inputs.weight:propulsion:unconsumables:mass:offset' which has no units.\n",
      "D:\\cdavid\\PyCharmProjects\\FAST-OAD\\.venv\\lib\\site-packages\\openmdao\\core\\group.py:1100: UserWarning:Group (<model>): Input 'weights.weights.owe.power_systems_weight.weight:systems:power:auxiliary_power_unit:mass:offset' with units of 'kg' is connected to output 'inputs.weight:systems:power:auxiliary_power_unit:mass:offset' which has no units.\n",
      "D:\\cdavid\\PyCharmProjects\\FAST-OAD\\.venv\\lib\\site-packages\\openmdao\\core\\group.py:1100: UserWarning:Group (<model>): Input 'weights.weights.owe.power_systems_weight.weight:systems:power:electric_systems:mass:offset' with units of 'kg' is connected to output 'inputs.weight:systems:power:electric_systems:mass:offset' which has no units.\n",
      "D:\\cdavid\\PyCharmProjects\\FAST-OAD\\.venv\\lib\\site-packages\\openmdao\\core\\group.py:1100: UserWarning:Group (<model>): Input 'weights.weights.owe.power_systems_weight.weight:systems:power:hydraulic_systems:mass:offset' with units of 'kg' is connected to output 'inputs.weight:systems:power:hydraulic_systems:mass:offset' which has no units.\n",
      "D:\\cdavid\\PyCharmProjects\\FAST-OAD\\.venv\\lib\\site-packages\\openmdao\\core\\group.py:1100: UserWarning:Group (<model>): Input 'weights.weights.owe.life_support_systems_weight.weight:systems:life_support:insulation:mass:offset' with units of 'kg' is connected to output 'inputs.weight:systems:life_support:insulation:mass:offset' which has no units.\n",
      "D:\\cdavid\\PyCharmProjects\\FAST-OAD\\.venv\\lib\\site-packages\\openmdao\\core\\group.py:1100: UserWarning:Group (<model>): Input 'weights.weights.owe.life_support_systems_weight.weight:systems:life_support:air_conditioning:mass:offset' with units of 'kg' is connected to output 'inputs.weight:systems:life_support:air_conditioning:mass:offset' which has no units.\n",
      "D:\\cdavid\\PyCharmProjects\\FAST-OAD\\.venv\\lib\\site-packages\\openmdao\\core\\group.py:1100: UserWarning:Group (<model>): Input 'weights.weights.owe.life_support_systems_weight.weight:systems:life_support:de-icing:mass:offset' with units of 'kg' is connected to output 'inputs.weight:systems:life_support:de-icing:mass:offset' which has no units.\n",
      "D:\\cdavid\\PyCharmProjects\\FAST-OAD\\.venv\\lib\\site-packages\\openmdao\\core\\group.py:1100: UserWarning:Group (<model>): Input 'weights.weights.owe.life_support_systems_weight.weight:systems:life_support:cabin_lighting:mass:offset' with units of 'kg' is connected to output 'inputs.weight:systems:life_support:cabin_lighting:mass:offset' which has no units.\n",
      "D:\\cdavid\\PyCharmProjects\\FAST-OAD\\.venv\\lib\\site-packages\\openmdao\\core\\group.py:1100: UserWarning:Group (<model>): Input 'weights.weights.owe.life_support_systems_weight.weight:systems:life_support:seats_crew_accommodation:mass:offset' with units of 'kg' is connected to output 'inputs.weight:systems:life_support:seats_crew_accommodation:mass:offset' which has no units.\n",
      "D:\\cdavid\\PyCharmProjects\\FAST-OAD\\.venv\\lib\\site-packages\\openmdao\\core\\group.py:1100: UserWarning:Group (<model>): Input 'weights.weights.owe.life_support_systems_weight.weight:systems:life_support:oxygen:mass:offset' with units of 'kg' is connected to output 'inputs.weight:systems:life_support:oxygen:mass:offset' which has no units.\n",
      "D:\\cdavid\\PyCharmProjects\\FAST-OAD\\.venv\\lib\\site-packages\\openmdao\\core\\group.py:1100: UserWarning:Group (<model>): Input 'weights.weights.owe.life_support_systems_weight.weight:systems:life_support:safety_equipment:mass:offset' with units of 'kg' is connected to output 'inputs.weight:systems:life_support:safety_equipment:mass:offset' which has no units.\n",
      "D:\\cdavid\\PyCharmProjects\\FAST-OAD\\.venv\\lib\\site-packages\\openmdao\\core\\group.py:1100: UserWarning:Group (<model>): Input 'weights.weights.owe.navigation_systems_weight.weight:systems:navigation:mass:offset' with units of 'kg' is connected to output 'inputs.weight:systems:navigation:mass:offset' which has no units.\n",
      "D:\\cdavid\\PyCharmProjects\\FAST-OAD\\.venv\\lib\\site-packages\\openmdao\\core\\group.py:1100: UserWarning:Group (<model>): Input 'weights.weights.owe.transmission_systems_weight.weight:systems:transmission:mass:offset' with units of 'kg' is connected to output 'inputs.weight:systems:transmission:mass:offset' which has no units.\n",
      "D:\\cdavid\\PyCharmProjects\\FAST-OAD\\.venv\\lib\\site-packages\\openmdao\\core\\group.py:1100: UserWarning:Group (<model>): Input 'weights.weights.owe.fixed_operational_systems_weight.weight:systems:operational:mass:offset' with units of 'kg' is connected to output 'inputs.weight:systems:operational:mass:offset' which has no units.\n",
      "D:\\cdavid\\PyCharmProjects\\FAST-OAD\\.venv\\lib\\site-packages\\openmdao\\core\\group.py:1100: UserWarning:Group (<model>): Input 'weights.weights.owe.flight_kit_weight.weight:systems:flight_kit:mass:offset' with units of 'kg' is connected to output 'inputs.weight:systems:flight_kit:mass:offset' which has no units.\n",
      "D:\\cdavid\\PyCharmProjects\\FAST-OAD\\.venv\\lib\\site-packages\\openmdao\\core\\group.py:1100: UserWarning:Group (<model>): Input 'weights.weights.owe.cargo_configuration_weight.weight:furniture:cargo_configuration:mass:offset' with units of 'kg' is connected to output 'inputs.weight:furniture:cargo_configuration:mass:offset' which has no units.\n",
      "D:\\cdavid\\PyCharmProjects\\FAST-OAD\\.venv\\lib\\site-packages\\openmdao\\core\\group.py:1100: UserWarning:Group (<model>): Input 'weights.weights.owe.passenger_seats_weight.weight:furniture:passenger_seats:mass:offset' with units of 'kg' is connected to output 'inputs.weight:furniture:passenger_seats:mass:offset' which has no units.\n",
      "D:\\cdavid\\PyCharmProjects\\FAST-OAD\\.venv\\lib\\site-packages\\openmdao\\core\\group.py:1100: UserWarning:Group (<model>): Input 'weights.weights.owe.food_water_weight.weight:furniture:food_water:mass:offset' with units of 'kg' is connected to output 'inputs.weight:furniture:food_water:mass:offset' which has no units.\n",
      "D:\\cdavid\\PyCharmProjects\\FAST-OAD\\.venv\\lib\\site-packages\\openmdao\\core\\group.py:1100: UserWarning:Group (<model>): Input 'weights.weights.owe.security_kit_weight.weight:furniture:security_kit:mass:offset' with units of 'kg' is connected to output 'inputs.weight:furniture:security_kit:mass:offset' which has no units.\n",
      "D:\\cdavid\\PyCharmProjects\\FAST-OAD\\.venv\\lib\\site-packages\\openmdao\\core\\group.py:1100: UserWarning:Group (<model>): Input 'weights.weights.owe.toilets_weight.weight:furniture:toilets:mass:offset' with units of 'kg' is connected to output 'inputs.weight:furniture:toilets:mass:offset' which has no units.\n"
     ]
    },
    {
     "name": "stdout",
     "output_type": "stream",
     "text": [
      "|  \n",
      "|  ==========\n",
      "|  perfo_loop\n",
      "|  ==========\n"
     ]
    },
    {
     "name": "stderr",
     "output_type": "stream",
     "text": [
      "d:\\cdavid\\pycharmprojects\\fast-oad\\src\\fastoad\\modules\\performances\\breguet.py:235: RuntimeWarning:\n",
      "\n",
      "overflow encountered in exp\n",
      "\n",
      "MAX THRUST computation for T4 above 1600.0 may be unreliable.\n",
      "SFC RATIO computation for thrust rate above 1.0 may be unreliable.\n"
     ]
    },
    {
     "name": "stdout",
     "output_type": "stream",
     "text": [
      "|  NL: NLBGSSolver 'NL: NLBGS' on system 'perfo_loop' failed to converge in 10 iterations.\n"
     ]
    },
    {
     "name": "stderr",
     "output_type": "stream",
     "text": [
      "MAX THRUST computation for T4 above 1600.0 may be unreliable.\n",
      "SFC RATIO computation for thrust rate above 1.0 may be unreliable.\n"
     ]
    },
    {
     "name": "stdout",
     "output_type": "stream",
     "text": [
      "|  \n",
      "|  ==========\n",
      "|  perfo_loop\n",
      "|  ==========\n",
      "|  NL: NLBGS Converged in 1 iterations\n"
     ]
    },
    {
     "name": "stderr",
     "output_type": "stream",
     "text": [
      "MAX THRUST computation for T4 above 1600.0 may be unreliable.\n"
     ]
    },
    {
     "name": "stdout",
     "output_type": "stream",
     "text": [
      "|  \n",
      "|  ==========\n",
      "|  perfo_loop\n",
      "|  ==========\n",
      "|  NL: NLBGS Converged in 1 iterations\n"
     ]
    },
    {
     "name": "stderr",
     "output_type": "stream",
     "text": [
      "MAX THRUST computation for T4 above 1600.0 may be unreliable.\n"
     ]
    },
    {
     "name": "stdout",
     "output_type": "stream",
     "text": [
      "|  \n",
      "|  ==========\n",
      "|  perfo_loop\n",
      "|  ==========\n",
      "|  NL: NLBGS Converged in 1 iterations\n"
     ]
    },
    {
     "name": "stderr",
     "output_type": "stream",
     "text": [
      "MAX THRUST computation for T4 above 1600.0 may be unreliable.\n"
     ]
    },
    {
     "name": "stdout",
     "output_type": "stream",
     "text": [
      "|  \n",
      "|  ==========\n",
      "|  perfo_loop\n",
      "|  ==========\n",
      "|  NL: NLBGS Converged in 1 iterations\n"
     ]
    },
    {
     "name": "stderr",
     "output_type": "stream",
     "text": [
      "MAX THRUST computation for T4 above 1600.0 may be unreliable.\n"
     ]
    },
    {
     "name": "stdout",
     "output_type": "stream",
     "text": [
      "|  \n",
      "|  ==========\n",
      "|  perfo_loop\n",
      "|  ==========\n",
      "|  NL: NLBGS Converged in 1 iterations\n"
     ]
    },
    {
     "name": "stderr",
     "output_type": "stream",
     "text": [
      "MAX THRUST computation for T4 above 1600.0 may be unreliable.\n"
     ]
    },
    {
     "name": "stdout",
     "output_type": "stream",
     "text": [
      "|  \n",
      "|  ==========\n",
      "|  perfo_loop\n",
      "|  ==========\n",
      "|  NL: NLBGS Converged in 1 iterations\n"
     ]
    },
    {
     "name": "stderr",
     "output_type": "stream",
     "text": [
      "MAX THRUST computation for T4 above 1600.0 may be unreliable.\n"
     ]
    },
    {
     "name": "stdout",
     "output_type": "stream",
     "text": [
      "|  \n",
      "|  ==========\n",
      "|  perfo_loop\n",
      "|  ==========\n",
      "|  NL: NLBGS Converged in 1 iterations\n"
     ]
    },
    {
     "name": "stderr",
     "output_type": "stream",
     "text": [
      "MAX THRUST computation for T4 above 1600.0 may be unreliable.\n"
     ]
    },
    {
     "name": "stdout",
     "output_type": "stream",
     "text": [
      "|  \n",
      "|  ==========\n",
      "|  perfo_loop\n",
      "|  ==========\n",
      "|  NL: NLBGS Converged in 1 iterations\n"
     ]
    },
    {
     "name": "stderr",
     "output_type": "stream",
     "text": [
      "MAX THRUST computation for T4 above 1600.0 may be unreliable.\n"
     ]
    },
    {
     "name": "stdout",
     "output_type": "stream",
     "text": [
      "|  \n",
      "|  ==========\n",
      "|  perfo_loop\n",
      "|  ==========\n",
      "|  NL: NLBGS Converged in 1 iterations\n"
     ]
    },
    {
     "name": "stderr",
     "output_type": "stream",
     "text": [
      "MAX THRUST computation for T4 above 1600.0 may be unreliable.\n"
     ]
    },
    {
     "name": "stdout",
     "output_type": "stream",
     "text": [
      "|  \n",
      "|  ==========\n",
      "|  perfo_loop\n",
      "|  ==========\n",
      "|  NL: NLBGS Converged in 1 iterations\n"
     ]
    },
    {
     "name": "stderr",
     "output_type": "stream",
     "text": [
      "MAX THRUST computation for T4 above 1600.0 may be unreliable.\n"
     ]
    },
    {
     "name": "stdout",
     "output_type": "stream",
     "text": [
      "|  \n",
      "|  ==========\n",
      "|  perfo_loop\n",
      "|  ==========\n",
      "|  NL: NLBGS Converged in 1 iterations\n",
      "NL: NLBGS Converged in 11 iterations\n"
     ]
    },
    {
     "data": {
      "text/plain": [
       "<fastoad.io.configuration.configuration.ConfiguredProblem at 0x2b48bdd8>"
      ]
     },
     "execution_count": 5,
     "metadata": {},
     "output_type": "execute_result"
    }
   ],
   "source": [
    "# problem.set_solver_print(level=2)\n",
    "api.evaluate_problem(CONFIGURATION_FILE, overwrite=True)"
   ]
  },
  {
   "cell_type": "markdown",
   "metadata": {},
   "source": [
    "## 4. Running your first MDO"
   ]
  },
  {
   "cell_type": "code",
   "execution_count": 6,
   "metadata": {},
   "outputs": [
    {
     "name": "stdout",
     "output_type": "stream",
     "text": [
      "|  \n",
      "|  ==========\n",
      "|  perfo_loop\n",
      "|  ==========\n"
     ]
    },
    {
     "name": "stderr",
     "output_type": "stream",
     "text": [
      "MAX THRUST computation for T4 above 1600.0 may be unreliable.\n",
      "SFC RATIO computation for thrust rate above 1.0 may be unreliable.\n"
     ]
    },
    {
     "name": "stdout",
     "output_type": "stream",
     "text": [
      "|  NL: NLBGSSolver 'NL: NLBGS' on system 'perfo_loop' failed to converge in 10 iterations.\n"
     ]
    },
    {
     "name": "stderr",
     "output_type": "stream",
     "text": [
      "MAX THRUST computation for T4 above 1600.0 may be unreliable.\n",
      "SFC RATIO computation for thrust rate above 1.0 may be unreliable.\n"
     ]
    },
    {
     "name": "stdout",
     "output_type": "stream",
     "text": [
      "|  \n",
      "|  ==========\n",
      "|  perfo_loop\n",
      "|  ==========\n",
      "|  NL: NLBGS Converged in 1 iterations\n"
     ]
    },
    {
     "name": "stderr",
     "output_type": "stream",
     "text": [
      "MAX THRUST computation for T4 above 1600.0 may be unreliable.\n"
     ]
    },
    {
     "name": "stdout",
     "output_type": "stream",
     "text": [
      "|  \n",
      "|  ==========\n",
      "|  perfo_loop\n",
      "|  ==========\n",
      "|  NL: NLBGS Converged in 1 iterations\n"
     ]
    },
    {
     "name": "stderr",
     "output_type": "stream",
     "text": [
      "MAX THRUST computation for T4 above 1600.0 may be unreliable.\n"
     ]
    },
    {
     "name": "stdout",
     "output_type": "stream",
     "text": [
      "|  \n",
      "|  ==========\n",
      "|  perfo_loop\n",
      "|  ==========\n",
      "|  NL: NLBGS Converged in 1 iterations\n"
     ]
    },
    {
     "name": "stderr",
     "output_type": "stream",
     "text": [
      "MAX THRUST computation for T4 above 1600.0 may be unreliable.\n"
     ]
    },
    {
     "name": "stdout",
     "output_type": "stream",
     "text": [
      "|  \n",
      "|  ==========\n",
      "|  perfo_loop\n",
      "|  ==========\n",
      "|  NL: NLBGS Converged in 1 iterations\n"
     ]
    },
    {
     "name": "stderr",
     "output_type": "stream",
     "text": [
      "MAX THRUST computation for T4 above 1600.0 may be unreliable.\n"
     ]
    },
    {
     "name": "stdout",
     "output_type": "stream",
     "text": [
      "|  \n",
      "|  ==========\n",
      "|  perfo_loop\n",
      "|  ==========\n",
      "|  NL: NLBGS Converged in 1 iterations\n"
     ]
    },
    {
     "name": "stderr",
     "output_type": "stream",
     "text": [
      "MAX THRUST computation for T4 above 1600.0 may be unreliable.\n"
     ]
    },
    {
     "name": "stdout",
     "output_type": "stream",
     "text": [
      "|  \n",
      "|  ==========\n",
      "|  perfo_loop\n",
      "|  ==========\n",
      "|  NL: NLBGS Converged in 1 iterations\n"
     ]
    },
    {
     "name": "stderr",
     "output_type": "stream",
     "text": [
      "MAX THRUST computation for T4 above 1600.0 may be unreliable.\n"
     ]
    },
    {
     "name": "stdout",
     "output_type": "stream",
     "text": [
      "|  \n",
      "|  ==========\n",
      "|  perfo_loop\n",
      "|  ==========\n",
      "|  NL: NLBGS Converged in 1 iterations\n"
     ]
    },
    {
     "name": "stderr",
     "output_type": "stream",
     "text": [
      "MAX THRUST computation for T4 above 1600.0 may be unreliable.\n"
     ]
    },
    {
     "name": "stdout",
     "output_type": "stream",
     "text": [
      "|  \n",
      "|  ==========\n",
      "|  perfo_loop\n",
      "|  ==========\n",
      "|  NL: NLBGS Converged in 1 iterations\n"
     ]
    },
    {
     "name": "stderr",
     "output_type": "stream",
     "text": [
      "MAX THRUST computation for T4 above 1600.0 may be unreliable.\n"
     ]
    },
    {
     "name": "stdout",
     "output_type": "stream",
     "text": [
      "|  \n",
      "|  ==========\n",
      "|  perfo_loop\n",
      "|  ==========\n",
      "|  NL: NLBGS Converged in 1 iterations\n"
     ]
    },
    {
     "name": "stderr",
     "output_type": "stream",
     "text": [
      "MAX THRUST computation for T4 above 1600.0 may be unreliable.\n"
     ]
    },
    {
     "name": "stdout",
     "output_type": "stream",
     "text": [
      "|  \n",
      "|  ==========\n",
      "|  perfo_loop\n",
      "|  ==========\n",
      "|  NL: NLBGS Converged in 1 iterations\n"
     ]
    },
    {
     "name": "stderr",
     "output_type": "stream",
     "text": [
      "MAX THRUST computation for T4 above 1600.0 may be unreliable.\n"
     ]
    },
    {
     "name": "stdout",
     "output_type": "stream",
     "text": [
      "|  \n",
      "|  ==========\n",
      "|  perfo_loop\n",
      "|  ==========\n",
      "|  NL: NLBGS Converged in 1 iterations\n",
      "NL: NLBGS Converged in 11 iterations\n"
     ]
    },
    {
     "data": {
      "text/plain": [
       "<fastoad.io.configuration.configuration.ConfiguredProblem at 0x288e2dd8>"
      ]
     },
     "execution_count": 6,
     "metadata": {},
     "output_type": "execute_result"
    }
   ],
   "source": [
    "# problem.set_solver_print(level=2)\n",
    "api.optimize_problem(CONFIGURATION_FILE, overwrite=True)"
   ]
  },
  {
   "cell_type": "code",
   "execution_count": null,
   "metadata": {},
   "outputs": [],
   "source": []
  }
 ],
 "metadata": {
  "kernelspec": {
   "display_name": "Python 3",
   "language": "python",
   "name": "python3"
  },
  "language_info": {
   "codemirror_mode": {
    "name": "ipython",
    "version": 3
   },
   "file_extension": ".py",
   "mimetype": "text/x-python",
   "name": "python",
   "nbconvert_exporter": "python",
   "pygments_lexer": "ipython3",
   "version": "3.7.3"
  }
 },
 "nbformat": 4,
 "nbformat_minor": 4
}
