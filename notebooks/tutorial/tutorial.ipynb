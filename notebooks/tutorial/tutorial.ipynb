{
 "cells": [
  {
   "cell_type": "markdown",
   "metadata": {},
   "source": [
    "![logo](./img/logo-onera.png \"Logo ONERA\") ![logo](./img/logo-ISAE_SUPAERO.png \"Logo ISAE-SUPAERO\") "
   ]
  },
  {
   "cell_type": "markdown",
   "metadata": {},
   "source": [
    "# FAST-OAD Tutorial"
   ]
  },
  {
   "cell_type": "markdown",
   "metadata": {},
   "source": [
    "FAST-OAD is a framework for performing rapid Overall Aircraft Design. The computational core of FAST-OAD is based on the  [OpenMDAO framework](https://openmdao.org/)."
   ]
  },
  {
   "cell_type": "markdown",
   "metadata": {},
   "source": [
    "## 1. Installation and import test\n",
    "In order to use this tutorial notebook, the *fastoad* package must be installed."
   ]
  },
  {
   "cell_type": "markdown",
   "metadata": {},
   "source": [
    "### Installation\n",
    "FAST requests at least Python 3.7 to be used. As of today, the package is available locally but will be in the future available on [PyPi](https://pypi.org/) to make it available through a simple *pip*.\n",
    "To install locally *fastoad* you must:\n",
    "1. Download the project **.zip** on the [Github repository](https://github.com/fast-aircraft-design/FAST-OAD)\n",
    "2. Unzip the project file\n",
    "3. In a terminal run:\n",
    "\n",
    "    `cd FAST-OAD-master`\n",
    "    \n",
    "    `pip install .`"
   ]
  },
  {
   "cell_type": "markdown",
   "metadata": {},
   "source": [
    "### Installation Test\n",
    "Run the following cell to attempt an import of the package and check if it is properly installed."
   ]
  },
  {
   "cell_type": "code",
   "execution_count": 1,
   "metadata": {},
   "outputs": [
    {
     "name": "stdout",
     "output_type": "stream",
     "text": [
      "Unable to import mpi4py. Parallel processing unavailable.\n"
     ]
    },
    {
     "name": "stderr",
     "output_type": "stream",
     "text": [
      "Cannot register factory 'fastoad.propulsion.rubber_engine' of bundle 170 (fastoad.modules.propulsion.fuel_engine.rubber_engine.openmdao): 'fastoad.propulsion.rubber_engine' factory already exist\n",
      "class: <class 'fastoad.modules.propulsion.fuel_engine.rubber_engine.openmdao.OMRubberEngine'> -- module: fastoad.modules.propulsion.fuel_engine.rubber_engine.openmdao\n",
      "Cannot register factory 'fastoad.aerodynamics.legacy' of bundle 35 (fastoad.modules.aerodynamics.aerodynamics): 'fastoad.aerodynamics.legacy' factory already exist\n",
      "class: <class 'fastoad.modules.aerodynamics.aerodynamics.Aerodynamics'> -- module: fastoad.modules.aerodynamics.aerodynamics\n",
      "Cannot register factory 'fastoad.weights.legacy' of bundle 157 (fastoad.modules.mass_breakdown.mass_breakdown): 'fastoad.weights.legacy' factory already exist\n",
      "class: <class 'fastoad.modules.mass_breakdown.mass_breakdown.MassBreakdown'> -- module: fastoad.modules.mass_breakdown.mass_breakdown\n",
      "Cannot register factory 'fastoad.aerodynamics.highspeed.legacy' of bundle 37 (fastoad.modules.aerodynamics.aerodynamics_high_speed): 'fastoad.aerodynamics.highspeed.legacy' factory already exist\n",
      "class: <class 'fastoad.modules.aerodynamics.aerodynamics_high_speed.AerodynamicsHighSpeed'> -- module: fastoad.modules.aerodynamics.aerodynamics_high_speed\n",
      "Cannot register factory 'fastoad.performances.breguet' of bundle 162 (fastoad.modules.performances.breguet): 'fastoad.performances.breguet' factory already exist\n",
      "class: <class 'fastoad.modules.performances.breguet.Breguet'> -- module: fastoad.modules.performances.breguet\n",
      "Cannot register factory 'fastoad.performances.breguet.implicit' of bundle 162 (fastoad.modules.performances.breguet): 'fastoad.performances.breguet.implicit' factory already exist\n",
      "class: <class 'fastoad.modules.performances.breguet.ImplicitBreguet'> -- module: fastoad.modules.performances.breguet\n",
      "Cannot register factory 'fastoad.geometry.legacy' of bundle 124 (fastoad.modules.geometry.geometry): 'fastoad.geometry.legacy' factory already exist\n",
      "class: <class 'fastoad.modules.geometry.geometry.Geometry'> -- module: fastoad.modules.geometry.geometry\n"
     ]
    }
   ],
   "source": [
    "import fastoad"
   ]
  },
  {
   "cell_type": "markdown",
   "metadata": {},
   "source": [
    "## 2. Working with user files"
   ]
  },
  {
   "cell_type": "markdown",
   "metadata": {},
   "source": [
    "The FAST-OAD environment uses two types of user files:\n",
    "\n",
    "* Configuration files (**.toml**):\n",
    "\n",
    "    FastProblem instances require a configuration file. The configuration file uses the .toml synthax. It this file the user defines:\n",
    "\n",
    "    1 - Path to search disciplinary modules\n",
    "```toml\n",
    "module_folders = []\n",
    "```\n",
    "\n",
    "\n",
    "    The actual path is empty since the native modules of FAST-OAD are already made available. However, if the user wants to integrate his own modules he must specify the path to the folder that contains the modules.\n",
    "\n",
    "    2 - Inputs and outputs filenames\n",
    "```toml\n",
    "input_file = \"../outputs/oad_process_inputs.xml\"\n",
    "output_file = \"../outputs/oad_process_outputs.xml\"\n",
    "```\n",
    "\n",
    "\n",
    "    The input file contains the global inputs values required to run all the model.\n",
    "    The output file contains all the variables (inputs + outputs) values obtained after a model run.\n",
    "\n",
    "    3 - The system level structure of the model\n",
    "```toml\n",
    "[model]\n",
    "    nonlinear_solver = \"om.NonlinearBlockGS(maxiter=100, iprint=0)\"\n",
    "    linear_solver = \"om.ScipyKrylov()\"\n",
    "    [model.geometry]\n",
    "        id = \"fastoad.geometry.legacy\"\n",
    "    [model.aerodynamics]\n",
    "        id = \"fastoad.aerodynamics.highspeed.legacy\"\n",
    "    [model.performance_loop]\n",
    "        nonlinear_solver = \"om.NonlinearBlockGS(iprint=0)\"\n",
    "        [model.performance_loop.performance]\n",
    "            id = \"fastoad.performances.breguet.implicit\"\n",
    "        [model.performance_loop.sizing_loop.propulsion]\n",
    "            id = \"fastoad.propulsion.rubber_engine\"\n",
    "```\n",
    "\n",
    "\n",
    "    4 - The parameters of the optimization problem\n",
    "\n",
    "* System variables files (**.xml**):\n",
    "\n",
    "    These file regroup the information of the variables involved in the system model. There are two types of system variables files:\n",
    "    \n",
    "    1 - INPUT_FILE: The input file contains the global inputs values required to run all the model. The user is free to modify the values of the variables in order that these new values are considered during a model run.\n",
    "    \n",
    "    2 - OUTPUT_FILE: The output file contains all the variables (inputs + outputs) values obtained after a model run.\n",
    "    "
   ]
  },
  {
   "cell_type": "markdown",
   "metadata": {},
   "source": [
    "![User Files](./img/user_files_arch.svg \"User Files Architecture\")"
   ]
  },
  {
   "cell_type": "code",
   "execution_count": 1,
   "metadata": {},
   "outputs": [
    {
     "name": "stdout",
     "output_type": "stream",
     "text": [
      "Unable to import mpi4py. Parallel processing unavailable.\n"
     ]
    },
    {
     "name": "stderr",
     "output_type": "stream",
     "text": [
      "Cannot register factory 'fastoad.geometry.legacy' of bundle 124 (fastoad.modules.geometry.geometry): 'fastoad.geometry.legacy' factory already exist\n",
      "class: <class 'fastoad.modules.geometry.geometry.Geometry'> -- module: fastoad.modules.geometry.geometry\n",
      "Cannot register factory 'fastoad.weights.legacy' of bundle 157 (fastoad.modules.mass_breakdown.mass_breakdown): 'fastoad.weights.legacy' factory already exist\n",
      "class: <class 'fastoad.modules.mass_breakdown.mass_breakdown.MassBreakdown'> -- module: fastoad.modules.mass_breakdown.mass_breakdown\n",
      "Cannot register factory 'fastoad.performances.breguet' of bundle 162 (fastoad.modules.performances.breguet): 'fastoad.performances.breguet' factory already exist\n",
      "class: <class 'fastoad.modules.performances.breguet.Breguet'> -- module: fastoad.modules.performances.breguet\n",
      "Cannot register factory 'fastoad.performances.breguet.implicit' of bundle 162 (fastoad.modules.performances.breguet): 'fastoad.performances.breguet.implicit' factory already exist\n",
      "class: <class 'fastoad.modules.performances.breguet.ImplicitBreguet'> -- module: fastoad.modules.performances.breguet\n",
      "Cannot register factory 'fastoad.aerodynamics.legacy' of bundle 35 (fastoad.modules.aerodynamics.aerodynamics): 'fastoad.aerodynamics.legacy' factory already exist\n",
      "class: <class 'fastoad.modules.aerodynamics.aerodynamics.Aerodynamics'> -- module: fastoad.modules.aerodynamics.aerodynamics\n",
      "Cannot register factory 'fastoad.aerodynamics.highspeed.legacy' of bundle 37 (fastoad.modules.aerodynamics.aerodynamics_high_speed): 'fastoad.aerodynamics.highspeed.legacy' factory already exist\n",
      "class: <class 'fastoad.modules.aerodynamics.aerodynamics_high_speed.AerodynamicsHighSpeed'> -- module: fastoad.modules.aerodynamics.aerodynamics_high_speed\n",
      "Cannot register factory 'fastoad.propulsion.rubber_engine' of bundle 170 (fastoad.modules.propulsion.fuel_engine.rubber_engine.openmdao): 'fastoad.propulsion.rubber_engine' factory already exist\n",
      "class: <class 'fastoad.modules.propulsion.fuel_engine.rubber_engine.openmdao.OMRubberEngine'> -- module: fastoad.modules.propulsion.fuel_engine.rubber_engine.openmdao\n",
      "d:\\users\\s.delbecq\\appdata\\local\\programs\\python\\envs\\lib\\site-packages\\openmdao\\core\\group.py:1091: UserWarning:ComputeGlobalCG (geometry.geometry.get_cg.compute_cg): Output 'geometry.geometry.get_cg.compute_cg.cg_ratio_aft.cg_all.x_cg_plane_up' with units of 'm' is connected to input 'geometry.geometry.get_cg.compute_cg.cg_ratio_lc1.x_cg_plane_up' which has no units.\n",
      "d:\\users\\s.delbecq\\appdata\\local\\programs\\python\\envs\\lib\\site-packages\\openmdao\\core\\group.py:1091: UserWarning:ComputeGlobalCG (geometry.geometry.get_cg.compute_cg): Output 'geometry.geometry.get_cg.compute_cg.cg_ratio_aft.cg_all.x_cg_plane_up' with units of 'm' is connected to input 'geometry.geometry.get_cg.compute_cg.cg_ratio_lc2.x_cg_plane_up' which has no units.\n",
      "d:\\users\\s.delbecq\\appdata\\local\\programs\\python\\envs\\lib\\site-packages\\openmdao\\core\\group.py:1091: UserWarning:ComputeGlobalCG (geometry.geometry.get_cg.compute_cg): Output 'geometry.geometry.get_cg.compute_cg.cg_ratio_aft.cg_all.x_cg_plane_up' with units of 'm' is connected to input 'geometry.geometry.get_cg.compute_cg.cg_ratio_lc3.x_cg_plane_up' which has no units.\n",
      "d:\\users\\s.delbecq\\appdata\\local\\programs\\python\\envs\\lib\\site-packages\\openmdao\\core\\group.py:1091: UserWarning:ComputeGlobalCG (geometry.geometry.get_cg.compute_cg): Output 'geometry.geometry.get_cg.compute_cg.cg_ratio_aft.cg_all.x_cg_plane_up' with units of 'm' is connected to input 'geometry.geometry.get_cg.compute_cg.cg_ratio_lc4.x_cg_plane_up' which has no units.\n",
      "d:\\users\\s.delbecq\\appdata\\local\\programs\\python\\envs\\lib\\site-packages\\openmdao\\core\\group.py:1091: UserWarning:ComputeGlobalCG (geometry.geometry.get_cg.compute_cg): Output 'geometry.geometry.get_cg.compute_cg.cg_ratio_aft.cg_all.x_cg_plane_down' with units of 'm' is connected to input 'geometry.geometry.get_cg.compute_cg.cg_ratio_lc1.x_cg_plane_down' which has no units.\n",
      "d:\\users\\s.delbecq\\appdata\\local\\programs\\python\\envs\\lib\\site-packages\\openmdao\\core\\group.py:1091: UserWarning:ComputeGlobalCG (geometry.geometry.get_cg.compute_cg): Output 'geometry.geometry.get_cg.compute_cg.cg_ratio_aft.cg_all.x_cg_plane_down' with units of 'm' is connected to input 'geometry.geometry.get_cg.compute_cg.cg_ratio_lc2.x_cg_plane_down' which has no units.\n",
      "d:\\users\\s.delbecq\\appdata\\local\\programs\\python\\envs\\lib\\site-packages\\openmdao\\core\\group.py:1091: UserWarning:ComputeGlobalCG (geometry.geometry.get_cg.compute_cg): Output 'geometry.geometry.get_cg.compute_cg.cg_ratio_aft.cg_all.x_cg_plane_down' with units of 'm' is connected to input 'geometry.geometry.get_cg.compute_cg.cg_ratio_lc3.x_cg_plane_down' which has no units.\n",
      "d:\\users\\s.delbecq\\appdata\\local\\programs\\python\\envs\\lib\\site-packages\\openmdao\\core\\group.py:1091: UserWarning:ComputeGlobalCG (geometry.geometry.get_cg.compute_cg): Output 'geometry.geometry.get_cg.compute_cg.cg_ratio_aft.cg_all.x_cg_plane_down' with units of 'm' is connected to input 'geometry.geometry.get_cg.compute_cg.cg_ratio_lc4.x_cg_plane_down' which has no units.\n"
     ]
    }
   ],
   "source": [
    "import os.path as pth\n",
    "import openmdao.api as om\n",
    "from fastoad.cmd.api import FastProblem\n",
    "\n",
    "DATA_FOLDER_PATH = pth.join(pth.abspath(''), 'data')\n",
    "RESULTS_FOLDER_PATH = pth.join(pth.abspath(''), 'outputs')\n",
    "\n",
    "CONFIGURATION_FILE = pth.join(DATA_FOLDER_PATH, 'oad_process.toml')\n",
    "REF_VALUES_FILE = pth.join(DATA_FOLDER_PATH, 'CeRAS01_baseline.xml')\n",
    "\n",
    "problem = FastProblem(CONFIGURATION_FILE)"
   ]
  },
  {
   "cell_type": "code",
   "execution_count": null,
   "metadata": {},
   "outputs": [],
   "source": [
    "problem.gen_inputs()"
   ]
  },
  {
   "cell_type": "code",
   "execution_count": 3,
   "metadata": {},
   "outputs": [
    {
     "name": "stderr",
     "output_type": "stream",
     "text": [
      "The xpath Aircraft/propulsion/conventional/k_factors/k_SFC does not have any variable affected in the translator.\n",
      "The xpath Aircraft/propulsion/conventional/k_factors/k_corr does not have any variable affected in the translator.\n",
      "The xpath Aircraft/propulsion/conventional/k_factors/k_co2 does not have any variable affected in the translator.\n"
     ]
    }
   ],
   "source": [
    "problem.gen_inputs_from_legacy(REF_VALUES_FILE)"
   ]
  },
  {
   "cell_type": "code",
   "execution_count": 4,
   "metadata": {},
   "outputs": [
    {
     "data": {
      "text/html": [
       "\n",
       "        <iframe\n",
       "            width=\"100%\"\n",
       "            height=\"500px\"\n",
       "            src=\"D:\\s.delbecq\\Documents\\dev\\FAST-OAD\\notebooks\\tutorial\\outputs\\n2.html\"\n",
       "            frameborder=\"0\"\n",
       "            allowfullscreen\n",
       "        ></iframe>\n",
       "        "
      ],
      "text/plain": [
       "<IPython.lib.display.IFrame at 0x20f74d10fc8>"
      ]
     },
     "execution_count": 4,
     "metadata": {},
     "output_type": "execute_result"
    }
   ],
   "source": [
    "N2_FILE = pth.join(RESULTS_FOLDER_PATH, 'n2.html')\n",
    "om.n2(problem, outfile=N2_FILE, show_browser=False)\n",
    "from IPython.display import IFrame\n",
    "IFrame(src=N2_FILE, width='100%', height='500px')"
   ]
  },
  {
   "cell_type": "code",
   "execution_count": 5,
   "metadata": {},
   "outputs": [
    {
     "name": "stdout",
     "output_type": "stream",
     "text": [
      "XDSM output file written to: D:/s.delbecq/Documents/dev/FAST-OAD/notebooks/tutorial/outputs/xdsm.html\n"
     ]
    },
    {
     "data": {
      "text/html": [
       "\n",
       "        <iframe\n",
       "            width=\"100%\"\n",
       "            height=\"500px\"\n",
       "            src=\"D:\\s.delbecq\\Documents\\dev\\FAST-OAD\\notebooks\\tutorial\\outputs\\xdsm.html\"\n",
       "            frameborder=\"0\"\n",
       "            allowfullscreen\n",
       "        ></iframe>\n",
       "        "
      ],
      "text/plain": [
       "<IPython.lib.display.IFrame at 0x2353b20ff88>"
      ]
     },
     "execution_count": 5,
     "metadata": {},
     "output_type": "execute_result"
    }
   ],
   "source": [
    "XDSM_FILE = pth.join(RESULTS_FOLDER_PATH, 'xdsm')\n",
    "om.write_xdsm(problem, XDSM_FILE, out_format='html', show_browser=False)\n",
    "\n",
    "from IPython.display import IFrame\n",
    "IFrame(src=XDSM_FILE+'.html', width='100%', height='500px')"
   ]
  },
  {
   "cell_type": "markdown",
   "metadata": {},
   "source": [
    "## 3. Running your first MDA"
   ]
  },
  {
   "cell_type": "code",
   "execution_count": 2,
   "metadata": {},
   "outputs": [
    {
     "name": "stdout",
     "output_type": "stream",
     "text": [
      "|  NL: NLBGSSolver 'NL: NLBGS' on system 'performance_loop': residuals contain 'inf' or 'NaN' after 0 iterations.\n",
      "NL: NLBGSSolver 'NL: NLBGS' on system '': residuals contain 'inf' or 'NaN' after 0 iterations.\n"
     ]
    },
    {
     "name": "stderr",
     "output_type": "stream",
     "text": [
      "d:\\s.delbecq\\documents\\dev\\fast-oad\\src\\fastoad\\modules\\performances\\breguet.py:203: RuntimeWarning:\n",
      "\n",
      "overflow encountered in exp\n",
      "\n",
      "d:\\s.delbecq\\documents\\dev\\fast-oad\\src\\fastoad\\modules\\propulsion\\fuel_engine\\rubber_engine\\rubber_engine.py:515: RuntimeWarning:\n",
      "\n",
      "invalid value encountered in less\n",
      "\n",
      "d:\\s.delbecq\\documents\\dev\\fast-oad\\src\\fastoad\\modules\\propulsion\\fuel_engine\\rubber_engine\\rubber_engine.py:518: RuntimeWarning:\n",
      "\n",
      "invalid value encountered in greater\n",
      "\n"
     ]
    }
   ],
   "source": [
    "# problem.set_solver_print(level=2)\n",
    "problem.run_eval()"
   ]
  },
  {
   "cell_type": "markdown",
   "metadata": {},
   "source": [
    "## 4. Running your first MDO"
   ]
  },
  {
   "cell_type": "code",
   "execution_count": 3,
   "metadata": {},
   "outputs": [
    {
     "ename": "RuntimeError",
     "evalue": "Driver requires objective to be declared",
     "output_type": "error",
     "traceback": [
      "\u001b[1;31m---------------------------------------------------------------------------\u001b[0m",
      "\u001b[1;31mRuntimeError\u001b[0m                              Traceback (most recent call last)",
      "\u001b[1;32m<ipython-input-3-281a2d0e0ebb>\u001b[0m in \u001b[0;36m<module>\u001b[1;34m\u001b[0m\n\u001b[0;32m      1\u001b[0m \u001b[1;31m# problem.set_solver_print(level=2)\u001b[0m\u001b[1;33m\u001b[0m\u001b[1;33m\u001b[0m\u001b[1;33m\u001b[0m\u001b[0m\n\u001b[1;32m----> 2\u001b[1;33m \u001b[0mproblem\u001b[0m\u001b[1;33m.\u001b[0m\u001b[0mrun_optim\u001b[0m\u001b[1;33m(\u001b[0m\u001b[1;33m)\u001b[0m\u001b[1;33m\u001b[0m\u001b[1;33m\u001b[0m\u001b[0m\n\u001b[0m",
      "\u001b[1;32md:\\s.delbecq\\documents\\dev\\fast-oad\\src\\fastoad\\cmd\\api.py\u001b[0m in \u001b[0;36mrun_optim\u001b[1;34m(self)\u001b[0m\n\u001b[0;32m     42\u001b[0m     \u001b[1;32mdef\u001b[0m \u001b[0mrun_optim\u001b[0m\u001b[1;33m(\u001b[0m\u001b[0mself\u001b[0m\u001b[1;33m)\u001b[0m\u001b[1;33m:\u001b[0m\u001b[1;33m\u001b[0m\u001b[1;33m\u001b[0m\u001b[0m\n\u001b[0;32m     43\u001b[0m         \u001b[0mself\u001b[0m\u001b[1;33m.\u001b[0m\u001b[0mread_inputs\u001b[0m\u001b[1;33m(\u001b[0m\u001b[1;33m)\u001b[0m\u001b[1;33m\u001b[0m\u001b[1;33m\u001b[0m\u001b[0m\n\u001b[1;32m---> 44\u001b[1;33m         \u001b[0mself\u001b[0m\u001b[1;33m.\u001b[0m\u001b[0mrun_driver\u001b[0m\u001b[1;33m(\u001b[0m\u001b[1;33m)\u001b[0m\u001b[1;33m\u001b[0m\u001b[1;33m\u001b[0m\u001b[0m\n\u001b[0m\u001b[0;32m     45\u001b[0m         \u001b[0mself\u001b[0m\u001b[1;33m.\u001b[0m\u001b[0mwrite_outputs\u001b[0m\u001b[1;33m(\u001b[0m\u001b[1;33m)\u001b[0m\u001b[1;33m\u001b[0m\u001b[1;33m\u001b[0m\u001b[0m\n",
      "\u001b[1;32md:\\users\\s.delbecq\\appdata\\local\\programs\\python\\envs\\lib\\site-packages\\openmdao\\core\\problem.py\u001b[0m in \u001b[0;36mrun_driver\u001b[1;34m(self, case_prefix, reset_iter_counts)\u001b[0m\n\u001b[0;32m    661\u001b[0m         \u001b[0mself\u001b[0m\u001b[1;33m.\u001b[0m\u001b[0mfinal_setup\u001b[0m\u001b[1;33m(\u001b[0m\u001b[1;33m)\u001b[0m\u001b[1;33m\u001b[0m\u001b[1;33m\u001b[0m\u001b[0m\n\u001b[0;32m    662\u001b[0m         \u001b[0mself\u001b[0m\u001b[1;33m.\u001b[0m\u001b[0mmodel\u001b[0m\u001b[1;33m.\u001b[0m\u001b[0m_clear_iprint\u001b[0m\u001b[1;33m(\u001b[0m\u001b[1;33m)\u001b[0m\u001b[1;33m\u001b[0m\u001b[1;33m\u001b[0m\u001b[0m\n\u001b[1;32m--> 663\u001b[1;33m         \u001b[1;32mreturn\u001b[0m \u001b[0mself\u001b[0m\u001b[1;33m.\u001b[0m\u001b[0mdriver\u001b[0m\u001b[1;33m.\u001b[0m\u001b[0mrun\u001b[0m\u001b[1;33m(\u001b[0m\u001b[1;33m)\u001b[0m\u001b[1;33m\u001b[0m\u001b[1;33m\u001b[0m\u001b[0m\n\u001b[0m\u001b[0;32m    664\u001b[0m \u001b[1;33m\u001b[0m\u001b[0m\n\u001b[0;32m    665\u001b[0m     \u001b[1;32mdef\u001b[0m \u001b[0mcompute_jacvec_product\u001b[0m\u001b[1;33m(\u001b[0m\u001b[0mself\u001b[0m\u001b[1;33m,\u001b[0m \u001b[0mof\u001b[0m\u001b[1;33m,\u001b[0m \u001b[0mwrt\u001b[0m\u001b[1;33m,\u001b[0m \u001b[0mmode\u001b[0m\u001b[1;33m,\u001b[0m \u001b[0mseed\u001b[0m\u001b[1;33m)\u001b[0m\u001b[1;33m:\u001b[0m\u001b[1;33m\u001b[0m\u001b[1;33m\u001b[0m\u001b[0m\n",
      "\u001b[1;32md:\\users\\s.delbecq\\appdata\\local\\programs\\python\\envs\\lib\\site-packages\\openmdao\\drivers\\scipy_optimizer.py\u001b[0m in \u001b[0;36mrun\u001b[1;34m(self)\u001b[0m\n\u001b[0;32m    241\u001b[0m         \u001b[0mself\u001b[0m\u001b[1;33m.\u001b[0m\u001b[0m_total_jac\u001b[0m \u001b[1;33m=\u001b[0m \u001b[1;32mNone\u001b[0m\u001b[1;33m\u001b[0m\u001b[1;33m\u001b[0m\u001b[0m\n\u001b[0;32m    242\u001b[0m \u001b[1;33m\u001b[0m\u001b[0m\n\u001b[1;32m--> 243\u001b[1;33m         \u001b[0mself\u001b[0m\u001b[1;33m.\u001b[0m\u001b[0m_check_for_missing_objective\u001b[0m\u001b[1;33m(\u001b[0m\u001b[1;33m)\u001b[0m\u001b[1;33m\u001b[0m\u001b[1;33m\u001b[0m\u001b[0m\n\u001b[0m\u001b[0;32m    244\u001b[0m \u001b[1;33m\u001b[0m\u001b[0m\n\u001b[0;32m    245\u001b[0m         \u001b[1;31m# Initial Run\u001b[0m\u001b[1;33m\u001b[0m\u001b[1;33m\u001b[0m\u001b[1;33m\u001b[0m\u001b[0m\n",
      "\u001b[1;32md:\\users\\s.delbecq\\appdata\\local\\programs\\python\\envs\\lib\\site-packages\\openmdao\\core\\driver.py\u001b[0m in \u001b[0;36m_check_for_missing_objective\u001b[1;34m(self)\u001b[0m\n\u001b[0;32m    318\u001b[0m         \u001b[1;32mif\u001b[0m \u001b[0mlen\u001b[0m\u001b[1;33m(\u001b[0m\u001b[0mself\u001b[0m\u001b[1;33m.\u001b[0m\u001b[0m_objs\u001b[0m\u001b[1;33m)\u001b[0m \u001b[1;33m==\u001b[0m \u001b[1;36m0\u001b[0m\u001b[1;33m:\u001b[0m\u001b[1;33m\u001b[0m\u001b[1;33m\u001b[0m\u001b[0m\n\u001b[0;32m    319\u001b[0m             \u001b[0mmsg\u001b[0m \u001b[1;33m=\u001b[0m \u001b[1;34m\"Driver requires objective to be declared\"\u001b[0m\u001b[1;33m\u001b[0m\u001b[1;33m\u001b[0m\u001b[0m\n\u001b[1;32m--> 320\u001b[1;33m             \u001b[1;32mraise\u001b[0m \u001b[0mRuntimeError\u001b[0m\u001b[1;33m(\u001b[0m\u001b[0mmsg\u001b[0m\u001b[1;33m)\u001b[0m\u001b[1;33m\u001b[0m\u001b[1;33m\u001b[0m\u001b[0m\n\u001b[0m\u001b[0;32m    321\u001b[0m \u001b[1;33m\u001b[0m\u001b[0m\n\u001b[0;32m    322\u001b[0m     \u001b[1;32mdef\u001b[0m \u001b[0m_get_vars_to_record\u001b[0m\u001b[1;33m(\u001b[0m\u001b[0mself\u001b[0m\u001b[1;33m,\u001b[0m \u001b[0mrecording_options\u001b[0m\u001b[1;33m)\u001b[0m\u001b[1;33m:\u001b[0m\u001b[1;33m\u001b[0m\u001b[1;33m\u001b[0m\u001b[0m\n",
      "\u001b[1;31mRuntimeError\u001b[0m: Driver requires objective to be declared"
     ]
    }
   ],
   "source": [
    "# problem.set_solver_print(level=2)\n",
    "problem.run_optim()"
   ]
  },
  {
   "cell_type": "code",
   "execution_count": null,
   "metadata": {},
   "outputs": [],
   "source": []
  }
 ],
 "metadata": {
  "kernelspec": {
   "display_name": "Python 3",
   "language": "python",
   "name": "python3"
  },
  "language_info": {
   "codemirror_mode": {
    "name": "ipython",
    "version": 3
   },
   "file_extension": ".py",
   "mimetype": "text/x-python",
   "name": "python",
   "nbconvert_exporter": "python",
   "pygments_lexer": "ipython3",
   "version": "3.7.4"
  }
 },
 "nbformat": 4,
 "nbformat_minor": 4
}
