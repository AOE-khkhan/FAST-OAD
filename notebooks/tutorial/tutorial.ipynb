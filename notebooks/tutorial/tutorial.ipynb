{
 "cells": [
  {
   "cell_type": "markdown",
   "metadata": {},
   "source": [
    "![logo](./img/logo-onera.png \"Logo ONERA\") ![logo](./img/logo-ISAE_SUPAERO.png \"Logo ISAE-SUPAERO\") "
   ]
  },
  {
   "cell_type": "markdown",
   "metadata": {},
   "source": [
    "# FAST-OAD Tutorial"
   ]
  },
  {
   "cell_type": "markdown",
   "metadata": {},
   "source": [
    "FAST-OAD is a framework for performing rapid Overall Aircraft Design. The computational core of FAST-OAD is based on the  [OpenMDAO framework](https://openmdao.org/)."
   ]
  },
  {
   "cell_type": "markdown",
   "metadata": {},
   "source": [
    "## 1. Installation and import test\n",
    "In order to use this tutorial notebook, the *fastoad* package must be installed."
   ]
  },
  {
   "cell_type": "markdown",
   "metadata": {},
   "source": [
    "### Installation\n",
    "FAST requests at least Python 3.7 to be used. As of today, the package is available locally but will be in the future available on [PyPi](https://pypi.org/) to make it available through a simple *pip*.\n",
    "To install locally *fastoad* you must:\n",
    "1. Download the project **.zip** on the [Github repository](https://github.com/fast-aircraft-design/FAST-OAD)\n",
    "2. Unzip the project file\n",
    "3. In a terminal run:\n",
    "\n",
    "    `cd FAST-OAD-master`\n",
    "    \n",
    "    `pip install .`"
   ]
  },
  {
   "cell_type": "markdown",
   "metadata": {},
   "source": [
    "### Installation Test\n",
    "Run the following cell to attempt an import of the package and check if it is properly installed."
   ]
  },
  {
   "cell_type": "code",
   "execution_count": 1,
   "metadata": {},
   "outputs": [
    {
     "name": "stdout",
     "output_type": "stream",
     "text": [
      "Unable to import mpi4py. Parallel processing unavailable.\n"
     ]
    }
   ],
   "source": [
    "import fastoad"
   ]
  },
  {
   "cell_type": "markdown",
   "metadata": {},
   "source": [
    "## 2. Working with user files"
   ]
  },
  {
   "cell_type": "markdown",
   "metadata": {},
   "source": [
    "The FAST-OAD environment uses two types of user files:\n",
    "\n",
    "* Configuration files (**.toml**):\n",
    "\n",
    "    The configuration example file used for the tutorial can be found [here](./data/oad_process.toml).\n",
    "\n",
    "    FastProblem instances require a configuration file. The configuration file uses the .toml syntax. In this file the user defines:\n",
    "\n",
    "    1 - Path to search disciplinary modules\n",
    "```toml\n",
    "module_folders = []\n",
    "```\n",
    "\n",
    "\n",
    "    The actual path is empty since the native modules of FAST-OAD are already made available. However, if the user wants to integrate his own modules he must specify the path to the folder that contains the modules.\n",
    "\n",
    "    2 - Inputs and outputs filenames\n",
    "```toml\n",
    "input_file = \"../outputs/oad_process_inputs.xml\"\n",
    "output_file = \"../outputs/oad_process_outputs.xml\"\n",
    "```\n",
    "\n",
    "\n",
    "    The input file contains the global inputs values required to run all the model.\n",
    "    The output file contains all the variables (inputs + outputs) values obtained after a model run.\n",
    "\n",
    "    3 - The system level structure of the model\n",
    "```toml\n",
    "[model]\n",
    "    nonlinear_solver = \"om.NonlinearBlockGS(maxiter=100, iprint=0)\"\n",
    "    linear_solver = \"om.ScipyKrylov()\"\n",
    "    [model.geometry]\n",
    "        id = \"fastoad.geometry.legacy\"\n",
    "    [model.aerodynamics]\n",
    "        id = \"fastoad.aerodynamics.highspeed.legacy\"\n",
    "    [model.performance_loop]\n",
    "        nonlinear_solver = \"om.NonlinearBlockGS(iprint=0)\"\n",
    "        [model.performance_loop.performance]\n",
    "            id = \"fastoad.performances.breguet.implicit\"\n",
    "        [model.performance_loop.sizing_loop.propulsion]\n",
    "            id = \"fastoad.propulsion.rubber_engine\"\n",
    "```\n",
    "\n",
    "\n",
    "    4 - The parameters of the optimization problem\n",
    "\n",
    "* System variables files (**.xml**):\n",
    "\n",
    "    These file regroup the information of the variables involved in the system model. There are two types of system variables files:\n",
    "    \n",
    "    1 - INPUT_FILE: The input file contains the global inputs values required to run all the model. The user is free to modify the values of the variables in order that these new values are considered during a model run.\n",
    "    \n",
    "    2 - OUTPUT_FILE: The output file contains all the variables (inputs + outputs) values obtained after a model run.\n",
    "    "
   ]
  },
  {
   "cell_type": "markdown",
   "metadata": {},
   "source": [
    "![User Files](./img/user_files_arch.svg \"User Files Architecture\")"
   ]
  },
  {
   "cell_type": "code",
   "execution_count": 11,
   "metadata": {},
   "outputs": [],
   "source": [
    "import os.path as pth\n",
    "import openmdao.api as om\n",
    "from fastoad import api\n",
    "import logging\n",
    "\n",
    "DATA_FOLDER_PATH = 'data'\n",
    "WORK_FOLDER_PATH = 'workdir'\n",
    "\n",
    "CONFIGURATION_FILE = pth.join(WORK_FOLDER_PATH, 'oad_process.toml')\n",
    "REF_VALUES_FILE = pth.join(DATA_FOLDER_PATH, 'CeRAS01_baseline.xml')\n",
    "\n",
    "# For having log messages on screen\n",
    "logging.basicConfig(level=logging.INFO, format='%(levelname)-8s: %(message)s')"
   ]
  },
  {
   "cell_type": "code",
   "execution_count": 12,
   "metadata": {},
   "outputs": [
    {
     "name": "stderr",
     "output_type": "stream",
     "text": [
      "INFO    : Sample configuration written in workdir\\oad_process.toml\n"
     ]
    }
   ],
   "source": [
    "api.generate_configuration_file(CONFIGURATION_FILE, overwrite=True)"
   ]
  },
  {
   "cell_type": "code",
   "execution_count": 13,
   "metadata": {},
   "outputs": [
    {
     "name": "stderr",
     "output_type": "stream",
     "text": [
      "INFO    : Problem inputs written in D:\\cdavid\\PyCharmProjects\\FAST-OAD\\notebooks\\tutorial\\workdir\\problem_inputs.xml\n"
     ]
    }
   ],
   "source": [
    "api.generate_inputs(CONFIGURATION_FILE, REF_VALUES_FILE, overwrite=True)"
   ]
  },
  {
   "cell_type": "code",
   "execution_count": 14,
   "metadata": {},
   "outputs": [
    {
     "name": "stderr",
     "output_type": "stream",
     "text": [
      "INFO    : N2 diagram written in workdir\\n2.html\n"
     ]
    },
    {
     "name": "stdout",
     "output_type": "stream",
     "text": [
      "workdir\\n2.html\n"
     ]
    },
    {
     "data": {
      "text/html": [
       "\n",
       "        <iframe\n",
       "            width=\"100%\"\n",
       "            height=\"500px\"\n",
       "            src=\"workdir\\n2.html\"\n",
       "            frameborder=\"0\"\n",
       "            allowfullscreen\n",
       "        ></iframe>\n",
       "        "
      ],
      "text/plain": [
       "<IPython.lib.display.IFrame at 0x2d0e88d0>"
      ]
     },
     "execution_count": 14,
     "metadata": {},
     "output_type": "execute_result"
    }
   ],
   "source": [
    "N2_FILE = pth.join(WORK_FOLDER_PATH, 'n2.html')\n",
    "api.write_n2(CONFIGURATION_FILE, N2_FILE, overwrite=True)\n",
    "from IPython.display import IFrame\n",
    "print(N2_FILE)\n",
    "IFrame(src=N2_FILE, width='100%', height='500px')"
   ]
  },
  {
   "cell_type": "markdown",
   "metadata": {},
   "source": [
    "## 3. Running your first MDA"
   ]
  },
  {
   "cell_type": "code",
   "execution_count": 15,
   "metadata": {},
   "outputs": [
    {
     "name": "stdout",
     "output_type": "stream",
     "text": [
      "|  \n",
      "|  ==========\n",
      "|  perfo_loop\n",
      "|  ==========\n"
     ]
    },
    {
     "name": "stderr",
     "output_type": "stream",
     "text": [
      "d:\\cdavid\\pycharmprojects\\fast-oad\\src\\fastoad\\modules\\performances\\breguet.py:235: RuntimeWarning:\n",
      "\n",
      "overflow encountered in exp\n",
      "\n",
      "WARNING : MAX THRUST computation for T4 above 1600.0 may be unreliable.\n",
      "WARNING : SFC RATIO computation for thrust rate above 1.0 may be unreliable.\n"
     ]
    },
    {
     "name": "stdout",
     "output_type": "stream",
     "text": [
      "|  NL: NLBGSSolver 'NL: NLBGS' on system 'perfo_loop' failed to converge in 10 iterations.\n"
     ]
    },
    {
     "name": "stderr",
     "output_type": "stream",
     "text": [
      "WARNING : MAX THRUST computation for T4 above 1600.0 may be unreliable.\n",
      "WARNING : SFC RATIO computation for thrust rate above 1.0 may be unreliable.\n"
     ]
    },
    {
     "name": "stdout",
     "output_type": "stream",
     "text": [
      "|  \n",
      "|  ==========\n",
      "|  perfo_loop\n",
      "|  ==========\n",
      "|  NL: NLBGS Converged in 1 iterations\n"
     ]
    },
    {
     "name": "stderr",
     "output_type": "stream",
     "text": [
      "WARNING : MAX THRUST computation for T4 above 1600.0 may be unreliable.\n"
     ]
    },
    {
     "name": "stdout",
     "output_type": "stream",
     "text": [
      "|  \n",
      "|  ==========\n",
      "|  perfo_loop\n",
      "|  ==========\n",
      "|  NL: NLBGS Converged in 1 iterations\n"
     ]
    },
    {
     "name": "stderr",
     "output_type": "stream",
     "text": [
      "WARNING : MAX THRUST computation for T4 above 1600.0 may be unreliable.\n"
     ]
    },
    {
     "name": "stdout",
     "output_type": "stream",
     "text": [
      "|  \n",
      "|  ==========\n",
      "|  perfo_loop\n",
      "|  ==========\n",
      "|  NL: NLBGS Converged in 1 iterations\n"
     ]
    },
    {
     "name": "stderr",
     "output_type": "stream",
     "text": [
      "WARNING : MAX THRUST computation for T4 above 1600.0 may be unreliable.\n"
     ]
    },
    {
     "name": "stdout",
     "output_type": "stream",
     "text": [
      "|  \n",
      "|  ==========\n",
      "|  perfo_loop\n",
      "|  ==========\n",
      "|  NL: NLBGS Converged in 1 iterations\n"
     ]
    },
    {
     "name": "stderr",
     "output_type": "stream",
     "text": [
      "WARNING : MAX THRUST computation for T4 above 1600.0 may be unreliable.\n"
     ]
    },
    {
     "name": "stdout",
     "output_type": "stream",
     "text": [
      "|  \n",
      "|  ==========\n",
      "|  perfo_loop\n",
      "|  ==========\n",
      "|  NL: NLBGS Converged in 1 iterations\n"
     ]
    },
    {
     "name": "stderr",
     "output_type": "stream",
     "text": [
      "WARNING : MAX THRUST computation for T4 above 1600.0 may be unreliable.\n"
     ]
    },
    {
     "name": "stdout",
     "output_type": "stream",
     "text": [
      "|  \n",
      "|  ==========\n",
      "|  perfo_loop\n",
      "|  ==========\n",
      "|  NL: NLBGS Converged in 1 iterations\n"
     ]
    },
    {
     "name": "stderr",
     "output_type": "stream",
     "text": [
      "WARNING : MAX THRUST computation for T4 above 1600.0 may be unreliable.\n"
     ]
    },
    {
     "name": "stdout",
     "output_type": "stream",
     "text": [
      "|  \n",
      "|  ==========\n",
      "|  perfo_loop\n",
      "|  ==========\n",
      "|  NL: NLBGS Converged in 1 iterations\n"
     ]
    },
    {
     "name": "stderr",
     "output_type": "stream",
     "text": [
      "WARNING : MAX THRUST computation for T4 above 1600.0 may be unreliable.\n"
     ]
    },
    {
     "name": "stdout",
     "output_type": "stream",
     "text": [
      "|  \n",
      "|  ==========\n",
      "|  perfo_loop\n",
      "|  ==========\n",
      "|  NL: NLBGS Converged in 1 iterations\n"
     ]
    },
    {
     "name": "stderr",
     "output_type": "stream",
     "text": [
      "WARNING : MAX THRUST computation for T4 above 1600.0 may be unreliable.\n"
     ]
    },
    {
     "name": "stdout",
     "output_type": "stream",
     "text": [
      "|  \n",
      "|  ==========\n",
      "|  perfo_loop\n",
      "|  ==========\n",
      "|  NL: NLBGS Converged in 1 iterations\n"
     ]
    },
    {
     "name": "stderr",
     "output_type": "stream",
     "text": [
      "WARNING : MAX THRUST computation for T4 above 1600.0 may be unreliable.\n"
     ]
    },
    {
     "name": "stdout",
     "output_type": "stream",
     "text": [
      "|  \n",
      "|  ==========\n",
      "|  perfo_loop\n",
      "|  ==========\n",
      "|  NL: NLBGS Converged in 1 iterations\n"
     ]
    },
    {
     "name": "stderr",
     "output_type": "stream",
     "text": [
      "WARNING : MAX THRUST computation for T4 above 1600.0 may be unreliable.\n",
      "INFO    : Computation finished. Problem outputs written in D:\\cdavid\\PyCharmProjects\\FAST-OAD\\notebooks\\tutorial\\workdir\\problem_outputs.xml\n"
     ]
    },
    {
     "name": "stdout",
     "output_type": "stream",
     "text": [
      "|  \n",
      "|  ==========\n",
      "|  perfo_loop\n",
      "|  ==========\n",
      "|  NL: NLBGS Converged in 1 iterations\n",
      "NL: NLBGS Converged in 11 iterations\n"
     ]
    },
    {
     "data": {
      "text/plain": [
       "<fastoad.io.configuration.configuration.FASTOADProblem at 0x2ccc5828>"
      ]
     },
     "execution_count": 15,
     "metadata": {},
     "output_type": "execute_result"
    }
   ],
   "source": [
    "# problem.set_solver_print(level=2)\n",
    "api.evaluate_problem(CONFIGURATION_FILE, overwrite=True)"
   ]
  },
  {
   "cell_type": "markdown",
   "metadata": {},
   "source": [
    "## 4. Running your first MDO"
   ]
  },
  {
   "cell_type": "code",
   "execution_count": 6,
   "metadata": {},
   "outputs": [
    {
     "name": "stdout",
     "output_type": "stream",
     "text": [
      "|  \n",
      "|  ==========\n",
      "|  perfo_loop\n",
      "|  ==========\n"
     ]
    },
    {
     "name": "stderr",
     "output_type": "stream",
     "text": [
      "MAX THRUST computation for T4 above 1600.0 may be unreliable.\n",
      "SFC RATIO computation for thrust rate above 1.0 may be unreliable.\n"
     ]
    },
    {
     "name": "stdout",
     "output_type": "stream",
     "text": [
      "|  NL: NLBGSSolver 'NL: NLBGS' on system 'perfo_loop' failed to converge in 10 iterations.\n"
     ]
    },
    {
     "name": "stderr",
     "output_type": "stream",
     "text": [
      "MAX THRUST computation for T4 above 1600.0 may be unreliable.\n",
      "SFC RATIO computation for thrust rate above 1.0 may be unreliable.\n"
     ]
    },
    {
     "name": "stdout",
     "output_type": "stream",
     "text": [
      "|  \n",
      "|  ==========\n",
      "|  perfo_loop\n",
      "|  ==========\n",
      "|  NL: NLBGS Converged in 1 iterations\n"
     ]
    },
    {
     "name": "stderr",
     "output_type": "stream",
     "text": [
      "MAX THRUST computation for T4 above 1600.0 may be unreliable.\n"
     ]
    },
    {
     "name": "stdout",
     "output_type": "stream",
     "text": [
      "|  \n",
      "|  ==========\n",
      "|  perfo_loop\n",
      "|  ==========\n",
      "|  NL: NLBGS Converged in 1 iterations\n"
     ]
    },
    {
     "name": "stderr",
     "output_type": "stream",
     "text": [
      "MAX THRUST computation for T4 above 1600.0 may be unreliable.\n"
     ]
    },
    {
     "name": "stdout",
     "output_type": "stream",
     "text": [
      "|  \n",
      "|  ==========\n",
      "|  perfo_loop\n",
      "|  ==========\n",
      "|  NL: NLBGS Converged in 1 iterations\n"
     ]
    },
    {
     "name": "stderr",
     "output_type": "stream",
     "text": [
      "MAX THRUST computation for T4 above 1600.0 may be unreliable.\n"
     ]
    },
    {
     "name": "stdout",
     "output_type": "stream",
     "text": [
      "|  \n",
      "|  ==========\n",
      "|  perfo_loop\n",
      "|  ==========\n",
      "|  NL: NLBGS Converged in 1 iterations\n"
     ]
    },
    {
     "name": "stderr",
     "output_type": "stream",
     "text": [
      "MAX THRUST computation for T4 above 1600.0 may be unreliable.\n"
     ]
    },
    {
     "name": "stdout",
     "output_type": "stream",
     "text": [
      "|  \n",
      "|  ==========\n",
      "|  perfo_loop\n",
      "|  ==========\n",
      "|  NL: NLBGS Converged in 1 iterations\n"
     ]
    },
    {
     "name": "stderr",
     "output_type": "stream",
     "text": [
      "MAX THRUST computation for T4 above 1600.0 may be unreliable.\n"
     ]
    },
    {
     "name": "stdout",
     "output_type": "stream",
     "text": [
      "|  \n",
      "|  ==========\n",
      "|  perfo_loop\n",
      "|  ==========\n",
      "|  NL: NLBGS Converged in 1 iterations\n"
     ]
    },
    {
     "name": "stderr",
     "output_type": "stream",
     "text": [
      "MAX THRUST computation for T4 above 1600.0 may be unreliable.\n"
     ]
    },
    {
     "name": "stdout",
     "output_type": "stream",
     "text": [
      "|  \n",
      "|  ==========\n",
      "|  perfo_loop\n",
      "|  ==========\n",
      "|  NL: NLBGS Converged in 1 iterations\n"
     ]
    },
    {
     "name": "stderr",
     "output_type": "stream",
     "text": [
      "MAX THRUST computation for T4 above 1600.0 may be unreliable.\n"
     ]
    },
    {
     "name": "stdout",
     "output_type": "stream",
     "text": [
      "|  \n",
      "|  ==========\n",
      "|  perfo_loop\n",
      "|  ==========\n",
      "|  NL: NLBGS Converged in 1 iterations\n"
     ]
    },
    {
     "name": "stderr",
     "output_type": "stream",
     "text": [
      "MAX THRUST computation for T4 above 1600.0 may be unreliable.\n"
     ]
    },
    {
     "name": "stdout",
     "output_type": "stream",
     "text": [
      "|  \n",
      "|  ==========\n",
      "|  perfo_loop\n",
      "|  ==========\n",
      "|  NL: NLBGS Converged in 1 iterations\n"
     ]
    },
    {
     "name": "stderr",
     "output_type": "stream",
     "text": [
      "MAX THRUST computation for T4 above 1600.0 may be unreliable.\n"
     ]
    },
    {
     "name": "stdout",
     "output_type": "stream",
     "text": [
      "|  \n",
      "|  ==========\n",
      "|  perfo_loop\n",
      "|  ==========\n",
      "|  NL: NLBGS Converged in 1 iterations\n"
     ]
    },
    {
     "name": "stderr",
     "output_type": "stream",
     "text": [
      "MAX THRUST computation for T4 above 1600.0 may be unreliable.\n"
     ]
    },
    {
     "name": "stdout",
     "output_type": "stream",
     "text": [
      "|  \n",
      "|  ==========\n",
      "|  perfo_loop\n",
      "|  ==========\n",
      "|  NL: NLBGS Converged in 1 iterations\n",
      "NL: NLBGS Converged in 11 iterations\n"
     ]
    },
    {
     "data": {
      "text/plain": [
       "<fastoad.io.configuration.configuration.FASTOADProblem at 0x288e2dd8>"
      ]
     },
     "execution_count": 6,
     "metadata": {},
     "output_type": "execute_result"
    }
   ],
   "source": [
    "# problem.set_solver_print(level=2)\n",
    "api.optimize_problem(CONFIGURATION_FILE, overwrite=True)"
   ]
  },
  {
   "cell_type": "code",
   "execution_count": null,
   "metadata": {},
   "outputs": [],
   "source": []
  }
 ],
 "metadata": {
  "kernelspec": {
   "display_name": "Python 3",
   "language": "python",
   "name": "python3"
  },
  "language_info": {
   "codemirror_mode": {
    "name": "ipython",
    "version": 3
   },
   "file_extension": ".py",
   "mimetype": "text/x-python",
   "name": "python",
   "nbconvert_exporter": "python",
   "pygments_lexer": "ipython3",
   "version": "3.7.3"
  }
 },
 "nbformat": 4,
 "nbformat_minor": 4
}
