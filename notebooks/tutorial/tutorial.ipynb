{
 "cells": [
  {
   "cell_type": "markdown",
   "metadata": {},
   "source": [
    "![logo](./img/logo-onera.png \"Logo ONERA\") ![logo](./img/logo-ISAE_SUPAERO.png \"Logo ISAE-SUPAERO\") "
   ]
  },
  {
   "cell_type": "markdown",
   "metadata": {},
   "source": [
    "# FAST-OAD Tutorial"
   ]
  },
  {
   "cell_type": "markdown",
   "metadata": {},
   "source": [
    "FAST-OAD is a framework for performing rapid Overall Aircraft Design. The computational core of FAST-OAD is based on the  [OpenMDAO framework](https://openmdao.org/)."
   ]
  },
  {
   "cell_type": "markdown",
   "metadata": {},
   "source": [
    "## 1. Installation and import test\n",
    "In order to use this tutorial notebook, the *fastoad* package must be installed."
   ]
  },
  {
   "cell_type": "markdown",
   "metadata": {},
   "source": [
    "### Installation\n",
    "FAST requests at least Python 3.7 to be used. As of today, the package is available locally but will be in the future available on [PyPi](https://pypi.org/) to make it available through a simple *pip*.\n",
    "To install locally *fastoad* you must:\n",
    "1. Download the project **.zip** on the [Github repository](https://github.com/fast-aircraft-design/FAST-OAD)\n",
    "2. Unzip the project file\n",
    "3. In a terminal run:\n",
    "\n",
    "    `cd FAST-OAD-master`\n",
    "    \n",
    "    `pip install .`"
   ]
  },
  {
   "cell_type": "markdown",
   "metadata": {},
   "source": [
    "### Installation Test\n",
    "Run the following cell to attempt an import of the package and check if it is properly installed."
   ]
  },
  {
   "cell_type": "code",
   "execution_count": 15,
   "metadata": {},
   "outputs": [],
   "source": [
    "import fastoad"
   ]
  },
  {
   "cell_type": "markdown",
   "metadata": {},
   "source": [
    "## 2. Working with user files"
   ]
  },
  {
   "cell_type": "markdown",
   "metadata": {},
   "source": [
    "The FAST-OAD environment uses two types of user files:\n",
    "\n",
    "* Configuration files (**.toml**):\n",
    "\n",
    "    The configuration example file used for the tutorial can be found [here](./data/oad_process.toml).\n",
    "\n",
    "    FastProblem instances require a configuration file. The configuration file uses the .toml syntax. In this file the user defines:\n",
    "\n",
    "    1 - Path to search disciplinary modules\n",
    "```toml\n",
    "module_folders = []\n",
    "```\n",
    "\n",
    "\n",
    "    The actual path is empty since the native modules of FAST-OAD are already made available. However, if the user wants to integrate his own modules he must specify the path to the folder that contains the modules.\n",
    "\n",
    "    2 - Inputs and outputs filenames\n",
    "```toml\n",
    "input_file = \"../outputs/oad_process_inputs.xml\"\n",
    "output_file = \"../outputs/oad_process_outputs.xml\"\n",
    "```\n",
    "\n",
    "\n",
    "    The input file contains the global inputs values required to run all the model.\n",
    "    The output file contains all the variables (inputs + outputs) values obtained after a model run.\n",
    "\n",
    "    3 - The system level structure of the model\n",
    "```toml\n",
    "[model]\n",
    "    nonlinear_solver = \"om.NonlinearBlockGS(maxiter=100, iprint=0)\"\n",
    "    linear_solver = \"om.ScipyKrylov()\"\n",
    "    [model.geometry]\n",
    "        id = \"fastoad.geometry.legacy\"\n",
    "    [model.aerodynamics]\n",
    "        id = \"fastoad.aerodynamics.highspeed.legacy\"\n",
    "    [model.performance_loop]\n",
    "        nonlinear_solver = \"om.NonlinearBlockGS(iprint=0)\"\n",
    "        [model.performance_loop.performance]\n",
    "            id = \"fastoad.performances.breguet.implicit\"\n",
    "        [model.performance_loop.sizing_loop.propulsion]\n",
    "            id = \"fastoad.propulsion.rubber_engine\"\n",
    "```\n",
    "\n",
    "\n",
    "    4 - The parameters of the optimization problem\n",
    "\n",
    "* System variables files (**.xml**):\n",
    "\n",
    "    These file regroup the information of the variables involved in the system model. There are two types of system variables files:\n",
    "    \n",
    "    1 - INPUT_FILE: The input file contains the global inputs values required to run all the model. The user is free to modify the values of the variables in order that these new values are considered during a model run.\n",
    "    \n",
    "    2 - OUTPUT_FILE: The output file contains all the variables (inputs + outputs) values obtained after a model run.\n",
    "    "
   ]
  },
  {
   "cell_type": "markdown",
   "metadata": {},
   "source": [
    "![User Files](./img/user_files_arch.svg \"User Files Architecture\")"
   ]
  },
  {
   "cell_type": "code",
   "execution_count": 24,
   "metadata": {},
   "outputs": [],
   "source": [
    "import os.path as pth\n",
    "import openmdao.api as om\n",
    "from fastoad.cmd.api import FastProblem\n",
    "\n",
    "DATA_FOLDER_PATH = 'data'\n",
    "RESULTS_FOLDER_PATH = 'outputs'\n",
    "\n",
    "CONFIGURATION_FILE = pth.join(DATA_FOLDER_PATH, 'oad_process.toml')\n",
    "REF_VALUES_FILE = pth.join(DATA_FOLDER_PATH, 'CeRAS01_baseline.xml')\n",
    "\n",
    "problem = FastProblem(CONFIGURATION_FILE)"
   ]
  },
  {
   "cell_type": "code",
   "execution_count": 25,
   "metadata": {},
   "outputs": [],
   "source": [
    "problem.gen_inputs()"
   ]
  },
  {
   "cell_type": "code",
   "execution_count": 26,
   "metadata": {},
   "outputs": [
    {
     "name": "stderr",
     "output_type": "stream",
     "text": [
      "The xpath Aircraft/propulsion/conventional/k_factors/k_SFC does not have any variable affected in the translator.\n",
      "The xpath Aircraft/propulsion/conventional/k_factors/k_corr does not have any variable affected in the translator.\n",
      "The xpath Aircraft/propulsion/conventional/k_factors/k_co2 does not have any variable affected in the translator.\n"
     ]
    }
   ],
   "source": [
    "problem.gen_inputs_from_legacy(REF_VALUES_FILE)"
   ]
  },
  {
   "cell_type": "code",
   "execution_count": 27,
   "metadata": {},
   "outputs": [
    {
     "name": "stdout",
     "output_type": "stream",
     "text": [
      "outputs\\n2.html\n"
     ]
    },
    {
     "data": {
      "text/html": [
       "\n",
       "        <iframe\n",
       "            width=\"100%\"\n",
       "            height=\"500px\"\n",
       "            src=\"outputs\\n2.html\"\n",
       "            frameborder=\"0\"\n",
       "            allowfullscreen\n",
       "        ></iframe>\n",
       "        "
      ],
      "text/plain": [
       "<IPython.lib.display.IFrame at 0x2cf21a58>"
      ]
     },
     "execution_count": 27,
     "metadata": {},
     "output_type": "execute_result"
    }
   ],
   "source": [
    "N2_FILE = pth.join(RESULTS_FOLDER_PATH, 'n2.html')\n",
    "om.n2(problem, outfile=N2_FILE, show_browser=False)\n",
    "from IPython.display import IFrame\n",
    "print(N2_FILE)\n",
    "IFrame(src=N2_FILE, width='100%', height='500px')"
   ]
  },
  {
   "cell_type": "code",
   "execution_count": 28,
   "metadata": {},
   "outputs": [
    {
     "name": "stdout",
     "output_type": "stream",
     "text": [
      "XDSM output file written to: outputs/xdsm.html\n"
     ]
    },
    {
     "data": {
      "text/html": [
       "\n",
       "        <iframe\n",
       "            width=\"100%\"\n",
       "            height=\"500px\"\n",
       "            src=\"outputs\\xdsm.html\"\n",
       "            frameborder=\"0\"\n",
       "            allowfullscreen\n",
       "        ></iframe>\n",
       "        "
      ],
      "text/plain": [
       "<IPython.lib.display.IFrame at 0x2b12c710>"
      ]
     },
     "execution_count": 28,
     "metadata": {},
     "output_type": "execute_result"
    }
   ],
   "source": [
    "XDSM_FILE = pth.join(RESULTS_FOLDER_PATH, 'xdsm')\n",
    "om.write_xdsm(problem, XDSM_FILE, out_format='html', show_browser=False)\n",
    "\n",
    "from IPython.display import IFrame\n",
    "IFrame(src=XDSM_FILE+'.html', width='100%', height='500px')"
   ]
  },
  {
   "cell_type": "markdown",
   "metadata": {},
   "source": [
    "## 3. Running your first MDA"
   ]
  },
  {
   "cell_type": "code",
   "execution_count": 29,
   "metadata": {},
   "outputs": [
    {
     "name": "stderr",
     "output_type": "stream",
     "text": [
      "D:\\cdavid\\PyCharmProjects\\FAST-OAD\\.venv\\lib\\site-packages\\openmdao\\core\\group.py:1100: UserWarning:Group (<model>): Input 'geometry.geometry.get_cg.compute_mass_breakdown.owe.flight_controls_weight.weight:airframe:flight_controls:mass:offset' with units of 'kg' is connected to output 'inputs.weight:airframe:flight_controls:mass:offset' which has no units.\n",
      "D:\\cdavid\\PyCharmProjects\\FAST-OAD\\.venv\\lib\\site-packages\\openmdao\\core\\group.py:1100: UserWarning:Group (<model>): Input 'geometry.geometry.get_cg.compute_mass_breakdown.owe.wing_weight.weight:airframe:wing:mass:offset' with units of 'kg' is connected to output 'inputs.weight:airframe:wing:mass:offset' which has no units.\n",
      "D:\\cdavid\\PyCharmProjects\\FAST-OAD\\.venv\\lib\\site-packages\\openmdao\\core\\group.py:1100: UserWarning:Group (<model>): Input 'geometry.geometry.get_cg.compute_mass_breakdown.owe.wing_weight.weight:airframe:wing:bending_sizing:mass:offset' with units of 'kg' is connected to output 'inputs.weight:airframe:wing:bending_sizing:mass:offset' which has no units.\n",
      "D:\\cdavid\\PyCharmProjects\\FAST-OAD\\.venv\\lib\\site-packages\\openmdao\\core\\group.py:1100: UserWarning:Group (<model>): Input 'geometry.geometry.get_cg.compute_mass_breakdown.owe.wing_weight.weight:airframe:wing:shear_sizing:mass:offset' with units of 'kg' is connected to output 'inputs.weight:airframe:wing:shear_sizing:mass:offset' which has no units.\n",
      "D:\\cdavid\\PyCharmProjects\\FAST-OAD\\.venv\\lib\\site-packages\\openmdao\\core\\group.py:1100: UserWarning:Group (<model>): Input 'geometry.geometry.get_cg.compute_mass_breakdown.owe.wing_weight.weight:airframe:wing:ribs:mass:offset' with units of 'kg' is connected to output 'inputs.weight:airframe:wing:ribs:mass:offset' which has no units.\n",
      "D:\\cdavid\\PyCharmProjects\\FAST-OAD\\.venv\\lib\\site-packages\\openmdao\\core\\group.py:1100: UserWarning:Group (<model>): Input 'geometry.geometry.get_cg.compute_mass_breakdown.owe.wing_weight.weight:airframe:wing:reinforcements:mass:offset' with units of 'kg' is connected to output 'inputs.weight:airframe:wing:reinforcements:mass:offset' which has no units.\n",
      "D:\\cdavid\\PyCharmProjects\\FAST-OAD\\.venv\\lib\\site-packages\\openmdao\\core\\group.py:1100: UserWarning:Group (<model>): Input 'geometry.geometry.get_cg.compute_mass_breakdown.owe.wing_weight.weight:airframe:wing:secondary_parts:mass:offset' with units of 'kg' is connected to output 'inputs.weight:airframe:wing:secondary_parts:mass:offset' which has no units.\n",
      "D:\\cdavid\\PyCharmProjects\\FAST-OAD\\.venv\\lib\\site-packages\\openmdao\\core\\group.py:1100: UserWarning:Group (<model>): Input 'geometry.geometry.get_cg.compute_mass_breakdown.owe.fuselage_weight.weight:airframe:fuselage:mass:offset' with units of 'kg' is connected to output 'inputs.weight:airframe:fuselage:mass:offset' which has no units.\n",
      "D:\\cdavid\\PyCharmProjects\\FAST-OAD\\.venv\\lib\\site-packages\\openmdao\\core\\group.py:1100: UserWarning:Group (<model>): Input 'geometry.geometry.get_cg.compute_mass_breakdown.owe.empennage_weight.weight:airframe:tail_plane:horizontal:mass:offset' with units of 'kg' is connected to output 'inputs.weight:airframe:tail_plane:horizontal:mass:offset' which has no units.\n",
      "D:\\cdavid\\PyCharmProjects\\FAST-OAD\\.venv\\lib\\site-packages\\openmdao\\core\\group.py:1100: UserWarning:Group (<model>): Input 'geometry.geometry.get_cg.compute_mass_breakdown.owe.empennage_weight.weight:airframe:tail_plane:vertical:mass:offset' with units of 'kg' is connected to output 'inputs.weight:airframe:tail_plane:vertical:mass:offset' which has no units.\n",
      "D:\\cdavid\\PyCharmProjects\\FAST-OAD\\.venv\\lib\\site-packages\\openmdao\\core\\group.py:1100: UserWarning:Group (<model>): Input 'geometry.geometry.get_cg.compute_mass_breakdown.owe.landing_gear_weight.weight:airframe:landing_gear:mass:offset' with units of 'kg' is connected to output 'inputs.weight:airframe:landing_gear:mass:offset' which has no units.\n",
      "D:\\cdavid\\PyCharmProjects\\FAST-OAD\\.venv\\lib\\site-packages\\openmdao\\core\\group.py:1100: UserWarning:Group (<model>): Input 'geometry.geometry.get_cg.compute_mass_breakdown.owe.pylons_weight.weight:airframe:pylon:mass:offset' with units of 'kg' is connected to output 'inputs.weight:airframe:pylon:mass:offset' which has no units.\n",
      "D:\\cdavid\\PyCharmProjects\\FAST-OAD\\.venv\\lib\\site-packages\\openmdao\\core\\group.py:1100: UserWarning:Group (<model>): Input 'geometry.geometry.get_cg.compute_mass_breakdown.owe.paint_weight.weight:airframe:paint:mass:offset' with units of 'kg' is connected to output 'inputs.weight:airframe:paint:mass:offset' which has no units.\n",
      "D:\\cdavid\\PyCharmProjects\\FAST-OAD\\.venv\\lib\\site-packages\\openmdao\\core\\group.py:1100: UserWarning:Group (<model>): Input 'geometry.geometry.get_cg.compute_mass_breakdown.owe.engines_weight.weight:propulsion:engine:mass:offset' with units of 'kg' is connected to output 'inputs.weight:propulsion:engine:mass:offset' which has no units.\n",
      "D:\\cdavid\\PyCharmProjects\\FAST-OAD\\.venv\\lib\\site-packages\\openmdao\\core\\group.py:1100: UserWarning:Group (<model>): Input 'geometry.geometry.get_cg.compute_mass_breakdown.owe.fuel_lines_weight.weight:propulsion:fuel_lines:mass:offset' with units of 'kg' is connected to output 'inputs.weight:propulsion:fuel_lines:mass:offset' which has no units.\n",
      "D:\\cdavid\\PyCharmProjects\\FAST-OAD\\.venv\\lib\\site-packages\\openmdao\\core\\group.py:1100: UserWarning:Group (<model>): Input 'geometry.geometry.get_cg.compute_mass_breakdown.owe.unconsumables_weight.weight:propulsion:unconsumables:mass:offset' with units of 'kg' is connected to output 'inputs.weight:propulsion:unconsumables:mass:offset' which has no units.\n",
      "D:\\cdavid\\PyCharmProjects\\FAST-OAD\\.venv\\lib\\site-packages\\openmdao\\core\\group.py:1100: UserWarning:Group (<model>): Input 'geometry.geometry.get_cg.compute_mass_breakdown.owe.power_systems_weight.weight:systems:power:auxiliary_power_unit:mass:offset' with units of 'kg' is connected to output 'inputs.weight:systems:power:auxiliary_power_unit:mass:offset' which has no units.\n",
      "D:\\cdavid\\PyCharmProjects\\FAST-OAD\\.venv\\lib\\site-packages\\openmdao\\core\\group.py:1100: UserWarning:Group (<model>): Input 'geometry.geometry.get_cg.compute_mass_breakdown.owe.power_systems_weight.weight:systems:power:electric_systems:mass:offset' with units of 'kg' is connected to output 'inputs.weight:systems:power:electric_systems:mass:offset' which has no units.\n",
      "D:\\cdavid\\PyCharmProjects\\FAST-OAD\\.venv\\lib\\site-packages\\openmdao\\core\\group.py:1100: UserWarning:Group (<model>): Input 'geometry.geometry.get_cg.compute_mass_breakdown.owe.power_systems_weight.weight:systems:power:hydraulic_systems:mass:offset' with units of 'kg' is connected to output 'inputs.weight:systems:power:hydraulic_systems:mass:offset' which has no units.\n",
      "D:\\cdavid\\PyCharmProjects\\FAST-OAD\\.venv\\lib\\site-packages\\openmdao\\core\\group.py:1100: UserWarning:Group (<model>): Input 'geometry.geometry.get_cg.compute_mass_breakdown.owe.life_support_systems_weight.weight:systems:life_support:mass:insulation:offset' with units of 'kg' is connected to output 'inputs.weight:systems:life_support:mass:insulation:offset' which has no units.\n",
      "D:\\cdavid\\PyCharmProjects\\FAST-OAD\\.venv\\lib\\site-packages\\openmdao\\core\\group.py:1100: UserWarning:Group (<model>): Input 'geometry.geometry.get_cg.compute_mass_breakdown.owe.life_support_systems_weight.weight:systems:life_support:mass:air_conditioning:offset' with units of 'kg' is connected to output 'inputs.weight:systems:life_support:mass:air_conditioning:offset' which has no units.\n",
      "D:\\cdavid\\PyCharmProjects\\FAST-OAD\\.venv\\lib\\site-packages\\openmdao\\core\\group.py:1100: UserWarning:Group (<model>): Input 'geometry.geometry.get_cg.compute_mass_breakdown.owe.life_support_systems_weight.weight:systems:life_support:mass:de-icing:offset' with units of 'kg' is connected to output 'inputs.weight:systems:life_support:mass:de-icing:offset' which has no units.\n",
      "D:\\cdavid\\PyCharmProjects\\FAST-OAD\\.venv\\lib\\site-packages\\openmdao\\core\\group.py:1100: UserWarning:Group (<model>): Input 'geometry.geometry.get_cg.compute_mass_breakdown.owe.life_support_systems_weight.weight:systems:life_support:mass:cabin_lighting:offset' with units of 'kg' is connected to output 'inputs.weight:systems:life_support:mass:cabin_lighting:offset' which has no units.\n",
      "D:\\cdavid\\PyCharmProjects\\FAST-OAD\\.venv\\lib\\site-packages\\openmdao\\core\\group.py:1100: UserWarning:Group (<model>): Input 'geometry.geometry.get_cg.compute_mass_breakdown.owe.life_support_systems_weight.weight:systems:life_support:mass:seats_crew_accomodation:offset' with units of 'kg' is connected to output 'inputs.weight:systems:life_support:mass:seats_crew_accomodation:offset' which has no units.\n",
      "D:\\cdavid\\PyCharmProjects\\FAST-OAD\\.venv\\lib\\site-packages\\openmdao\\core\\group.py:1100: UserWarning:Group (<model>): Input 'geometry.geometry.get_cg.compute_mass_breakdown.owe.life_support_systems_weight.weight:systems:life_support:mass:oxygen:offset' with units of 'kg' is connected to output 'inputs.weight:systems:life_support:mass:oxygen:offset' which has no units.\n",
      "D:\\cdavid\\PyCharmProjects\\FAST-OAD\\.venv\\lib\\site-packages\\openmdao\\core\\group.py:1100: UserWarning:Group (<model>): Input 'geometry.geometry.get_cg.compute_mass_breakdown.owe.life_support_systems_weight.weight:systems:life_support:mass:safety_equipment:offset' with units of 'kg' is connected to output 'inputs.weight:systems:life_support:mass:safety_equipment:offset' which has no units.\n",
      "D:\\cdavid\\PyCharmProjects\\FAST-OAD\\.venv\\lib\\site-packages\\openmdao\\core\\group.py:1100: UserWarning:Group (<model>): Input 'geometry.geometry.get_cg.compute_mass_breakdown.owe.navigation_systems_weight.weight:systems:navigation:mass:offset' with units of 'kg' is connected to output 'inputs.weight:systems:navigation:mass:offset' which has no units.\n",
      "D:\\cdavid\\PyCharmProjects\\FAST-OAD\\.venv\\lib\\site-packages\\openmdao\\core\\group.py:1100: UserWarning:Group (<model>): Input 'geometry.geometry.get_cg.compute_mass_breakdown.owe.transmission_systems_weight.weight:systems:transmission:mass:offset' with units of 'kg' is connected to output 'inputs.weight:systems:transmission:mass:offset' which has no units.\n",
      "D:\\cdavid\\PyCharmProjects\\FAST-OAD\\.venv\\lib\\site-packages\\openmdao\\core\\group.py:1100: UserWarning:Group (<model>): Input 'geometry.geometry.get_cg.compute_mass_breakdown.owe.fixed_operational_systems_weight.weight:systems:operational:mass:offset' with units of 'kg' is connected to output 'inputs.weight:systems:operational:mass:offset' which has no units.\n",
      "D:\\cdavid\\PyCharmProjects\\FAST-OAD\\.venv\\lib\\site-packages\\openmdao\\core\\group.py:1100: UserWarning:Group (<model>): Input 'geometry.geometry.get_cg.compute_mass_breakdown.owe.flight_kit_weight.weight:systems:flight_kit:mass:offset' with units of 'kg' is connected to output 'inputs.weight:systems:flight_kit:mass:offset' which has no units.\n",
      "D:\\cdavid\\PyCharmProjects\\FAST-OAD\\.venv\\lib\\site-packages\\openmdao\\core\\group.py:1100: UserWarning:Group (<model>): Input 'geometry.geometry.get_cg.compute_mass_breakdown.owe.cargo_configuration_weight.weight:furniture:cargo_configuration:mass:offset' with units of 'kg' is connected to output 'inputs.weight:furniture:cargo_configuration:mass:offset' which has no units.\n",
      "D:\\cdavid\\PyCharmProjects\\FAST-OAD\\.venv\\lib\\site-packages\\openmdao\\core\\group.py:1100: UserWarning:Group (<model>): Input 'geometry.geometry.get_cg.compute_mass_breakdown.owe.passenger_seats_weight.weight:furniture:passenger_seats:mass:offset' with units of 'kg' is connected to output 'inputs.weight:furniture:passenger_seats:mass:offset' which has no units.\n",
      "D:\\cdavid\\PyCharmProjects\\FAST-OAD\\.venv\\lib\\site-packages\\openmdao\\core\\group.py:1100: UserWarning:Group (<model>): Input 'geometry.geometry.get_cg.compute_mass_breakdown.owe.food_water_weight.weight:furniture:food_water:mass:offset' with units of 'kg' is connected to output 'inputs.weight:furniture:food_water:mass:offset' which has no units.\n",
      "D:\\cdavid\\PyCharmProjects\\FAST-OAD\\.venv\\lib\\site-packages\\openmdao\\core\\group.py:1100: UserWarning:Group (<model>): Input 'geometry.geometry.get_cg.compute_mass_breakdown.owe.security_kit_weight.weight:furniture:security_kit:mass:offset' with units of 'kg' is connected to output 'inputs.weight:furniture:security_kit:mass:offset' which has no units.\n",
      "D:\\cdavid\\PyCharmProjects\\FAST-OAD\\.venv\\lib\\site-packages\\openmdao\\core\\group.py:1100: UserWarning:Group (<model>): Input 'geometry.geometry.get_cg.compute_mass_breakdown.owe.toilets_weight.weight:furniture:toilets:mass:offset' with units of 'kg' is connected to output 'inputs.weight:furniture:toilets:mass:offset' which has no units.\n"
     ]
    },
    {
     "name": "stderr",
     "output_type": "stream",
     "text": [
      "d:\\cdavid\\pycharmprojects\\fast-oad\\src\\fastoad\\modules\\performances\\breguet.py:235: RuntimeWarning:\n",
      "\n",
      "overflow encountered in exp\n",
      "\n",
      "MAX THRUST computation for T4 above 1600.0 may be unreliable.\n",
      "SFC RATIO computation for thrust rate above 1.0 may be unreliable.\n",
      "MAX THRUST computation for T4 above 1600.0 may be unreliable.\n",
      "SFC RATIO computation for thrust rate above 1.0 may be unreliable.\n",
      "MAX THRUST computation for T4 above 1600.0 may be unreliable.\n",
      "MAX THRUST computation for T4 above 1600.0 may be unreliable.\n",
      "MAX THRUST computation for T4 above 1600.0 may be unreliable.\n",
      "MAX THRUST computation for T4 above 1600.0 may be unreliable.\n",
      "MAX THRUST computation for T4 above 1600.0 may be unreliable.\n",
      "MAX THRUST computation for T4 above 1600.0 may be unreliable.\n",
      "MAX THRUST computation for T4 above 1600.0 may be unreliable.\n",
      "MAX THRUST computation for T4 above 1600.0 may be unreliable.\n",
      "MAX THRUST computation for T4 above 1600.0 may be unreliable.\n",
      "MAX THRUST computation for T4 above 1600.0 may be unreliable.\n"
     ]
    }
   ],
   "source": [
    "# problem.set_solver_print(level=2)\n",
    "problem.run_eval()"
   ]
  },
  {
   "cell_type": "markdown",
   "metadata": {},
   "source": [
    "## 4. Running your first MDO"
   ]
  },
  {
   "cell_type": "code",
   "execution_count": 30,
   "metadata": {},
   "outputs": [
    {
     "ename": "RuntimeError",
     "evalue": "Driver requires objective to be declared",
     "output_type": "error",
     "traceback": [
      "\u001b[1;31m---------------------------------------------------------------------------\u001b[0m",
      "\u001b[1;31mRuntimeError\u001b[0m                              Traceback (most recent call last)",
      "\u001b[1;32m<ipython-input-30-281a2d0e0ebb>\u001b[0m in \u001b[0;36m<module>\u001b[1;34m\u001b[0m\n\u001b[0;32m      1\u001b[0m \u001b[1;31m# problem.set_solver_print(level=2)\u001b[0m\u001b[1;33m\u001b[0m\u001b[1;33m\u001b[0m\u001b[1;33m\u001b[0m\u001b[0m\n\u001b[1;32m----> 2\u001b[1;33m \u001b[0mproblem\u001b[0m\u001b[1;33m.\u001b[0m\u001b[0mrun_optim\u001b[0m\u001b[1;33m(\u001b[0m\u001b[1;33m)\u001b[0m\u001b[1;33m\u001b[0m\u001b[1;33m\u001b[0m\u001b[0m\n\u001b[0m",
      "\u001b[1;32md:\\cdavid\\pycharmprojects\\fast-oad\\src\\fastoad\\cmd\\api.py\u001b[0m in \u001b[0;36mrun_optim\u001b[1;34m(self)\u001b[0m\n\u001b[0;32m     42\u001b[0m     \u001b[1;32mdef\u001b[0m \u001b[0mrun_optim\u001b[0m\u001b[1;33m(\u001b[0m\u001b[0mself\u001b[0m\u001b[1;33m)\u001b[0m\u001b[1;33m:\u001b[0m\u001b[1;33m\u001b[0m\u001b[1;33m\u001b[0m\u001b[0m\n\u001b[0;32m     43\u001b[0m         \u001b[0mself\u001b[0m\u001b[1;33m.\u001b[0m\u001b[0mread_inputs\u001b[0m\u001b[1;33m(\u001b[0m\u001b[1;33m)\u001b[0m\u001b[1;33m\u001b[0m\u001b[1;33m\u001b[0m\u001b[0m\n\u001b[1;32m---> 44\u001b[1;33m         \u001b[0mself\u001b[0m\u001b[1;33m.\u001b[0m\u001b[0mrun_driver\u001b[0m\u001b[1;33m(\u001b[0m\u001b[1;33m)\u001b[0m\u001b[1;33m\u001b[0m\u001b[1;33m\u001b[0m\u001b[0m\n\u001b[0m\u001b[0;32m     45\u001b[0m         \u001b[0mself\u001b[0m\u001b[1;33m.\u001b[0m\u001b[0mwrite_outputs\u001b[0m\u001b[1;33m(\u001b[0m\u001b[1;33m)\u001b[0m\u001b[1;33m\u001b[0m\u001b[1;33m\u001b[0m\u001b[0m\n\u001b[0;32m     46\u001b[0m \u001b[1;33m\u001b[0m\u001b[0m\n",
      "\u001b[1;32m~\\PyCharmProjects\\FAST-OAD\\.venv\\lib\\site-packages\\openmdao\\core\\problem.py\u001b[0m in \u001b[0;36mrun_driver\u001b[1;34m(self, case_prefix, reset_iter_counts)\u001b[0m\n\u001b[0;32m    661\u001b[0m         \u001b[0mself\u001b[0m\u001b[1;33m.\u001b[0m\u001b[0mfinal_setup\u001b[0m\u001b[1;33m(\u001b[0m\u001b[1;33m)\u001b[0m\u001b[1;33m\u001b[0m\u001b[1;33m\u001b[0m\u001b[0m\n\u001b[0;32m    662\u001b[0m         \u001b[0mself\u001b[0m\u001b[1;33m.\u001b[0m\u001b[0mmodel\u001b[0m\u001b[1;33m.\u001b[0m\u001b[0m_clear_iprint\u001b[0m\u001b[1;33m(\u001b[0m\u001b[1;33m)\u001b[0m\u001b[1;33m\u001b[0m\u001b[1;33m\u001b[0m\u001b[0m\n\u001b[1;32m--> 663\u001b[1;33m         \u001b[1;32mreturn\u001b[0m \u001b[0mself\u001b[0m\u001b[1;33m.\u001b[0m\u001b[0mdriver\u001b[0m\u001b[1;33m.\u001b[0m\u001b[0mrun\u001b[0m\u001b[1;33m(\u001b[0m\u001b[1;33m)\u001b[0m\u001b[1;33m\u001b[0m\u001b[1;33m\u001b[0m\u001b[0m\n\u001b[0m\u001b[0;32m    664\u001b[0m \u001b[1;33m\u001b[0m\u001b[0m\n\u001b[0;32m    665\u001b[0m     \u001b[1;32mdef\u001b[0m \u001b[0mcompute_jacvec_product\u001b[0m\u001b[1;33m(\u001b[0m\u001b[0mself\u001b[0m\u001b[1;33m,\u001b[0m \u001b[0mof\u001b[0m\u001b[1;33m,\u001b[0m \u001b[0mwrt\u001b[0m\u001b[1;33m,\u001b[0m \u001b[0mmode\u001b[0m\u001b[1;33m,\u001b[0m \u001b[0mseed\u001b[0m\u001b[1;33m)\u001b[0m\u001b[1;33m:\u001b[0m\u001b[1;33m\u001b[0m\u001b[1;33m\u001b[0m\u001b[0m\n",
      "\u001b[1;32m~\\PyCharmProjects\\FAST-OAD\\.venv\\lib\\site-packages\\openmdao\\drivers\\scipy_optimizer.py\u001b[0m in \u001b[0;36mrun\u001b[1;34m(self)\u001b[0m\n\u001b[0;32m    241\u001b[0m         \u001b[0mself\u001b[0m\u001b[1;33m.\u001b[0m\u001b[0m_total_jac\u001b[0m \u001b[1;33m=\u001b[0m \u001b[1;32mNone\u001b[0m\u001b[1;33m\u001b[0m\u001b[1;33m\u001b[0m\u001b[0m\n\u001b[0;32m    242\u001b[0m \u001b[1;33m\u001b[0m\u001b[0m\n\u001b[1;32m--> 243\u001b[1;33m         \u001b[0mself\u001b[0m\u001b[1;33m.\u001b[0m\u001b[0m_check_for_missing_objective\u001b[0m\u001b[1;33m(\u001b[0m\u001b[1;33m)\u001b[0m\u001b[1;33m\u001b[0m\u001b[1;33m\u001b[0m\u001b[0m\n\u001b[0m\u001b[0;32m    244\u001b[0m \u001b[1;33m\u001b[0m\u001b[0m\n\u001b[0;32m    245\u001b[0m         \u001b[1;31m# Initial Run\u001b[0m\u001b[1;33m\u001b[0m\u001b[1;33m\u001b[0m\u001b[1;33m\u001b[0m\u001b[0m\n",
      "\u001b[1;32m~\\PyCharmProjects\\FAST-OAD\\.venv\\lib\\site-packages\\openmdao\\core\\driver.py\u001b[0m in \u001b[0;36m_check_for_missing_objective\u001b[1;34m(self)\u001b[0m\n\u001b[0;32m    318\u001b[0m         \u001b[1;32mif\u001b[0m \u001b[0mlen\u001b[0m\u001b[1;33m(\u001b[0m\u001b[0mself\u001b[0m\u001b[1;33m.\u001b[0m\u001b[0m_objs\u001b[0m\u001b[1;33m)\u001b[0m \u001b[1;33m==\u001b[0m \u001b[1;36m0\u001b[0m\u001b[1;33m:\u001b[0m\u001b[1;33m\u001b[0m\u001b[1;33m\u001b[0m\u001b[0m\n\u001b[0;32m    319\u001b[0m             \u001b[0mmsg\u001b[0m \u001b[1;33m=\u001b[0m \u001b[1;34m\"Driver requires objective to be declared\"\u001b[0m\u001b[1;33m\u001b[0m\u001b[1;33m\u001b[0m\u001b[0m\n\u001b[1;32m--> 320\u001b[1;33m             \u001b[1;32mraise\u001b[0m \u001b[0mRuntimeError\u001b[0m\u001b[1;33m(\u001b[0m\u001b[0mmsg\u001b[0m\u001b[1;33m)\u001b[0m\u001b[1;33m\u001b[0m\u001b[1;33m\u001b[0m\u001b[0m\n\u001b[0m\u001b[0;32m    321\u001b[0m \u001b[1;33m\u001b[0m\u001b[0m\n\u001b[0;32m    322\u001b[0m     \u001b[1;32mdef\u001b[0m \u001b[0m_get_vars_to_record\u001b[0m\u001b[1;33m(\u001b[0m\u001b[0mself\u001b[0m\u001b[1;33m,\u001b[0m \u001b[0mrecording_options\u001b[0m\u001b[1;33m)\u001b[0m\u001b[1;33m:\u001b[0m\u001b[1;33m\u001b[0m\u001b[1;33m\u001b[0m\u001b[0m\n",
      "\u001b[1;31mRuntimeError\u001b[0m: Driver requires objective to be declared"
     ]
    }
   ],
   "source": [
    "# problem.set_solver_print(level=2)\n",
    "problem.run_optim()"
   ]
  }
 ],
 "metadata": {
  "kernelspec": {
   "display_name": "Python 3",
   "language": "python",
   "name": "python3"
  },
  "language_info": {
   "codemirror_mode": {
    "name": "ipython",
    "version": 3
   },
   "file_extension": ".py",
   "mimetype": "text/x-python",
   "name": "python",
   "nbconvert_exporter": "python",
   "pygments_lexer": "ipython3",
   "version": "3.7.3"
  }
 },
 "nbformat": 4,
 "nbformat_minor": 4
}
