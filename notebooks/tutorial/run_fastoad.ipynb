{
 "cells": [
  {
   "cell_type": "markdown",
   "metadata": {},
   "source": [
    "# FAST OAD Tutorial"
   ]
  },
  {
   "cell_type": "markdown",
   "metadata": {},
   "source": [
    "FAST OAD is a framework for performing Rapid Overall Aircraft Design. The computational core of FAST is based on the  [OpenMDAO framework](https://openmdao.org/)."
   ]
  },
  {
   "cell_type": "markdown",
   "metadata": {},
   "source": [
    "## 1. Installation and import test\n",
    "In order to use this tutorial notebook, the fastoad package shall have been previously installed."
   ]
  },
  {
   "cell_type": "markdown",
   "metadata": {},
   "source": [
    "### Installation\n",
    "As of today, the package is available locally but will in the future available on PyPi."
   ]
  },
  {
   "cell_type": "markdown",
   "metadata": {},
   "source": [
    "### Test\n",
    "Run the following cell to attempt an import of the package and see if it is properly installed."
   ]
  },
  {
   "cell_type": "code",
   "execution_count": 1,
   "metadata": {},
   "outputs": [
    {
     "name": "stdout",
     "output_type": "stream",
     "text": [
      "Unable to import mpi4py. Parallel processing unavailable.\n"
     ]
    },
    {
     "name": "stderr",
     "output_type": "stream",
     "text": [
      "Cannot register factory 'fastoad.aerodynamics.legacy' of bundle 35 (fastoad.modules.aerodynamics.aerodynamics): 'fastoad.aerodynamics.legacy' factory already exist\n",
      "class: <class 'fastoad.modules.aerodynamics.aerodynamics.Aerodynamics'> -- module: fastoad.modules.aerodynamics.aerodynamics\n",
      "Cannot register factory 'fastoad.weights.legacy' of bundle 157 (fastoad.modules.mass_breakdown.mass_breakdown): 'fastoad.weights.legacy' factory already exist\n",
      "class: <class 'fastoad.modules.mass_breakdown.mass_breakdown.MassBreakdown'> -- module: fastoad.modules.mass_breakdown.mass_breakdown\n",
      "Cannot register factory 'fastoad.aerodynamics.highspeed.legacy' of bundle 37 (fastoad.modules.aerodynamics.aerodynamics_high_speed): 'fastoad.aerodynamics.highspeed.legacy' factory already exist\n",
      "class: <class 'fastoad.modules.aerodynamics.aerodynamics_high_speed.AerodynamicsHighSpeed'> -- module: fastoad.modules.aerodynamics.aerodynamics_high_speed\n",
      "Cannot register factory 'fastoad.propulsion.rubber_engine' of bundle 170 (fastoad.modules.propulsion.fuel_engine.rubber_engine.openmdao): 'fastoad.propulsion.rubber_engine' factory already exist\n",
      "class: <class 'fastoad.modules.propulsion.fuel_engine.rubber_engine.openmdao.OMRubberEngine'> -- module: fastoad.modules.propulsion.fuel_engine.rubber_engine.openmdao\n",
      "Cannot register factory 'fastoad.performances.breguet' of bundle 162 (fastoad.modules.performances.breguet): 'fastoad.performances.breguet' factory already exist\n",
      "class: <class 'fastoad.modules.performances.breguet.Breguet'> -- module: fastoad.modules.performances.breguet\n",
      "Cannot register factory 'fastoad.performances.breguet.implicit' of bundle 162 (fastoad.modules.performances.breguet): 'fastoad.performances.breguet.implicit' factory already exist\n",
      "class: <class 'fastoad.modules.performances.breguet.ImplicitBreguet'> -- module: fastoad.modules.performances.breguet\n",
      "Cannot register factory 'fastoad.geometry.legacy' of bundle 124 (fastoad.modules.geometry.geometry): 'fastoad.geometry.legacy' factory already exist\n",
      "class: <class 'fastoad.modules.geometry.geometry.Geometry'> -- module: fastoad.modules.geometry.geometry\n"
     ]
    }
   ],
   "source": [
    "import fastoad"
   ]
  },
  {
   "cell_type": "markdown",
   "metadata": {},
   "source": [
    "## 2. Working with configuration and input files"
   ]
  },
  {
   "cell_type": "code",
   "execution_count": 6,
   "metadata": {},
   "outputs": [],
   "source": [
    "import os.path as pth\n",
    "import openmdao.api as om\n",
    "from fastoad.cmd.api import FastProblem\n",
    "\n",
    "DATA_FOLDER_PATH = pth.join(pth.abspath(''), 'data')\n",
    "RESULTS_FOLDER_PATH = pth.join(pth.abspath(''), 'outputs')\n",
    "\n",
    "CONFIGURATION_FILE = pth.join(DATA_FOLDER_PATH, 'oad_process.toml')\n",
    "REF_VALUES_FILE = pth.join(DATA_FOLDER_PATH, 'CeRAS01_baseline.xml')\n",
    "\n",
    "problem = FastProblem(CONFIGURATION_FILE)"
   ]
  },
  {
   "cell_type": "code",
   "execution_count": null,
   "metadata": {},
   "outputs": [],
   "source": [
    "problem.gen_inputs()"
   ]
  },
  {
   "cell_type": "code",
   "execution_count": 3,
   "metadata": {},
   "outputs": [
    {
     "name": "stderr",
     "output_type": "stream",
     "text": [
      "The xpath Aircraft/propulsion/conventional/k_factors/k_SFC does not have any variable affected in the translator.\n",
      "The xpath Aircraft/propulsion/conventional/k_factors/k_corr does not have any variable affected in the translator.\n",
      "The xpath Aircraft/propulsion/conventional/k_factors/k_co2 does not have any variable affected in the translator.\n"
     ]
    }
   ],
   "source": [
    "problem.gen_inputs_from_legacy(REF_VALUES_FILE)"
   ]
  },
  {
   "cell_type": "code",
   "execution_count": 4,
   "metadata": {
    "collapsed": true,
    "jupyter": {
     "outputs_hidden": true
    }
   },
   "outputs": [
    {
     "data": {
      "text/html": [
       "\n",
       "        <iframe\n",
       "            width=\"100%\"\n",
       "            height=\"500px\"\n",
       "            src=\"D:\\s.delbecq\\Documents\\dev\\FAST-OAD\\notebooks\\tutorial\\outputs\\n2.html\"\n",
       "            frameborder=\"0\"\n",
       "            allowfullscreen\n",
       "        ></iframe>\n",
       "        "
      ],
      "text/plain": [
       "<IPython.lib.display.IFrame at 0x1f14f9882c8>"
      ]
     },
     "execution_count": 4,
     "metadata": {},
     "output_type": "execute_result"
    }
   ],
   "source": [
    "N2_FILE = pth.join(RESULTS_FOLDER_PATH, 'n2.html')\n",
    "om.n2(problem, outfile=N2_FILE, show_browser=False)\n",
    "from IPython.display import IFrame\n",
    "IFrame(src=N2_FILE, width='100%', height='500px')"
   ]
  },
  {
   "cell_type": "code",
   "execution_count": null,
   "metadata": {},
   "outputs": [],
   "source": []
  },
  {
   "cell_type": "markdown",
   "metadata": {},
   "source": [
    "## 3. Running your first MDA"
   ]
  },
  {
   "cell_type": "code",
   "execution_count": 7,
   "metadata": {},
   "outputs": [
    {
     "name": "stderr",
     "output_type": "stream",
     "text": [
      "MAX THRUST computation for T4 above 1600.0 may be unreliable.\n",
      "SFC RATIO computation for thrust rate above 1.0 may be unreliable.\n",
      "MAX THRUST computation for T4 above 1600.0 may be unreliable.\n",
      "MAX THRUST computation for T4 above 1600.0 may be unreliable.\n",
      "MAX THRUST computation for T4 above 1600.0 may be unreliable.\n",
      "MAX THRUST computation for T4 above 1600.0 may be unreliable.\n",
      "MAX THRUST computation for T4 above 1600.0 may be unreliable.\n",
      "MAX THRUST computation for T4 above 1600.0 may be unreliable.\n",
      "MAX THRUST computation for T4 above 1600.0 may be unreliable.\n",
      "MAX THRUST computation for T4 above 1600.0 may be unreliable.\n",
      "MAX THRUST computation for T4 above 1600.0 may be unreliable.\n",
      "MAX THRUST computation for T4 above 1600.0 may be unreliable.\n",
      "MAX THRUST computation for T4 above 1600.0 may be unreliable.\n",
      "MAX THRUST computation for T4 above 1600.0 may be unreliable.\n",
      "MAX THRUST computation for T4 above 1600.0 may be unreliable.\n",
      "MAX THRUST computation for T4 above 1600.0 may be unreliable.\n",
      "MAX THRUST computation for T4 above 1600.0 may be unreliable.\n",
      "MAX THRUST computation for T4 above 1600.0 may be unreliable.\n",
      "MAX THRUST computation for T4 above 1600.0 may be unreliable.\n",
      "MAX THRUST computation for T4 above 1600.0 may be unreliable.\n",
      "MAX THRUST computation for T4 above 1600.0 may be unreliable.\n",
      "MAX THRUST computation for T4 above 1600.0 may be unreliable.\n",
      "MAX THRUST computation for T4 above 1600.0 may be unreliable.\n",
      "MAX THRUST computation for T4 above 1600.0 may be unreliable.\n",
      "MAX THRUST computation for T4 above 1600.0 may be unreliable.\n",
      "MAX THRUST computation for T4 above 1600.0 may be unreliable.\n",
      "MAX THRUST computation for T4 above 1600.0 may be unreliable.\n",
      "MAX THRUST computation for T4 above 1600.0 may be unreliable.\n",
      "MAX THRUST computation for T4 above 1600.0 may be unreliable.\n",
      "MAX THRUST computation for T4 above 1600.0 may be unreliable.\n",
      "MAX THRUST computation for T4 above 1600.0 may be unreliable.\n",
      "MAX THRUST computation for T4 above 1600.0 may be unreliable.\n",
      "MAX THRUST computation for T4 above 1600.0 may be unreliable.\n",
      "MAX THRUST computation for T4 above 1600.0 may be unreliable.\n",
      "MAX THRUST computation for T4 above 1600.0 may be unreliable.\n",
      "MAX THRUST computation for T4 above 1600.0 may be unreliable.\n",
      "MAX THRUST computation for T4 above 1600.0 may be unreliable.\n",
      "MAX THRUST computation for T4 above 1600.0 may be unreliable.\n",
      "MAX THRUST computation for T4 above 1600.0 may be unreliable.\n"
     ]
    }
   ],
   "source": [
    "# problem.set_solver_print(level=2)\n",
    "problem.run_eval()"
   ]
  },
  {
   "cell_type": "markdown",
   "metadata": {},
   "source": [
    "## 4. Running your first MDO"
   ]
  },
  {
   "cell_type": "code",
   "execution_count": null,
   "metadata": {},
   "outputs": [],
   "source": [
    "# problem.set_solver_print(level=2)\n",
    "problem.run_optim()"
   ]
  }
 ],
 "metadata": {
  "kernelspec": {
   "display_name": "Python 3",
   "language": "python",
   "name": "python3"
  },
  "language_info": {
   "codemirror_mode": {
    "name": "ipython",
    "version": 3
   },
   "file_extension": ".py",
   "mimetype": "text/x-python",
   "name": "python",
   "nbconvert_exporter": "python",
   "pygments_lexer": "ipython3",
   "version": "3.7.4"
  }
 },
 "nbformat": 4,
 "nbformat_minor": 4
}
