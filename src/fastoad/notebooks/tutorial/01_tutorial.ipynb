{
 "cells": [
  {
   "cell_type": "markdown",
   "metadata": {},
   "source": [
    "<div class=\"row\">\n",
    "  <div class=\"column\">\n",
    "    <img src=\"./img/logo-onera.png\" width=\"200\">\n",
    "  </div>\n",
    "  <div class=\"column\">\n",
    "    <img src=\"./img/logo-ISAE_SUPAERO.png\" width=\"200\">\n",
    "  </div>\n",
    "</div>"
   ]
  },
  {
   "cell_type": "markdown",
   "metadata": {},
   "source": [
    "# FAST-OAD Tutorial"
   ]
  },
  {
   "cell_type": "markdown",
   "metadata": {},
   "source": [
    "FAST-OAD is a framework for performing rapid Overall Aircraft Design. The computational core of FAST-OAD is based on the  [OpenMDAO framework](https://openmdao.org/)."
   ]
  },
  {
   "cell_type": "markdown",
   "metadata": {},
   "source": [
    "## 1.  Installation Test\n",
    "Run the following cell to attempt an import of the package and check if it is properly installed."
   ]
  },
  {
   "cell_type": "code",
   "execution_count": 1,
   "metadata": {},
   "outputs": [
    {
     "name": "stdout",
     "output_type": "stream",
     "text": [
      "Unable to import mpi4py. Parallel processing unavailable.\n"
     ]
    }
   ],
   "source": [
    "import fastoad"
   ]
  },
  {
   "cell_type": "markdown",
   "metadata": {},
   "source": [
    "## 2. User files overview"
   ]
  },
  {
   "cell_type": "markdown",
   "metadata": {},
   "source": [
    "The FAST-OAD environment uses two types of user files:\n",
    "\n",
    "* Configuration files (**.toml**):\n",
    "\n",
    "    The configuration example file used for the tutorial can be found [here](./workdir/oad_process.toml) (`api.generate_configuration_file()` must have been run - see Section 3).\n",
    "\n",
    "    FASTOADProblem instances require a configuration file at initialization. The usage of this type of file is described in the [README](https://github.com/fast-aircraft-design/FAST-OAD) of the repository.\n",
    "\n",
    "    \n",
    "* System variables files (**.xml**):\n",
    "\n",
    "    These files regroup the information of the variables involved in the system model. There are two types of system variables files:\n",
    "    \n",
    "    1 - INPUT_FILE: The input file contains the global inputs values required to run all the model. The user is free to modify the values of the variables in order that these new values are considered during a model run.\n",
    "    \n",
    "    2 - OUTPUT_FILE: The output file contains all the variables (inputs + outputs) values obtained after a model run.\n",
    "\n",
    "The following figure shows an overview of the user files:"
   ]
  },
  {
   "cell_type": "markdown",
   "metadata": {},
   "source": [
    "![User Files](./img/user_files_arch.svg \"User Files Architecture\")"
   ]
  },
  {
   "cell_type": "markdown",
   "metadata": {},
   "source": [
    "The user defines the CONFIGURATION_FILE that the FASTOADProblem instance will read. The user can read and write this file, and thus modify the problem, the input and output file names etc. The FASTOADProblem then knows which is the structure of the model and what are the modules used. Thus, it is capable of determining which are the global inputs required for running the model. \n",
    "\n",
    "Executing the `generate_inputs()` function with the `configuration_file_path` as the first argument will generate the INPUT_FILE.xml file that contains all the global inputs. If a second argument `source_path` (SOURCE_PATH.xml) is provided then the instance will use the values found in this file for the same variables of the INPUT_FILE. If the SOURCE_PATh file uses a different schema, a translation file `source_path_schema` can be provided as a third argument to the function.\n",
    "\n",
    "Once the variables of the INPUT_FILE have a correct value (by default values are NaN) the problem can be executed. For that the user can perform either a Multidisciplinary Design Analysis (MDA) using `evaluate_problem()` or a Multidisciplinary Design Optimization (MDO) using `optimize_problem()`. Both of these function generate the OUTPUT_FILE.xml containing all the variables of the system and their values resulting from the computation."
   ]
  },
  {
   "cell_type": "markdown",
   "metadata": {},
   "source": [
    "## 3. Setting up and analyzing the initial problem"
   ]
  },
  {
   "cell_type": "markdown",
   "metadata": {},
   "source": [
    "To organize our work, we propose to use two user folders '/data' and '/workdir'. For instance, in '/data' we store a .xml file which describes the [CeRAS reference case](http://ceras.ilr.rwthaachen.de/trac/wiki/CeRAS/AircraftDesigns/CSR01). In '/workdir', we store files generated or modified by FAST-OAD."
   ]
  },
  {
   "cell_type": "code",
   "execution_count": 4,
   "metadata": {},
   "outputs": [],
   "source": [
    "import os.path as pth\n",
    "import openmdao.api as om\n",
    "from fastoad import api\n",
    "import logging\n",
    "\n",
    "DATA_FOLDER_PATH = 'data'\n",
    "\n",
    "WORK_FOLDER_PATH = 'workdir'\n",
    "\n",
    "CONFIGURATION_FILE = pth.join(WORK_FOLDER_PATH, 'oad_process.toml')\n",
    "SOURCE_FILE = pth.join(DATA_FOLDER_PATH, 'CeRAS01_baseline.xml')\n",
    "\n",
    "# For having log messages on screen\n",
    "logging.basicConfig(level=logging.INFO, format='%(levelname)-8s: %(message)s')"
   ]
  },
  {
   "cell_type": "markdown",
   "metadata": {},
   "source": [
    "After defining a configuration file name, we can ask FAST-OAD to generate a default configuration file based on the default OAD model implemented in the framework:"
   ]
  },
  {
   "cell_type": "code",
   "execution_count": 5,
   "metadata": {},
   "outputs": [
    {
     "name": "stderr",
     "output_type": "stream",
     "text": [
      "INFO    : Sample configuration written in workdir\\oad_process.toml\n"
     ]
    }
   ],
   "source": [
    "api.generate_configuration_file(CONFIGURATION_FILE, overwrite=True)"
   ]
  },
  {
   "cell_type": "markdown",
   "metadata": {},
   "source": [
    "You can now checkout the generated [configuration file](./workdir/oad_process.toml). In this configuration file, we have specified an input file name 'problem_inputs.xml'. We can ask FAST-OAD to generate the inputs of the default model with the CeRAS parameters as default values:"
   ]
  },
  {
   "cell_type": "code",
   "execution_count": 6,
   "metadata": {},
   "outputs": [
    {
     "name": "stderr",
     "output_type": "stream",
     "text": [
      "INFO    : Problem inputs written in D:\\s.delbecq\\Documents\\dev\\FAST-OAD\\src\\fastoad\\notebooks\\tutorial\\workdir\\problem_inputs.xml\n"
     ]
    }
   ],
   "source": [
    "api.generate_inputs(CONFIGURATION_FILE, SOURCE_FILE, overwrite=True)"
   ]
  },
  {
   "cell_type": "markdown",
   "metadata": {},
   "source": [
    "You can now checkout the generated [input file](./workdir/problem_inputs.xml). As shown previously in the user file architecture, the values in this file can be modified by the user and will be considered by FAST-OAD when executing a computational process."
   ]
  },
  {
   "cell_type": "markdown",
   "metadata": {},
   "source": [
    "A useful feature that FAST-OAD provides is to list the outputs of the model defined in the configuration file:"
   ]
  },
  {
   "cell_type": "code",
   "execution_count": 7,
   "metadata": {},
   "outputs": [
    {
     "name": "stdout",
     "output_type": "stream",
     "text": [
      "-- INPUTS OF THE PROBLEM -------------------------------------------------------------\n",
      "VARIABLE                                                    | DESCRIPTION\n",
      "data:geometry:cabin:seats:economical:width                  | width of economical class seats\n",
      "data:geometry:cabin:seats:economical:length                 | length of economical class seats\n",
      "data:geometry:cabin:seats:economical:count_by_row           | number of economical class seats along width\n",
      "data:geometry:cabin:aisle_width                             | width of aisles\n",
      "data:geometry:cabin:exit_width                              | width of exits\n",
      "data:TLAR:NPAX                                              | top-level requirement: number of passengers\n",
      "data:geometry:propulsion:engine:count                       | number of engines\n",
      "data:geometry:wing:aspect_ratio                             | wing aspect ratio\n",
      "data:geometry:wing:kink:span_ratio                          | ratio (Y-position of kink)/(semi-span)\n",
      "data:geometry:wing:taper_ratio                              | taper ratio of wing\n",
      "data:geometry:wing:sweep_25                                 | sweep angle at 25% chord of wing\n",
      "data:TLAR:cruise_mach                                       | top-level requirement: cruise Mach number\n",
      "data:propulsion:MTO_thrust                                  | maximum thrust of one engine at sea level\n",
      "data:geometry:propulsion:engine:y_ratio                     | engine position with respect to total span\n",
      "data:geometry:wing:MAC:x                                    | X-position of leading edge of mean aerodynamic chord of wing\n",
      "data:requirements:CG_range                                  | between 0.0 and 1.0\n",
      "data:geometry:horizontal_tail:aspect_ratio                  | aspect ratio of horizontal tail\n",
      "data:geometry:horizontal_tail:taper_ratio                   | taper ratio of horizontal tail\n",
      "data:geometry:horizontal_tail:sweep_25                      | sweep angle at 25% chord of horizontal tail\n",
      "data:geometry:vertical_tail:aspect_ratio                    | aspect ratio of vertical tail\n",
      "data:geometry:vertical_tail:sweep_25                        | sweep angle at 25% chord of vertical tail\n",
      "data:geometry:vertical_tail:taper_ratio                     | taper ratio of vertical tail\n",
      "data:geometry:wing:spar_ratio:front:root                    | ratio (front spar position)/(chord length) at wing root\n",
      "data:geometry:wing:spar_ratio:front:kink                    | ratio (front spar position)/(chord length) at wing kink\n",
      "data:geometry:wing:spar_ratio:front:tip                     | ratio (front spar position)/(chord length) at wing tip\n",
      "data:geometry:wing:spar_ratio:rear:root                     | ratio (rear spar position)/(chord length) at wing root\n",
      "data:geometry:wing:spar_ratio:rear:kink                     | ratio (rear spar position)/(chord length) at wing kink\n",
      "data:geometry:wing:spar_ratio:rear:tip                      | ratio (rear spar position)/(chord length) at wing tip\n",
      "data:load_case:lc1:U_gust                                   | gust vertical speed for sizing load case 1 (gust with minimum aircraft mass)\n",
      "data:load_case:lc1:altitude                                 | altitude for sizing load case 1 (gust with minimum aircraft mass)\n",
      "data:load_case:lc1:Vc_EAS                                   | equivalent air speed for sizing load case 1 (gust with minimum aircraft mass)\n",
      "data:load_case:lc2:U_gust                                   | gust vertical speed for sizing load case 2 (gust with maximum aircraft mass)\n",
      "data:load_case:lc2:altitude                                 | altitude for sizing load case 2 (gust with maximum aircraft mass)\n",
      "data:load_case:lc2:Vc_EAS                                   | equivalent air speed for sizing load case 2 (gust with maximum aircraft mass)\n",
      "settings:weight:airframe:flight_controls:mass:k_fc          | flight controls (A4): 0.85e-4 if electrical, 1.35e-4 if conventional\n",
      "data:geometry:cabin:crew_count:technical                    | number of technical crew members\n",
      "data:geometry:cabin:containers:count_by_row                 | number of cargo containers along width\n",
      "data:geometry:cabin:containers:count                        | total number of cargo containers\n",
      "data:geometry:cabin:pallet_count                            | number of pallet in cargo hold\n",
      "data:weight:aircraft:max_payload                            | max payload weight\n",
      "data:mission:sizing:cruise:altitude                         | altitude during cruise phase in sizing mission\n",
      "tuning:aerodynamics:aircraft:cruise:CL:k                    | ratio to apply to defined cl range (which goes by default from 0.0 to 1.5) in cruise polar computation\n",
      "tuning:aerodynamics:aircraft:cruise:CL:offset               | offset to apply to defined cl range (which goes by default from 0.0 to 1.5) in cruise polar computation\n",
      "tuning:aerodynamics:aircraft:cruise:CL:winglet_effect:k     | ratio to apply to defined cl range (which goes by default from 0.0 to 1.5) in cruise polar computation\n",
      "tuning:aerodynamics:aircraft:cruise:CL:winglet_effect:offset| offset to apply to defined cl range (which goes by default from 0.0 to 1.5) in cruise polar computation\n",
      "data:geometry:horizontal_tail:thickness_ratio               | thickness ratio of horizontal tail\n",
      "data:geometry:vertical_tail:thickness_ratio                 | thickness ratio of vertical tail\n",
      "tuning:aerodynamics:aircraft:cruise:CD:k                    | correction ratio to apply to computed drag coefficient in cruise conditions\n",
      "tuning:aerodynamics:aircraft:cruise:CD:offset               | correction offset to apply to computed drag coefficient in cruise conditions\n",
      "tuning:aerodynamics:aircraft:cruise:CD:winglet_effect:k     | correction ratio to apply to computed induced drag coefficient in cruise conditions\n",
      "tuning:aerodynamics:aircraft:cruise:CD:winglet_effect:offset| correction ratio to apply to computed drag coefficient in cruise conditions\n",
      "data:TLAR:approach_speed                                    | top-level requirement: approach speed\n",
      "data:mission:sizing:landing:flap_angle                      | flap angle during landing phase in sizing mission\n",
      "data:mission:sizing:landing:slat_angle                      | slat angle during landing phase in sizing mission\n",
      "data:geometry:flap:chord_ratio                              | mean value of (flap chord)/(section chord)\n",
      "data:geometry:flap:span_ratio                               | ratio (width of flaps)/(total span)\n",
      "data:geometry:slat:chord_ratio                              | mean value of slat chord)/(section chord)\n",
      "data:geometry:slat:span_ratio                               | ratio (width of slats)/(total span)\n",
      "data:aerodynamics:aircraft:landing:CL_max_clean             | maximum lift coefficient in landing conditions without high-lift devices\n",
      "tuning:aerodynamics:aircraft:landing:CL_max:landing_gear_effect:k| correction ratio to apply to computed maximum lift coefficient in landing conditions to take into account effect of landing gear\n",
      "data:TLAR:range                                             | top-level requirement: design range\n",
      "data:weight:aircraft:payload                                | payload weight\n",
      "data:propulsion:rubber_engine:bypass_ratio                  | bypass ratio for rubber engine model\n",
      "data:propulsion:rubber_engine:overall_pressure_ratio        | Overall pressure ratio for rubber engine model\n",
      "data:propulsion:rubber_engine:turbine_inlet_temperature     | design turbine inlet temperature (T4) for rubber engine model\n",
      "data:propulsion:rubber_engine:maximum_mach                  | maximum Mach number for rubber engine model\n",
      "data:propulsion:rubber_engine:design_altitude               | design altitude for rubber engine model\n",
      "tuning:weight:airframe:wing:mass:k                          | wing (A1): correction ratio to be applied on computed mass\n",
      "tuning:weight:airframe:wing:mass:offset                     | wing (A1): correction offset to be applied on computed mass\n",
      "tuning:weight:airframe:wing:bending_sizing:mass:k           | wing bending sizing (A11): correction ratio to be applied on computed mass\n",
      "tuning:weight:airframe:wing:bending_sizing:mass:offset      | wing bending sizing (A11): correction offset to be applied on computed mass\n",
      "tuning:weight:airframe:wing:shear_sizing:mass:k             | wing shear sizing (A12): correction ratio to be applied on computed mass\n",
      "tuning:weight:airframe:wing:shear_sizing:mass:offset        | wing shear sizing (A12): correction offset to be applied on computed mass\n",
      "tuning:weight:airframe:wing:ribs:mass:k                     | wing ribs (A13): correction ratio to be applied on computed mass\n",
      "tuning:weight:airframe:wing:ribs:mass:offset                | wing ribs (A13): correction offset to be applied on computed mass\n",
      "tuning:weight:airframe:wing:reinforcements:mass:k           | wing reinforcements (A14): correction ratio to be applied on computed mass\n",
      "tuning:weight:airframe:wing:reinforcements:mass:offset      | wing reinforcements (A14): correction offset to be applied on computed mass\n",
      "tuning:weight:airframe:wing:secondary_parts:mass:k          | wing secondary parts (A15): correction ratio to be applied on computed mass\n",
      "tuning:weight:airframe:wing:secondary_parts:mass:offset     | wing secondary parts (A15): correction offset to be applied on computed mass\n",
      "settings:weight:airframe:wing:mass:k_voil                   | 1.00 if 4 engines / 1.05 if 2 or 3 engines / 1.10 if engines on fuselage\n",
      "settings:weight:airframe:wing:mass:k_mvo                    | 1.39 for Airbus type aircrafts\n",
      "tuning:weight:airframe:fuselage:mass:k                      | fuselage (A2): correction ratio to be applied on computed mass\n",
      "tuning:weight:airframe:fuselage:mass:offset                 | fuselage (A2): correction offset to be applied on computed mass\n",
      "settings:weight:airframe:fuselage:mass:k_lg                 | correction coefficient: 1.05 if main landing gear under wing / 1.10 if main landing gear under fuselage\n",
      "settings:weight:airframe:fuselage:mass:k_fus                | correction coefficient: 1.00 if all engines under wing / 1.02 with 2 engines at rear / 1.03 if 3 engines at rear / 1.05 if 1 engine in vertical tail (with or without 2 engines under wing)\n",
      "tuning:weight:airframe:horizontal_tail:mass:k               | horizontal tail (A31): correction ratio to be applied on computed mass\n",
      "tuning:weight:airframe:horizontal_tail:mass:offset          | horizontal tail (A31): correction offset to be applied on computed mass\n",
      "tuning:weight:airframe:vertical_tail:mass:k                 | vertical tail (A32): correction ratio to be applied on computed mass\n",
      "tuning:weight:airframe:vertical_tail:mass:offset            | vertical tail (A32): correction offset to be applied on computed mass\n",
      "tuning:weight:airframe:flight_controls:mass:k               | flight controls (A4): correction ratio to be applied on computed mass\n",
      "tuning:weight:airframe:flight_controls:mass:offset          | flight controls (A4): correction offset to be applied on computed mass\n",
      "tuning:weight:airframe:landing_gear:mass:k                  | landing gears (A5): correction ratio to be applied on computed mass\n",
      "tuning:weight:airframe:landing_gear:mass:offset             | landing gears (A5): correction offset to be applied on computed mass\n",
      "tuning:weight:propulsion:engine:mass:k                      | engine (B1): correction ratio to be applied on computed mass\n",
      "tuning:weight:propulsion:engine:mass:offset                 | engine (B1): correction offset to be applied on computed mass\n",
      "tuning:weight:airframe:pylon:mass:k                         | pylon (A6): correction ratio to be applied on computed mass\n",
      "tuning:weight:airframe:pylon:mass:offset                    | pylon (A6): correction offset to be applied on computed mass\n",
      "tuning:weight:airframe:paint:mass:k                         | paint (A7): correction ratio to be applied on computed mass\n",
      "tuning:weight:airframe:paint:mass:offset                    | paint (A7): correction offset to be applied on computed mass\n",
      "tuning:weight:propulsion:fuel_lines:mass:k                  | fuel lines (B2): correction ratio to be applied on computed mass\n",
      "tuning:weight:propulsion:fuel_lines:mass:offset             | fuel lines (B2): correction offset to be applied on computed mass\n",
      "tuning:weight:propulsion:unconsumables:mass:k               | unconsumables (B3): correction ratio to be applied on computed mass\n",
      "tuning:weight:propulsion:unconsumables:mass:offset          | unconsumables (B3): correction offset to be applied on computed mass\n",
      "tuning:weight:systems:power:auxiliary_power_unit:mass:k     | power (C1): correction ratio to be applied on computed mass\n",
      "tuning:weight:systems:power:auxiliary_power_unit:mass:offset| power (C1): correction offset to be applied on computed mass\n",
      "tuning:weight:systems:power:electric_systems:mass:k         | power (C1): correction ratio to be applied on computed mass\n",
      "tuning:weight:systems:power:electric_systems:mass:offset    | power (C1): correction offset to be applied on computed mass\n",
      "tuning:weight:systems:power:hydraulic_systems:mass:k        | power (C1): correction ratio to be applied on computed mass\n",
      "tuning:weight:systems:power:hydraulic_systems:mass:offset   | power (C1): correction offset to be applied on computed mass\n",
      "settings:weight:systems:power:mass:k_elec                   | Electricity coefficient: 1.00 if 2 engines (A300, A310 type) / (1.02 if 2 engines (DC9, Caravelle type) / 1.03 if 3 engines (B727 type) / 1.05 if 3 engines (DC10, L1011 type) / 1.08 if 4 engines (B747 type)\n",
      "tuning:weight:systems:life_support:insulation:mass:k        | insulation (C21): correction ratio to be applied on computed mass\n",
      "tuning:weight:systems:life_support:insulation:mass:offset   | insulation (C21): correction offset to be applied on computed mass\n",
      "tuning:weight:systems:life_support:air_conditioning:mass:k  | air conditioning (C21): correction ratio to be applied on computed mass\n",
      "tuning:weight:systems:life_support:air_conditioning:mass:offset| air conditioning (C21): correction offset to be applied on computed mass\n",
      "tuning:weight:systems:life_support:de-icing:mass:k          | de-icing (C21): correction ratio to be applied on computed mass\n",
      "tuning:weight:systems:life_support:de-icing:mass:offset     | de-icing (C21): correction offset to be applied on computed mass\n",
      "tuning:weight:systems:life_support:cabin_lighting:mass:k    | cabin lighting (C21): correction ratio to be applied on computed mass\n",
      "tuning:weight:systems:life_support:cabin_lighting:mass:offset| cabin lighting (C21): correction offset to be applied on computed mass\n",
      "tuning:weight:systems:life_support:seats_crew_accommodation:mass:k| seats crew accommodation (C21): correction ratio to be applied on computed mass\n",
      "tuning:weight:systems:life_support:seats_crew_accommodation:mass:offset| seats crew accommodation (C21): correction offset to be applied on computed mass\n",
      "tuning:weight:systems:life_support:oxygen:mass:k            | oxygen (C21): correction ratio to be applied on computed mass\n",
      "tuning:weight:systems:life_support:oxygen:mass:offset       | oxygen (C21): correction offset to be applied on computed mass\n",
      "tuning:weight:systems:life_support:safety_equipment:mass:k  | safety equipment (C21): correction ratio to be applied on computed mass\n",
      "tuning:weight:systems:life_support:safety_equipment:mass:offset| safety equipment (C21): correction offset to be applied on computed mass\n",
      "tuning:weight:systems:navigation:mass:k                     | navigation (C3): correction ratio to be applied on computed mass\n",
      "tuning:weight:systems:navigation:mass:offset                | navigation (C3): correction offset to be applied on computed mass\n",
      "tuning:weight:systems:transmission:mass:k                   | transmission (C4): correction ratio to be applied on computed mass\n",
      "tuning:weight:systems:transmission:mass:offset              | transmission (C4): correction offset to be applied on computed mass\n",
      "tuning:weight:systems:operational:mass:k                    | operational (C5): correction ratio to be applied on computed mass\n",
      "tuning:weight:systems:operational:mass:offset               | operational (C5): correction offset to be applied on computed mass\n",
      "tuning:weight:systems:flight_kit:mass:k                     | flight kit (C6): correction ratio to be applied on computed mass\n",
      "tuning:weight:systems:flight_kit:mass:offset                | flight kit (C6): correction offset to be applied on computed mass\n",
      "tuning:weight:furniture:cargo_configuration:mass:k          | cargo configuration (D1): correction ratio to be applied on computed mass\n",
      "tuning:weight:furniture:cargo_configuration:mass:offset     | cargo configuration (D1): correction offset to be applied on computed mass\n",
      "tuning:weight:furniture:passenger_seats:mass:k              | passenger seats (D2): correction ratio to be applied on computed mass\n",
      "tuning:weight:furniture:passenger_seats:mass:offset         | passenger seats (D2): correction offset to be applied on computed mass\n",
      "tuning:weight:furniture:food_water:mass:k                   | food water (D3): correction ratio to be applied on computed mass\n",
      "tuning:weight:furniture:food_water:mass:offset              | food water (D3): correction offset to be applied on computed mass\n",
      "tuning:weight:furniture:security_kit:mass:k                 | security kit (D4): correction ratio to be applied on computed mass\n",
      "tuning:weight:furniture:security_kit:mass:offset            | security kit (D4): correction offset to be applied on computed mass\n",
      "tuning:weight:furniture:toilets:mass:k                      | toilets (D5): correction ratio to be applied on computed mass\n",
      "tuning:weight:furniture:toilets:mass:offset                 | toilets (D5): correction offset to be applied on computed mass\n",
      "data:propulsion:rubber_engine:delta_t4_climb                | As it is a delta, unit is K or °C, but is not specified to avoid OpenMDAO making unwanted conversion\n",
      "data:propulsion:rubber_engine:delta_t4_cruise               | As it is a delta, unit is K or °C, but is not specified to avoid OpenMDAO making unwanted conversion\n",
      "--------------------------------------------------------------------------------------\n",
      "-- OUTPUTS OF THE PROBLEM ------------------------------------------------------------\n",
      "VARIABLE                                                    | DESCRIPTION\n",
      "data:geometry:cabin:NPAX1                                   | number of passengers if there are only economical class seats\n",
      "data:weight:systems:flight_kit:CG:x                         | flight kit (C6): X-position of center of gravity\n",
      "data:weight:furniture:passenger_seats:CG:x                  | passenger seats (D2): X-position of center of gravity\n",
      "data:geometry:fuselage:length                               | total fuselage length\n",
      "data:geometry:fuselage:maximum_width                        | maximum fuselage width\n",
      "data:geometry:fuselage:maximum_height                       | maximum fuselage height\n",
      "data:geometry:fuselage:front_length                         | length of front non-cylindrical part of the fuselage\n",
      "data:geometry:fuselage:rear_length                          | length of rear non-cylindrical part of the fuselage\n",
      "data:geometry:fuselage:PAX_length                           | length of passenger-dedicated zone\n",
      "data:geometry:cabin:length                                  | cabin length\n",
      "data:geometry:fuselage:wetted_area                          | wetted area of fuselage\n",
      "data:geometry:cabin:crew_count:commercial                   | number of commercial crew members\n",
      "data:geometry:wing:span                                     | wing span\n",
      "data:geometry:wing:root:y                                   | Y-position of wing root\n",
      "data:geometry:wing:kink:y                                   | Y-position of wing kink\n",
      "data:geometry:wing:tip:y                                    | Y-position of wing tip\n",
      "data:geometry:wing:root:virtual_chord                       | virtual chord length at wing root if sweep angle of trailing edge of outer wing part was on the whole wing (no kink)\n",
      "data:geometry:wing:tip:chord                                | chord length at wing tip\n",
      "data:geometry:wing:root:chord                               | chord length at wing root\n",
      "data:geometry:wing:kink:chord                               | chord length at wing kink\n",
      "data:geometry:wing:kink:leading_edge:x                      | X-position of leading edge at wing kink\n",
      "data:geometry:wing:tip:leading_edge:x                       | X-position of leading edge at wing tip\n",
      "data:geometry:wing:MAC:length                               | length of mean aerodynamic chord of wing\n",
      "data:geometry:wing:root:leading_edge:x                      | X-position of leading edge at wing root\n",
      "data:geometry:wing:MAC:y                                    | Y-position of mean aerodynamic chord of wing\n",
      "data:geometry:wing:b_50                                     | actual length between root and tip along 50% of chord\n",
      "data:geometry:wing:sweep_0                                  | sweep angle at leading edge of wing\n",
      "data:geometry:wing:sweep_100_inner                          | sweep angle at trailing edge of wing (inner side of the kink)\n",
      "data:geometry:wing:sweep_100_outer                          | sweep angle at trailing edge of wing (outer side of the kink)\n",
      "data:geometry:wing:thickness_ratio                          | mean thickness ratio of wing\n",
      "data:geometry:wing:root:thickness_ratio                     | thickness ratio at wing root\n",
      "data:geometry:wing:kink:thickness_ratio                     | thickness ratio at wing kink\n",
      "data:geometry:wing:tip:thickness_ratio                      | thickness ratio at wing tip\n",
      "data:geometry:wing:outer_area                               | wing area outside of fuselage\n",
      "data:geometry:wing:wetted_area                              | wetted area of wing\n",
      "data:aerodynamics:aircraft:cruise:CL_alpha                  | derivative of lift coefficient with respect to angle of attack in cruise conditions\n",
      "data:weight:aircraft:MFW                                    | maximum fuel weight\n",
      "data:geometry:propulsion:pylon:length                       | pylon length\n",
      "data:geometry:propulsion:fan:length                         | engine length\n",
      "data:geometry:propulsion:nacelle:length                     | nacelle length\n",
      "data:geometry:propulsion:nacelle:diameter                   | nacelle diameter\n",
      "data:geometry:landing_gear:height                           | height of landing gear\n",
      "data:geometry:propulsion:nacelle:y                          | Y-position of nacelle center\n",
      "data:geometry:propulsion:pylon:wetted_area                  | wetted area of pylon\n",
      "data:geometry:propulsion:nacelle:wetted_area                | wetted area of nacelle\n",
      "data:weight:propulsion:engine:CG:x                          | engine (B1): X-position of center of gravity\n",
      "data:geometry:landing_gear:front:distance_to_main           | distance between front and main landing gears\n",
      "data:geometry:horizontal_tail:volume_coefficient            | volume coefficient of horizontal tail\n",
      "data:geometry:horizontal_tail:distance_from_wing            | distance along X between 25% MAC of wing and 25% MAC of horizontal tail\n",
      "data:geometry:horizontal_tail:wetted_area                   | wetted area of horizontal tail\n",
      "data:geometry:horizontal_tail:area                          | horizontal tail area\n",
      "data:geometry:horizontal_tail:span                          | horizontal tail span\n",
      "data:geometry:horizontal_tail:root_chord                    | chord length at root of horizontal tail\n",
      "data:geometry:horizontal_tail:tip_chord                     | chord length at tip of horizontal tail\n",
      "data:geometry:horizontal_tail:MAC:length                    | mean aerodynamic chord length of horizontal tail\n",
      "data:geometry:horizontal_tail:MAC:x                         | X-position of leading edge of mean aerodynamic chord of horizontal tail (drives position of wing w.r.t. fuselage)\n",
      "data:geometry:horizontal_tail:MAC:y                         | Y-position of mean aerodynamic chord of horizontal tail\n",
      "data:geometry:horizontal_tail:sweep_0                       | sweep angle at leading edge of horizontal tail\n",
      "data:geometry:horizontal_tail:sweep_100                     | sweep angle at trailing edge of horizontal tail\n",
      "data:aerodynamics:horizontal_tail:cruise:CL_alpha           | derivative of lift coefficient of horizontal tail with respect to local angle of attack in cruise conditions\n",
      "data:aerodynamics:fuselage:cruise:CnBeta                    | derivative of yawing moment against sideslip angle for fuselage in cruise conditions\n",
      "data:geometry:vertical_tail:distance_from_wing              | distance along X between 25% MAC of wing and 25% MAC of vertical tail\n",
      "data:aerodynamics:vertical_tail:cruise:CL_alpha             | derivative of lift coefficient of horizontal tail with respect to local \"angle of attack\" in cruise conditions\n",
      "data:geometry:vertical_tail:wetted_area                     | wetted area of vertical tail\n",
      "data:geometry:vertical_tail:area                            | vertical tail area\n",
      "data:aerodynamics:vertical_tail:cruise:CnBeta               | derivative of yawing moment against sideslip angle for vertical tail in cruise conditions\n",
      "data:geometry:vertical_tail:volume_coefficient              | volume coefficient of vertical tail\n",
      "data:geometry:vertical_tail:span                            | vertical tail span\n",
      "data:geometry:vertical_tail:root_chord                      | chord length at root of vertical tail\n",
      "data:geometry:vertical_tail:tip_chord                       | chord length at tip of vertical tail\n",
      "data:geometry:vertical_tail:MAC:length                      | mean aerodynamic chord length of vertical tail\n",
      "data:geometry:vertical_tail:MAC:x                           | X-position of leading edge of mean aerodynamic chord of vertical tail\n",
      "data:geometry:vertical_tail:MAC:z                           | Z-position of mean aerodynamic chord of vertical tail\n",
      "data:geometry:vertical_tail:sweep_0                         | sweep angle at leading edge of vertical tail\n",
      "data:geometry:vertical_tail:sweep_100                       | sweep angle at trailing edge of vertical tail\n",
      "data:geometry:aircraft:wetted_area                          | total wetted area\n",
      "data:aerodynamics:cruise:neutral_point:x                    | X-position of neutral point  - X-position of aircaft nose\n",
      "data:handling_qualities:static_margin                       | (X-position of neutral point  - X-position of center of gravity ) / (mean aerodynamic chord)\n",
      "data:weight:aircraft:CG:x                                   | X-position of aircraft center of gravity\n",
      "data:weight:airframe:horizontal_tail:CG:x                   | horizontal tail (A31): X-position of center of gravity\n",
      "data:weight:airframe:vertical_tail:CG:x                     | vertical tail (A32): X-position of center of gravity\n",
      "data:weight:airframe:wing:CG:x                              | wing (A1): X-position of center of gravity\n",
      "data:weight:airframe:flight_controls:CG:x                   | flight controls (A4): X-position of center of gravity\n",
      "data:weight:fuel_tank:CG:x                                  | fuel tank: X-position of center of gravity\n",
      "data:weight:airframe:fuselage:CG:x                          | fuselage (A2): X-position of center of gravity\n",
      "data:weight:airframe:landing_gear:front:CG:x                | front landing gear (A52): X-position of center of gravity\n",
      "data:weight:airframe:pylon:CG:x                             | pylon (A6): X-position of center of gravity\n",
      "data:weight:airframe:paint:CG:x                             | paint (A7): X-position of center of gravity\n",
      "data:weight:propulsion:fuel_lines:CG:x                      | fuel lines (B2): X-position of center of gravity\n",
      "data:weight:propulsion:unconsumables:CG:x                   | unconsumables (B3): X-position of center of gravity\n",
      "data:weight:systems:power:auxiliary_power_unit:CG:x         | power (C1): X-position of center of gravity\n",
      "data:weight:systems:power:electric_systems:CG:x             | power (C1): X-position of center of gravity\n",
      "data:weight:systems:power:hydraulic_systems:CG:x            | power (C1): X-position of center of gravity\n",
      "data:weight:systems:life_support:insulation:CG:x            | insulation (C21): X-position of center of gravity\n",
      "data:weight:systems:life_support:air_conditioning:CG:x      | air conditioning (C2): X-position of center of gravity\n",
      "data:weight:systems:life_support:de-icing:CG:x              | de-icing (C2): X-position of center of gravity\n",
      "data:weight:systems:life_support:cabin_lighting:CG:x        | cabin lighting (C2): X-position of center of gravity\n",
      "data:weight:systems:life_support:seats_crew_accommodation:CG:x| seats crew accommodation (C21): X-position of center of gravity\n",
      "data:weight:systems:life_support:oxygen:CG:x                | oxygen (C21): X-position of center of gravity\n",
      "data:weight:systems:life_support:safety_equipment:CG:x      | safety equipment (C21): X-position of center of gravity\n",
      "data:weight:systems:navigation:CG:x                         | navigation (C3): X-position of center of gravity\n",
      "data:weight:systems:transmission:CG:x                       | transmission (C4): X-position of center of gravity\n",
      "data:weight:systems:operational:radar:CG:x                  | radar (C51): X-position of center of gravity\n",
      "data:weight:systems:operational:cargo_hold:CG:x             | cargo hold (C52): X-position of center of gravity\n",
      "data:weight:furniture:cargo_configuration:CG:x              | cargo configuration (D1): X-position of center of gravity\n",
      "data:weight:furniture:food_water:CG:x                       | food water (D3): X-position of center of gravity\n",
      "data:weight:furniture:security_kit:CG:x                     | security kit (D4): X-position of center of gravity\n",
      "data:weight:furniture:toilets:CG:x                          | toilets (D5): X-position of center of gravity\n",
      "data:weight:payload:PAX:CG:x                                | passengers: X-position of center of gravity\n",
      "data:weight:payload:rear_fret:CG:x                          | rear fret: X-position of center of gravity\n",
      "data:weight:payload:front_fret:CG:x                         | front fret: X-position of center of gravity\n",
      "data:weight:aircraft_empty:mass                             | mass of empty aircraft (=OWE - mass of crew)\n",
      "data:weight:aircraft_empty:CG:x                             | X-position center of gravity of empty aircraft\n",
      "data:weight:aircraft:empty:CG:ratio                         | X-position of center of gravity as ratio of mean aerodynamic chord for empty aircraft\n",
      "data:weight:aircraft:load_case_1:CG:ratio                   | X-position of center of gravity as ratio of mean aerodynamic chord for load case 1\n",
      "data:weight:aircraft:load_case_2:CG:ratio                   | X-position of center of gravity as ratio of mean aerodynamic chord for load case 2\n",
      "data:weight:aircraft:load_case_3:CG:ratio                   | X-position of center of gravity as ratio of mean aerodynamic chord for load case 3\n",
      "data:weight:aircraft:load_case_4:CG:ratio                   | X-position of center of gravity as ratio of mean aerodynamic chord for load case 4\n",
      "data:weight:aircraft:CG:ratio                               | used X-position of center of gravity as ratio of mean aerodynamic chord (=maximum estimate)\n",
      "data:weight:airframe:landing_gear:main:CG:x                 | main landing gear (A51): X-position of center of gravity\n",
      "data:mission:sizing:cs25:sizing_load_1                      | sizing load during gust with minimum aircraft mass\n",
      "data:mission:sizing:cs25:sizing_load_2                      | sizing load during gust with maximum aircraft mass\n",
      "data:weight:airframe:wing:mass                              | wing (A1): total mass\n",
      "data:weight:airframe:fuselage:mass                          | fuselage (A2): total mass\n",
      "data:weight:airframe:horizontal_tail:mass                   | horizontal tail (A31): mass\n",
      "data:weight:airframe:vertical_tail:mass                     | vertical tail (A32): mass\n",
      "data:weight:airframe:flight_controls:mass                   | flight controls (A4): total mass\n",
      "data:weight:airframe:landing_gear:main:mass                 | main landing gear (A51): mass\n",
      "data:weight:airframe:landing_gear:front:mass                | front landing gear (A52): mass\n",
      "data:weight:propulsion:engine:mass                          | engine (B1): mass\n",
      "data:weight:airframe:pylon:mass                             | pylon (A6): total mass\n",
      "data:weight:airframe:paint:mass                             | paint (A7): total mass\n",
      "data:weight:propulsion:fuel_lines:mass                      | fuel lines (B2): mass\n",
      "data:weight:propulsion:unconsumables:mass                   | unconsumables (B3): mass\n",
      "data:weight:systems:power:auxiliary_power_unit:mass         | power (C1): mass\n",
      "data:weight:systems:power:electric_systems:mass             | power (C1): mass\n",
      "data:weight:systems:power:hydraulic_systems:mass            | power (C1): mass\n",
      "data:weight:systems:life_support:insulation:mass            | insulation (C21): mass\n",
      "data:weight:systems:life_support:air_conditioning:mass      | air conditioning (C2): mass\n",
      "data:weight:systems:life_support:de-icing:mass              | de-icing (C2): mass\n",
      "data:weight:systems:life_support:cabin_lighting:mass        | cabin lighting (C2): mass\n",
      "data:weight:systems:life_support:seats_crew_accommodation:mass| seats crew accommodation (C21): mass\n",
      "data:weight:systems:life_support:oxygen:mass                | oxygen (C21): mass\n",
      "data:weight:systems:life_support:safety_equipment:mass      | safety equipment (C21): mass\n",
      "data:weight:systems:navigation:mass                         | navigation (C3): mass\n",
      "data:weight:systems:transmission:mass                       | transmission (C4): mass\n",
      "data:weight:systems:operational:radar:mass                  | radar (C51): mass\n",
      "data:weight:systems:operational:cargo_hold:mass             | cargo hold (C52): mass\n",
      "data:weight:systems:flight_kit:mass                         | flight kit (C6): mass\n",
      "data:weight:furniture:cargo_configuration:mass              | cargo configuration (D1): mass\n",
      "data:weight:furniture:passenger_seats:mass                  | passenger seats (D2): mass\n",
      "data:weight:furniture:food_water:mass                       | food water (D3): mass\n",
      "data:weight:furniture:security_kit:mass                     | security kit (D4): mass\n",
      "data:weight:furniture:toilets:mass                          | toilets (D5): mass\n",
      "data:weight:crew:mass                                       | crew (E): mass\n",
      "data:weight:airframe:mass                                   | Mass of airframe\n",
      "data:weight:propulsion:mass                                 | Mass of the propulsion system\n",
      "data:weight:systems:mass                                    | Mass of aircraft systems\n",
      "data:weight:furniture:mass                                  | Mass of aircraft furniture\n",
      "data:weight:aircraft:OWE                                    | Mass of crew\n",
      "data:weight:aircraft:MZFW                                   | maximum zero fuel weight\n",
      "data:weight:aircraft:MLW                                    | maximum landing weight\n",
      "data:aerodynamics:aircraft:cruise:induced_drag_coefficient  | multiply squared lift coefficient by this coefficient to get induced drag coefficient\n",
      "data:aerodynamics:wing:cruise:reynolds                      | Reynolds number based on wing mean aerodynamic chord in cruise conditions\n",
      "data:aerodynamics:aircraft:cruise:CL                        | scale of lift coefficient values for drag computations in cruise conditions\n",
      "data:aerodynamics:wing:cruise:CD0                           | profile drag coefficient for wing w.r.t. data:aerodynamics:aircraft:cruise:CL\n",
      "data:aerodynamics:fuselage:cruise:CD0                       | profile drag coefficient for fuselage w.r.t. data:aerodynamics:aircraft:cruise:CL\n",
      "data:aerodynamics:horizontal_tail:cruise:CD0                | profile drag coefficient for horizontal tail\n",
      "data:aerodynamics:vertical_tail:cruise:CD0                  | profile drag coefficient for vertical tail\n",
      "data:aerodynamics:nacelles:cruise:CD0                       | profile drag coefficient for nacelles\n",
      "data:aerodynamics:pylons:cruise:CD0                         | profile drag coefficient for pylons\n",
      "data:aerodynamics:aircraft:cruise:CD0                       | profile drag coefficient for whole aircraft w.r.t. data:aerodynamics:aircraft:cruise:CL\n",
      "data:aerodynamics:aircraft:cruise:CD:compressibility        | increment of drag coefficient due to compressibility effects (shock waves) w.r.t. data:aerodynamics:aircraft:cruise:CL\n",
      "data:aerodynamics:aircraft:cruise:CD:trim                   | increment of drag coefficient due to aircraft trim w.r.t. data:aerodynamics:aircraft:cruise:CL\n",
      "data:aerodynamics:aircraft:cruise:CD                        | drag coefficient in cruise conditions w.r.t. data:aerodynamics:aircraft:cruise:CL\n",
      "data:aerodynamics:aircraft:cruise:L_D_max                   | max lift/drag ratio in cruise conditions\n",
      "data:aerodynamics:aircraft:cruise:optimal_CL                | lift coefficient at maximum lift/drag ratio in cruise conditions\n",
      "data:aerodynamics:aircraft:cruise:optimal_CD                | drag coefficient at maximum lift/drag ratio in cruise conditions\n",
      "data:aerodynamics:aircraft:landing:mach                     | considered Mach number for landing phase\n",
      "data:aerodynamics:aircraft:landing:reynolds                 | considered Reynolds number for landing phase\n",
      "data:aerodynamics:high_lift_devices:landing:CL              | increment of CL due to high-lift devices for landing phase\n",
      "data:aerodynamics:aircraft:landing:CL_max                   | maximum lift coefficient in landing conditions\n",
      "data:propulsion:phase                                       | flight phase for propulsion calculation (can be a vector): TafeOff=1 / Climb=2 / Cruise=3 / Idle=4\n",
      "data:propulsion:use_thrust_rate                             | (can be a vector) If 1, calculation will use data:propulsion:required_thrust_rate. If 0, calculation will use data:propulsion:required_thrust\n",
      "data:propulsion:required_thrust_rate                        | thrust setpoint (can be a vector). Used if \"data:propulsion:use_thrust_rate\" is 1\n",
      "data:propulsion:required_thrust                             | thrust setpoint (can be a vector). Used if \"data:propulsion:use_thrust_rate\" is 0\n",
      "data:propulsion:altitude                                    | altitude for propulsion calculation (can be a vector)\n",
      "data:propulsion:mach                                        | Mach number for propulsion calculation (can be a vector)\n",
      "data:mission:sizing:climb:distance                          | covered ground distance during climb phase\n",
      "data:mission:sizing:cruise:distance                         | covered ground distance during cruise phase\n",
      "data:mission:sizing:descent:distance                        | covered ground distance during descent phase\n",
      "data:mission:sizing:cruise:mass_ratio                       | ratio (aircraft mass at end of cruise)/(aircraft mass at start of cruise)\n",
      "data:weight:aircraft:MTOW                                   | maximum takeoff weight\n",
      "data:mission:sizing:ZFW                                     | aircraft mass with payload, without fuel, in sizing mission\n",
      "data:mission:sizing:fuel                                    | consumed fuel mass during whole mission\n",
      "data:mission:sizing:trip:fuel                               | mass of total fuel consumed during flight in sizing mission\n",
      "data:mission:sizing:climb:fuel                              | mass of consumed fuel during climb phase in sizing mission\n",
      "data:mission:sizing:cruise:fuel                             | mass of consumed fuel during cruise phase in sizing mission\n",
      "data:mission:sizing:descent:fuel                            | mass of consumed fuel during descent phase in sizing mission\n",
      "data:mission:sizing:fuel_reserve                            | mass of fuel reserve\n",
      "data:propulsion:SFC                                         | Specific Fuel Consumption (can be a vector)\n",
      "data:propulsion:thrust_rate                                 | actual thrust rate (can be a vector)\n",
      "data:propulsion:thrust                                      | actual thrust value (can be a vector)\n",
      "data:geometry:wing:area                                     | wing reference area\n",
      "data:weight:aircraft:additional_fuel_capacity               | fuel mass capacity of wing that exceeds sizing mission requirement\n",
      "data:aerodynamics:aircraft:landing:additional_CL_capacity   | at landing, is equal to (maximum lift coefficient)-(maximum required lift coefficient)\n",
      "--------------------------------------------------------------------------------------\n"
     ]
    }
   ],
   "source": [
    "api.list_variables(CONFIGURATION_FILE)"
   ]
  },
  {
   "cell_type": "markdown",
   "metadata": {},
   "source": [
    "Another useful feature is to list the modules of the model defined in the configuration file:"
   ]
  },
  {
   "cell_type": "code",
   "execution_count": 8,
   "metadata": {},
   "outputs": [
    {
     "name": "stderr",
     "output_type": "stream",
     "text": [
      "INFO    : System list written in <ipykernel.iostream.OutStream object at 0x000001F5F83D8088>\n"
     ]
    },
    {
     "name": "stdout",
     "output_type": "stream",
     "text": [
      "-- AVAILABLE SYSTEM IDENTIFIERS --------------------------------------------------------------------\n",
      "====================================================================================================\n",
      "  IDENTIFIER:   fastoad.aerodynamics.highspeed.legacy\n",
      "  PATH:         d:\\s.delbecq\\documents\\dev\\fast-oad\\src\\fastoad\\modules\\aerodynamics\\aerodynamics_high_speed.py\n",
      "  DOMAIN:       Aerodynamics\n",
      "  DESCRIPTION:  \n",
      "    Computes aerodynamic polar of the aircraft in cruise conditions.\n",
      "\n",
      "    Drag contributions of each part of the aircraft are computed though analytical\n",
      "    models.\n",
      "\n",
      "====================================================================================================\n",
      "----------------------------------------------------------------------------------------------------\n",
      "  IDENTIFIER:   fastoad.aerodynamics.landing.legacy\n",
      "  PATH:         d:\\s.delbecq\\documents\\dev\\fast-oad\\src\\fastoad\\modules\\aerodynamics\\aerodynamics_landing.py\n",
      "  DOMAIN:       Aerodynamics\n",
      "  DESCRIPTION:  \n",
      "    Computes maximum CL of the aircraft in landing conditions.\n",
      "\n",
      "    Maximum CL without high-lift is computed using XFoil (or provided as input if option use_xfoil\n",
      "    is set to False).\n",
      "    Contribution of high-lift devices is modelled according to their geometry (span and chord ratio) and\n",
      "    their deflection angles.\n",
      "\n",
      "    Options:\n",
      "      - use_xfoil:\n",
      "         - if True, maximum CL without high-lift aerodynamics:aircraft:landing:CL_max_clean is\n",
      "           computed using XFoil\n",
      "         - if False, aerodynamics:aircraft:landing:CL_max_clean must be provided as input (but\n",
      "           process is faster)\n",
      "\n",
      "====================================================================================================\n",
      "----------------------------------------------------------------------------------------------------\n",
      "  IDENTIFIER:   fastoad.geometry.legacy\n",
      "  PATH:         d:\\s.delbecq\\documents\\dev\\fast-oad\\src\\fastoad\\modules\\geometry\\geometry.py\n",
      "  DOMAIN:       Geometry\n",
      "  DESCRIPTION:  \n",
      "    Computes geometric characteristics of the (tube-wing) aircraft:\n",
      "      - fuselage size is computed from payload requirements\n",
      "      - wing dimensions are computed from global parameters (area, taper ratio...)\n",
      "      - tail planes are dimensioned from HQ requirements\n",
      "\n",
      "    This module also computes centers of gravity and static margin\n",
      "\n",
      "====================================================================================================\n",
      "----------------------------------------------------------------------------------------------------\n",
      "  IDENTIFIER:   fastoad.loop.wing_area\n",
      "  PATH:         d:\\s.delbecq\\documents\\dev\\fast-oad\\src\\fastoad\\modules\\loops\\compute_wing_area.py\n",
      "  DOMAIN:       Other\n",
      "  DESCRIPTION:  \n",
      "    Computes needed wing area for:\n",
      "      - having enough lift at required approach speed\n",
      "      - being able to load enough fuel to achieve the sizing mission\n",
      "\n",
      "====================================================================================================\n",
      "----------------------------------------------------------------------------------------------------\n",
      "  IDENTIFIER:   fastoad.performances.breguet\n",
      "  PATH:         d:\\s.delbecq\\documents\\dev\\fast-oad\\src\\fastoad\\modules\\performances\\breguet.py\n",
      "  DOMAIN:       Performance\n",
      "  DESCRIPTION:  \n",
      "    Estimation of fuel consumption through Breguet formula with a rough estimate\n",
      "    of climb and descent phases.\n",
      "\n",
      "    For the sizing mission, the Breguet formula links MTOW (Max TakeOff Weight) to\n",
      "    ZFW (Zero Fuel Weight).\n",
      "    OWE (Operating Weight Empty) being linked to ZFW and MTOW, a cycle is implemented\n",
      "    to have consistency between these 3 values.\n",
      "\n",
      "====================================================================================================\n",
      "----------------------------------------------------------------------------------------------------\n",
      "  IDENTIFIER:   fastoad.propulsion.rubber_engine\n",
      "  PATH:         d:\\s.delbecq\\documents\\dev\\fast-oad\\src\\fastoad\\modules\\propulsion\\fuel_engine\\rubber_engine\\openmdao.py\n",
      "  DOMAIN:       Propulsion\n",
      "  DESCRIPTION:  \n",
      "    Parametric engine model as OpenMDAO component.\n",
      "\n",
      "    Implementation of E. Roux models for fuel consumption of low bypass ratio engines\n",
      "    For more information, see RubberEngine class in FAST-OAD developer documentation.\n",
      "\n",
      "====================================================================================================\n",
      "----------------------------------------------------------------------------------------------------\n",
      "  IDENTIFIER:   fastoad.weight.legacy\n",
      "  PATH:         d:\\s.delbecq\\documents\\dev\\fast-oad\\src\\fastoad\\modules\\weight\\weight.py\n",
      "  DOMAIN:       Weight\n",
      "  DESCRIPTION:  \n",
      "    Computes masses and Centers of Gravity for each part of the empty operating aircraft, among\n",
      "    these 5 categories:\n",
      "    airframe, propulsion, systems, furniture, crew\n",
      "\n",
      "    This model uses MTOW as an input, as it allows to size some elements, but resulting OWE do\n",
      "    not aim at being consistent with MTOW.\n",
      "\n",
      "    Consistency between OWE and MTOW can be achieved by cycling with a model that computes MTOW\n",
      "    from OWE, which should come from a mission computation that will assess needed block fuel.\n",
      "\n",
      "====================================================================================================\n",
      "----------------------------------------------------------------------------------------------------\n"
     ]
    }
   ],
   "source": [
    "api.list_systems(CONFIGURATION_FILE)"
   ]
  },
  {
   "cell_type": "markdown",
   "metadata": {},
   "source": [
    "Another useful feature is the [N2 diagram](http://openmdao.org/twodocs/versions/latest/basic_guide/make_n2.html) visualization available in OpenMDAO to see the structure of the model:"
   ]
  },
  {
   "cell_type": "code",
   "execution_count": 9,
   "metadata": {},
   "outputs": [
    {
     "name": "stderr",
     "output_type": "stream",
     "text": [
      "INFO    : N2 diagram written in workdir\\n2.html\n"
     ]
    },
    {
     "name": "stdout",
     "output_type": "stream",
     "text": [
      "workdir\\n2.html\n"
     ]
    },
    {
     "data": {
      "text/html": [
       "\n",
       "        <iframe\n",
       "            width=\"100%\"\n",
       "            height=\"500px\"\n",
       "            src=\"workdir\\n2.html\"\n",
       "            frameborder=\"0\"\n",
       "            allowfullscreen\n",
       "        ></iframe>\n",
       "        "
      ],
      "text/plain": [
       "<IPython.lib.display.IFrame at 0x1f58c1a2a48>"
      ]
     },
     "execution_count": 9,
     "metadata": {},
     "output_type": "execute_result"
    }
   ],
   "source": [
    "N2_FILE = pth.join(WORK_FOLDER_PATH, 'n2.html')\n",
    "api.write_n2(CONFIGURATION_FILE, N2_FILE, overwrite=True)\n",
    "from IPython.display import IFrame\n",
    "print(N2_FILE)\n",
    "IFrame(src=N2_FILE, width='100%', height='500px')"
   ]
  },
  {
   "cell_type": "markdown",
   "metadata": {},
   "source": [
    "## 4. Running your first MDA"
   ]
  },
  {
   "cell_type": "code",
   "execution_count": 12,
   "metadata": {},
   "outputs": [
    {
     "name": "stderr",
     "output_type": "stream",
     "text": [
      "WARNING : MAX THRUST computation for T4 above 1600.0 may be unreliable.\n",
      "WARNING : SFC RATIO computation for thrust rate above 1.0 may be unreliable.\n",
      "WARNING : MAX THRUST computation for T4 above 1600.0 may be unreliable.\n",
      "WARNING : SFC RATIO computation for thrust rate above 1.0 may be unreliable.\n",
      "WARNING : MAX THRUST computation for T4 above 1600.0 may be unreliable.\n",
      "WARNING : SFC RATIO computation for thrust rate above 1.0 may be unreliable.\n",
      "WARNING : MAX THRUST computation for T4 above 1600.0 may be unreliable.\n",
      "WARNING : SFC RATIO computation for thrust rate above 1.0 may be unreliable.\n",
      "WARNING : MAX THRUST computation for T4 above 1600.0 may be unreliable.\n",
      "WARNING : SFC RATIO computation for thrust rate above 1.0 may be unreliable.\n",
      "WARNING : MAX THRUST computation for T4 above 1600.0 may be unreliable.\n",
      "WARNING : MAX THRUST computation for T4 above 1600.0 may be unreliable.\n",
      "WARNING : MAX THRUST computation for T4 above 1600.0 may be unreliable.\n",
      "WARNING : MAX THRUST computation for T4 above 1600.0 may be unreliable.\n",
      "WARNING : MAX THRUST computation for T4 above 1600.0 may be unreliable.\n",
      "WARNING : MAX THRUST computation for T4 above 1600.0 may be unreliable.\n",
      "WARNING : MAX THRUST computation for T4 above 1600.0 may be unreliable.\n",
      "WARNING : MAX THRUST computation for T4 above 1600.0 may be unreliable.\n",
      "WARNING : MAX THRUST computation for T4 above 1600.0 may be unreliable.\n",
      "WARNING : MAX THRUST computation for T4 above 1600.0 may be unreliable.\n",
      "WARNING : MAX THRUST computation for T4 above 1600.0 may be unreliable.\n",
      "WARNING : MAX THRUST computation for T4 above 1600.0 may be unreliable.\n",
      "WARNING : MAX THRUST computation for T4 above 1600.0 may be unreliable.\n",
      "WARNING : MAX THRUST computation for T4 above 1600.0 may be unreliable.\n",
      "WARNING : MAX THRUST computation for T4 above 1600.0 may be unreliable.\n",
      "INFO    : Computation finished. Problem outputs written in D:\\s.delbecq\\Documents\\dev\\FAST-OAD\\src\\fastoad\\notebooks\\tutorial\\workdir\\problem_outputs.xml\n"
     ]
    },
    {
     "name": "stdout",
     "output_type": "stream",
     "text": [
      "NL: NLBGS Converged in 19 iterations\n",
      "Input max thrust: 117880  [N]\n",
      "Cruise thrust rate: 0.72  [-]\n",
      "MTOW: 77037  [kg]\n"
     ]
    }
   ],
   "source": [
    "eval_problem = api.evaluate_problem(CONFIGURATION_FILE, overwrite=True)\n",
    "print('Input max thrust: %.0f' % eval_problem['data:propulsion:MTO_thrust'], ' [N]')\n",
    "print('Cruise thrust rate: %.2f' % eval_problem['data:propulsion:thrust_rate'], ' [-]')\n",
    "print('MTOW: %.0f' % eval_problem['data:weight:aircraft:MTOW'], ' [kg]')"
   ]
  },
  {
   "cell_type": "markdown",
   "metadata": {},
   "source": [
    "The problem has been solved, but you can in log messages and in outputs that the resulting thrust rate is above 1. **Indeed, the specified maximum thrust is too low.**\n",
    "\n",
    "By the way, though there is a specified constraint in the configuration for having thrust rate between 0. and 1., this constraint does apply only in optimization problems.\n",
    "\n",
    "You may run the problem again after having increased the maximum thrust, or run an optimization problem that will take it into account."
   ]
  },
  {
   "cell_type": "markdown",
   "metadata": {},
   "source": [
    "## 5. Running your first MDO\n",
    "\n",
    "The configuration file defines a (not very relevant) optimization problem that aims at minimizing the MTOW of aircraft for the defined mission by adjusting the maximum thrust of engines (which has some influence on their fuel consumption, hence the needed block fuel).\n",
    "\n",
    "*(This run should take a couple of minutes)*"
   ]
  },
  {
   "cell_type": "code",
   "execution_count": 8,
   "metadata": {
    "jupyter": {
     "outputs_hidden": true
    }
   },
   "outputs": [
    {
     "name": "stderr",
     "output_type": "stream",
     "text": [
      "WARNING : MAX THRUST computation for T4 above 1600.0 may be unreliable.\n",
      "WARNING : SFC RATIO computation for thrust rate above 1.0 may be unreliable.\n",
      "WARNING : MAX THRUST computation for T4 above 1600.0 may be unreliable.\n",
      "WARNING : SFC RATIO computation for thrust rate above 1.0 may be unreliable.\n",
      "WARNING : MAX THRUST computation for T4 above 1600.0 may be unreliable.\n",
      "WARNING : SFC RATIO computation for thrust rate above 1.0 may be unreliable.\n",
      "WARNING : MAX THRUST computation for T4 above 1600.0 may be unreliable.\n",
      "WARNING : SFC RATIO computation for thrust rate above 1.0 may be unreliable.\n",
      "WARNING : MAX THRUST computation for T4 above 1600.0 may be unreliable.\n",
      "WARNING : SFC RATIO computation for thrust rate above 1.0 may be unreliable.\n",
      "WARNING : MAX THRUST computation for T4 above 1600.0 may be unreliable.\n",
      "WARNING : MAX THRUST computation for T4 above 1600.0 may be unreliable.\n",
      "WARNING : MAX THRUST computation for T4 above 1600.0 may be unreliable.\n",
      "WARNING : MAX THRUST computation for T4 above 1600.0 may be unreliable.\n",
      "WARNING : MAX THRUST computation for T4 above 1600.0 may be unreliable.\n",
      "WARNING : MAX THRUST computation for T4 above 1600.0 may be unreliable.\n",
      "WARNING : MAX THRUST computation for T4 above 1600.0 may be unreliable.\n",
      "WARNING : MAX THRUST computation for T4 above 1600.0 may be unreliable.\n",
      "WARNING : MAX THRUST computation for T4 above 1600.0 may be unreliable.\n",
      "WARNING : MAX THRUST computation for T4 above 1600.0 may be unreliable.\n",
      "WARNING : MAX THRUST computation for T4 above 1600.0 may be unreliable.\n",
      "WARNING : MAX THRUST computation for T4 above 1600.0 may be unreliable.\n",
      "WARNING : MAX THRUST computation for T4 above 1600.0 may be unreliable.\n",
      "WARNING : MAX THRUST computation for T4 above 1600.0 may be unreliable.\n",
      "WARNING : MAX THRUST computation for T4 above 1600.0 may be unreliable.\n"
     ]
    },
    {
     "name": "stdout",
     "output_type": "stream",
     "text": [
      "NL: NLBGS Converged in 19 iterations\n"
     ]
    },
    {
     "name": "stderr",
     "output_type": "stream",
     "text": [
      "WARNING : MAX THRUST computation for T4 above 1600.0 may be unreliable.\n",
      "WARNING : MAX THRUST computation for T4 above 1600.0 may be unreliable.\n",
      "WARNING : MAX THRUST computation for T4 above 1600.0 may be unreliable.\n",
      "WARNING : MAX THRUST computation for T4 above 1600.0 may be unreliable.\n",
      "WARNING : MAX THRUST computation for T4 above 1600.0 may be unreliable.\n",
      "WARNING : MAX THRUST computation for T4 above 1600.0 may be unreliable.\n",
      "WARNING : MAX THRUST computation for T4 above 1600.0 may be unreliable.\n",
      "WARNING : MAX THRUST computation for T4 above 1600.0 may be unreliable.\n",
      "WARNING : MAX THRUST computation for T4 above 1600.0 may be unreliable.\n",
      "WARNING : MAX THRUST computation for T4 above 1600.0 may be unreliable.\n",
      "WARNING : MAX THRUST computation for T4 above 1600.0 may be unreliable.\n",
      "WARNING : MAX THRUST computation for T4 above 1600.0 may be unreliable.\n",
      "WARNING : MAX THRUST computation for T4 above 1600.0 may be unreliable.\n"
     ]
    },
    {
     "name": "stdout",
     "output_type": "stream",
     "text": [
      "NL: NLBGS Converged in 12 iterations\n"
     ]
    },
    {
     "name": "stderr",
     "output_type": "stream",
     "text": [
      "WARNING : MAX THRUST computation for T4 above 1600.0 may be unreliable.\n",
      "WARNING : MAX THRUST computation for T4 above 1600.0 may be unreliable.\n",
      "WARNING : MAX THRUST computation for T4 above 1600.0 may be unreliable.\n",
      "WARNING : MAX THRUST computation for T4 above 1600.0 may be unreliable.\n",
      "WARNING : MAX THRUST computation for T4 above 1600.0 may be unreliable.\n",
      "WARNING : MAX THRUST computation for T4 above 1600.0 may be unreliable.\n",
      "WARNING : MAX THRUST computation for T4 above 1600.0 may be unreliable.\n",
      "WARNING : MAX THRUST computation for T4 above 1600.0 may be unreliable.\n",
      "WARNING : MAX THRUST computation for T4 above 1600.0 may be unreliable.\n",
      "WARNING : MAX THRUST computation for Delta_T4 above 0.0 may be unreliable.\n",
      "WARNING : MAX THRUST computation for T4 above 1600.0 may be unreliable.\n",
      "WARNING : MAX THRUST computation for T4 above 1600.0 may be unreliable.\n",
      "WARNING : MAX THRUST computation for T4 above 1600.0 may be unreliable.\n",
      "WARNING : MAX THRUST computation for T4 above 1600.0 may be unreliable.\n",
      "WARNING : MAX THRUST computation for T4 above 1600.0 may be unreliable.\n",
      "WARNING : SFC RATIO computation for thrust rate below 0.5 may be unreliable.\n",
      "WARNING : MAX THRUST computation for T4 above 1600.0 may be unreliable.\n",
      "WARNING : MAX THRUST computation for T4 above 1600.0 may be unreliable.\n",
      "WARNING : MAX THRUST computation for T4 above 1600.0 may be unreliable.\n",
      "WARNING : MAX THRUST computation for T4 above 1600.0 may be unreliable.\n",
      "WARNING : MAX THRUST computation for T4 above 1600.0 may be unreliable.\n",
      "WARNING : MAX THRUST computation for T4 above 1600.0 may be unreliable.\n",
      "WARNING : MAX THRUST computation for T4 above 1600.0 may be unreliable.\n",
      "WARNING : MAX THRUST computation for T4 above 1600.0 may be unreliable.\n",
      "WARNING : MAX THRUST computation for T4 above 1600.0 may be unreliable.\n",
      "WARNING : MAX THRUST computation for T4 above 1600.0 may be unreliable.\n",
      "WARNING : MAX THRUST computation for T4 above 1600.0 may be unreliable.\n",
      "WARNING : MAX THRUST computation for T4 above 1600.0 may be unreliable.\n",
      "WARNING : MAX THRUST computation for T4 above 1600.0 may be unreliable.\n",
      "WARNING : MAX THRUST computation for T4 above 1600.0 may be unreliable.\n",
      "WARNING : MAX THRUST computation for T4 above 1600.0 may be unreliable.\n",
      "WARNING : MAX THRUST computation for T4 above 1600.0 may be unreliable.\n",
      "WARNING : MAX THRUST computation for T4 above 1600.0 may be unreliable.\n",
      "WARNING : MAX THRUST computation for T4 above 1600.0 may be unreliable.\n",
      "WARNING : MAX THRUST computation for T4 above 1600.0 may be unreliable.\n",
      "WARNING : MAX THRUST computation for T4 above 1600.0 may be unreliable.\n",
      "WARNING : MAX THRUST computation for T4 above 1600.0 may be unreliable.\n",
      "WARNING : MAX THRUST computation for T4 above 1600.0 may be unreliable.\n",
      "WARNING : MAX THRUST computation for T4 above 1600.0 may be unreliable.\n",
      "WARNING : MAX THRUST computation for T4 above 1600.0 may be unreliable.\n",
      "WARNING : MAX THRUST computation for T4 above 1600.0 may be unreliable.\n",
      "WARNING : MAX THRUST computation for T4 above 1600.0 may be unreliable.\n",
      "WARNING : MAX THRUST computation for T4 above 1600.0 may be unreliable.\n",
      "WARNING : MAX THRUST computation for T4 above 1600.0 may be unreliable.\n",
      "WARNING : MAX THRUST computation for T4 above 1600.0 may be unreliable.\n",
      "WARNING : MAX THRUST computation for T4 above 1600.0 may be unreliable.\n",
      "WARNING : MAX THRUST computation for T4 above 1600.0 may be unreliable.\n",
      "WARNING : MAX THRUST computation for T4 above 1600.0 may be unreliable.\n",
      "WARNING : MAX THRUST computation for T4 above 1600.0 may be unreliable.\n",
      "WARNING : MAX THRUST computation for T4 above 1600.0 may be unreliable.\n",
      "WARNING : MAX THRUST computation for T4 above 1600.0 may be unreliable.\n",
      "WARNING : MAX THRUST computation for T4 above 1600.0 may be unreliable.\n",
      "WARNING : MAX THRUST computation for T4 above 1600.0 may be unreliable.\n",
      "WARNING : MAX THRUST computation for T4 above 1600.0 may be unreliable.\n",
      "WARNING : MAX THRUST computation for T4 above 1600.0 may be unreliable.\n",
      "WARNING : MAX THRUST computation for T4 above 1600.0 may be unreliable.\n"
     ]
    },
    {
     "name": "stdout",
     "output_type": "stream",
     "text": [
      "NL: NLBGS Converged in 39 iterations\n"
     ]
    },
    {
     "name": "stderr",
     "output_type": "stream",
     "text": [
      "WARNING : MAX THRUST computation for T4 above 1600.0 may be unreliable.\n",
      "WARNING : MAX THRUST computation for T4 above 1600.0 may be unreliable.\n",
      "WARNING : MAX THRUST computation for T4 above 1600.0 may be unreliable.\n",
      "WARNING : MAX THRUST computation for T4 above 1600.0 may be unreliable.\n",
      "WARNING : MAX THRUST computation for T4 above 1600.0 may be unreliable.\n",
      "WARNING : MAX THRUST computation for T4 above 1600.0 may be unreliable.\n",
      "WARNING : MAX THRUST computation for T4 above 1600.0 may be unreliable.\n",
      "WARNING : MAX THRUST computation for T4 above 1600.0 may be unreliable.\n",
      "WARNING : MAX THRUST computation for T4 above 1600.0 may be unreliable.\n",
      "WARNING : MAX THRUST computation for Delta_T4 above 0.0 may be unreliable.\n",
      "WARNING : MAX THRUST computation for T4 above 1600.0 may be unreliable.\n",
      "WARNING : MAX THRUST computation for T4 above 1600.0 may be unreliable.\n",
      "WARNING : MAX THRUST computation for T4 above 1600.0 may be unreliable.\n",
      "WARNING : MAX THRUST computation for T4 above 1600.0 may be unreliable.\n",
      "WARNING : MAX THRUST computation for T4 above 1600.0 may be unreliable.\n",
      "WARNING : SFC RATIO computation for thrust rate below 0.5 may be unreliable.\n",
      "WARNING : MAX THRUST computation for T4 above 1600.0 may be unreliable.\n",
      "WARNING : MAX THRUST computation for T4 above 1600.0 may be unreliable.\n",
      "WARNING : MAX THRUST computation for T4 above 1600.0 may be unreliable.\n",
      "WARNING : MAX THRUST computation for T4 above 1600.0 may be unreliable.\n",
      "WARNING : MAX THRUST computation for T4 above 1600.0 may be unreliable.\n",
      "WARNING : MAX THRUST computation for T4 above 1600.0 may be unreliable.\n",
      "WARNING : MAX THRUST computation for T4 above 1600.0 may be unreliable.\n",
      "WARNING : MAX THRUST computation for T4 above 1600.0 may be unreliable.\n",
      "WARNING : MAX THRUST computation for T4 above 1600.0 may be unreliable.\n",
      "WARNING : MAX THRUST computation for T4 above 1600.0 may be unreliable.\n",
      "WARNING : MAX THRUST computation for T4 above 1600.0 may be unreliable.\n",
      "WARNING : MAX THRUST computation for T4 above 1600.0 may be unreliable.\n",
      "WARNING : MAX THRUST computation for T4 above 1600.0 may be unreliable.\n",
      "WARNING : MAX THRUST computation for T4 above 1600.0 may be unreliable.\n",
      "WARNING : MAX THRUST computation for T4 above 1600.0 may be unreliable.\n",
      "WARNING : MAX THRUST computation for T4 above 1600.0 may be unreliable.\n",
      "WARNING : MAX THRUST computation for T4 above 1600.0 may be unreliable.\n",
      "WARNING : MAX THRUST computation for T4 above 1600.0 may be unreliable.\n",
      "WARNING : MAX THRUST computation for T4 above 1600.0 may be unreliable.\n",
      "WARNING : MAX THRUST computation for T4 above 1600.0 may be unreliable.\n",
      "WARNING : MAX THRUST computation for T4 above 1600.0 may be unreliable.\n",
      "WARNING : MAX THRUST computation for T4 above 1600.0 may be unreliable.\n",
      "WARNING : MAX THRUST computation for T4 above 1600.0 may be unreliable.\n",
      "WARNING : MAX THRUST computation for T4 above 1600.0 may be unreliable.\n",
      "WARNING : MAX THRUST computation for T4 above 1600.0 may be unreliable.\n",
      "WARNING : MAX THRUST computation for T4 above 1600.0 may be unreliable.\n"
     ]
    },
    {
     "name": "stdout",
     "output_type": "stream",
     "text": [
      "NL: NLBGS Converged in 25 iterations\n"
     ]
    },
    {
     "name": "stderr",
     "output_type": "stream",
     "text": [
      "WARNING : MAX THRUST computation for T4 above 1600.0 may be unreliable.\n",
      "WARNING : MAX THRUST computation for T4 above 1600.0 may be unreliable.\n",
      "WARNING : MAX THRUST computation for T4 above 1600.0 may be unreliable.\n",
      "WARNING : MAX THRUST computation for T4 above 1600.0 may be unreliable.\n",
      "WARNING : MAX THRUST computation for T4 above 1600.0 may be unreliable.\n",
      "WARNING : MAX THRUST computation for T4 above 1600.0 may be unreliable.\n",
      "WARNING : MAX THRUST computation for T4 above 1600.0 may be unreliable.\n",
      "WARNING : MAX THRUST computation for T4 above 1600.0 may be unreliable.\n",
      "WARNING : MAX THRUST computation for T4 above 1600.0 may be unreliable.\n",
      "WARNING : MAX THRUST computation for Delta_T4 above 0.0 may be unreliable.\n",
      "WARNING : MAX THRUST computation for T4 above 1600.0 may be unreliable.\n",
      "WARNING : MAX THRUST computation for T4 above 1600.0 may be unreliable.\n",
      "WARNING : MAX THRUST computation for T4 above 1600.0 may be unreliable.\n",
      "WARNING : MAX THRUST computation for T4 above 1600.0 may be unreliable.\n",
      "WARNING : MAX THRUST computation for T4 above 1600.0 may be unreliable.\n",
      "WARNING : SFC RATIO computation for thrust rate below 0.5 may be unreliable.\n",
      "WARNING : MAX THRUST computation for T4 above 1600.0 may be unreliable.\n",
      "WARNING : MAX THRUST computation for T4 above 1600.0 may be unreliable.\n",
      "WARNING : MAX THRUST computation for T4 above 1600.0 may be unreliable.\n",
      "WARNING : MAX THRUST computation for T4 above 1600.0 may be unreliable.\n",
      "WARNING : MAX THRUST computation for T4 above 1600.0 may be unreliable.\n",
      "WARNING : MAX THRUST computation for T4 above 1600.0 may be unreliable.\n",
      "WARNING : MAX THRUST computation for T4 above 1600.0 may be unreliable.\n",
      "WARNING : MAX THRUST computation for T4 above 1600.0 may be unreliable.\n",
      "WARNING : MAX THRUST computation for T4 above 1600.0 may be unreliable.\n",
      "WARNING : MAX THRUST computation for T4 above 1600.0 may be unreliable.\n",
      "WARNING : MAX THRUST computation for T4 above 1600.0 may be unreliable.\n",
      "WARNING : MAX THRUST computation for T4 above 1600.0 may be unreliable.\n",
      "WARNING : MAX THRUST computation for T4 above 1600.0 may be unreliable.\n",
      "WARNING : MAX THRUST computation for T4 above 1600.0 may be unreliable.\n",
      "WARNING : MAX THRUST computation for T4 above 1600.0 may be unreliable.\n",
      "WARNING : MAX THRUST computation for T4 above 1600.0 may be unreliable.\n",
      "WARNING : MAX THRUST computation for T4 above 1600.0 may be unreliable.\n",
      "WARNING : MAX THRUST computation for T4 above 1600.0 may be unreliable.\n",
      "WARNING : MAX THRUST computation for T4 above 1600.0 may be unreliable.\n",
      "WARNING : MAX THRUST computation for T4 above 1600.0 may be unreliable.\n"
     ]
    },
    {
     "name": "stdout",
     "output_type": "stream",
     "text": [
      "NL: NLBGS Converged in 19 iterations\n"
     ]
    },
    {
     "name": "stderr",
     "output_type": "stream",
     "text": [
      "WARNING : MAX THRUST computation for T4 above 1600.0 may be unreliable.\n",
      "WARNING : MAX THRUST computation for T4 above 1600.0 may be unreliable.\n",
      "WARNING : MAX THRUST computation for T4 above 1600.0 may be unreliable.\n",
      "WARNING : MAX THRUST computation for T4 above 1600.0 may be unreliable.\n",
      "WARNING : MAX THRUST computation for T4 above 1600.0 may be unreliable.\n",
      "WARNING : MAX THRUST computation for T4 above 1600.0 may be unreliable.\n",
      "WARNING : MAX THRUST computation for T4 above 1600.0 may be unreliable.\n",
      "WARNING : MAX THRUST computation for T4 above 1600.0 may be unreliable.\n",
      "WARNING : MAX THRUST computation for T4 above 1600.0 may be unreliable.\n",
      "WARNING : MAX THRUST computation for Delta_T4 above 0.0 may be unreliable.\n",
      "WARNING : MAX THRUST computation for T4 above 1600.0 may be unreliable.\n",
      "WARNING : MAX THRUST computation for T4 above 1600.0 may be unreliable.\n",
      "WARNING : MAX THRUST computation for T4 above 1600.0 may be unreliable.\n",
      "WARNING : MAX THRUST computation for T4 above 1600.0 may be unreliable.\n",
      "WARNING : MAX THRUST computation for T4 above 1600.0 may be unreliable.\n",
      "WARNING : SFC RATIO computation for thrust rate below 0.5 may be unreliable.\n",
      "WARNING : MAX THRUST computation for T4 above 1600.0 may be unreliable.\n",
      "WARNING : SFC RATIO computation for thrust rate above 1.0 may be unreliable.\n",
      "WARNING : MAX THRUST computation for T4 above 1600.0 may be unreliable.\n",
      "WARNING : SFC RATIO computation for thrust rate above 1.0 may be unreliable.\n",
      "WARNING : MAX THRUST computation for T4 above 1600.0 may be unreliable.\n",
      "WARNING : SFC RATIO computation for thrust rate above 1.0 may be unreliable.\n",
      "WARNING : MAX THRUST computation for T4 above 1600.0 may be unreliable.\n",
      "WARNING : SFC RATIO computation for thrust rate above 1.0 may be unreliable.\n",
      "WARNING : MAX THRUST computation for T4 above 1600.0 may be unreliable.\n",
      "WARNING : SFC RATIO computation for thrust rate above 1.0 may be unreliable.\n",
      "WARNING : MAX THRUST computation for T4 above 1600.0 may be unreliable.\n",
      "WARNING : SFC RATIO computation for thrust rate above 1.0 may be unreliable.\n",
      "WARNING : MAX THRUST computation for T4 above 1600.0 may be unreliable.\n",
      "WARNING : SFC RATIO computation for thrust rate above 1.0 may be unreliable.\n",
      "WARNING : MAX THRUST computation for T4 above 1600.0 may be unreliable.\n",
      "WARNING : SFC RATIO computation for thrust rate above 1.0 may be unreliable.\n",
      "WARNING : MAX THRUST computation for T4 above 1600.0 may be unreliable.\n",
      "WARNING : SFC RATIO computation for thrust rate above 1.0 may be unreliable.\n",
      "WARNING : MAX THRUST computation for T4 above 1600.0 may be unreliable.\n",
      "WARNING : SFC RATIO computation for thrust rate above 1.0 may be unreliable.\n",
      "WARNING : MAX THRUST computation for T4 above 1600.0 may be unreliable.\n",
      "WARNING : SFC RATIO computation for thrust rate above 1.0 may be unreliable.\n",
      "WARNING : MAX THRUST computation for T4 above 1600.0 may be unreliable.\n",
      "WARNING : SFC RATIO computation for thrust rate above 1.0 may be unreliable.\n",
      "WARNING : MAX THRUST computation for T4 above 1600.0 may be unreliable.\n",
      "WARNING : SFC RATIO computation for thrust rate above 1.0 may be unreliable.\n",
      "WARNING : MAX THRUST computation for T4 above 1600.0 may be unreliable.\n",
      "WARNING : SFC RATIO computation for thrust rate above 1.0 may be unreliable.\n",
      "WARNING : MAX THRUST computation for T4 above 1600.0 may be unreliable.\n",
      "WARNING : SFC RATIO computation for thrust rate above 1.0 may be unreliable.\n",
      "WARNING : MAX THRUST computation for T4 above 1600.0 may be unreliable.\n",
      "WARNING : SFC RATIO computation for thrust rate above 1.0 may be unreliable.\n",
      "WARNING : MAX THRUST computation for T4 above 1600.0 may be unreliable.\n",
      "WARNING : SFC RATIO computation for thrust rate above 1.0 may be unreliable.\n",
      "WARNING : MAX THRUST computation for T4 above 1600.0 may be unreliable.\n",
      "WARNING : SFC RATIO computation for thrust rate above 1.0 may be unreliable.\n",
      "WARNING : MAX THRUST computation for T4 above 1600.0 may be unreliable.\n",
      "WARNING : SFC RATIO computation for thrust rate above 1.0 may be unreliable.\n",
      "WARNING : MAX THRUST computation for T4 above 1600.0 may be unreliable.\n",
      "WARNING : SFC RATIO computation for thrust rate above 1.0 may be unreliable.\n",
      "WARNING : MAX THRUST computation for T4 above 1600.0 may be unreliable.\n",
      "WARNING : SFC RATIO computation for thrust rate above 1.0 may be unreliable.\n",
      "WARNING : MAX THRUST computation for T4 above 1600.0 may be unreliable.\n",
      "WARNING : SFC RATIO computation for thrust rate above 1.0 may be unreliable.\n",
      "WARNING : MAX THRUST computation for T4 above 1600.0 may be unreliable.\n",
      "WARNING : SFC RATIO computation for thrust rate above 1.0 may be unreliable.\n",
      "WARNING : MAX THRUST computation for T4 above 1600.0 may be unreliable.\n",
      "WARNING : SFC RATIO computation for thrust rate above 1.0 may be unreliable.\n",
      "WARNING : MAX THRUST computation for T4 above 1600.0 may be unreliable.\n",
      "WARNING : SFC RATIO computation for thrust rate above 1.0 may be unreliable.\n",
      "WARNING : MAX THRUST computation for T4 above 1600.0 may be unreliable.\n",
      "WARNING : SFC RATIO computation for thrust rate above 1.0 may be unreliable.\n",
      "WARNING : MAX THRUST computation for T4 above 1600.0 may be unreliable.\n",
      "WARNING : SFC RATIO computation for thrust rate above 1.0 may be unreliable.\n",
      "WARNING : MAX THRUST computation for T4 above 1600.0 may be unreliable.\n",
      "WARNING : SFC RATIO computation for thrust rate above 1.0 may be unreliable.\n",
      "WARNING : MAX THRUST computation for T4 above 1600.0 may be unreliable.\n",
      "WARNING : SFC RATIO computation for thrust rate above 1.0 may be unreliable.\n",
      "WARNING : MAX THRUST computation for T4 above 1600.0 may be unreliable.\n",
      "WARNING : SFC RATIO computation for thrust rate above 1.0 may be unreliable.\n",
      "WARNING : MAX THRUST computation for T4 above 1600.0 may be unreliable.\n",
      "WARNING : SFC RATIO computation for thrust rate above 1.0 may be unreliable.\n",
      "WARNING : MAX THRUST computation for T4 above 1600.0 may be unreliable.\n",
      "WARNING : SFC RATIO computation for thrust rate above 1.0 may be unreliable.\n",
      "WARNING : MAX THRUST computation for T4 above 1600.0 may be unreliable.\n",
      "WARNING : SFC RATIO computation for thrust rate above 1.0 may be unreliable.\n",
      "WARNING : MAX THRUST computation for T4 above 1600.0 may be unreliable.\n",
      "WARNING : SFC RATIO computation for thrust rate above 1.0 may be unreliable.\n",
      "WARNING : MAX THRUST computation for T4 above 1600.0 may be unreliable.\n",
      "WARNING : SFC RATIO computation for thrust rate above 1.0 may be unreliable.\n",
      "WARNING : MAX THRUST computation for T4 above 1600.0 may be unreliable.\n",
      "WARNING : SFC RATIO computation for thrust rate above 1.0 may be unreliable.\n",
      "WARNING : MAX THRUST computation for T4 above 1600.0 may be unreliable.\n",
      "WARNING : SFC RATIO computation for thrust rate above 1.0 may be unreliable.\n",
      "WARNING : MAX THRUST computation for T4 above 1600.0 may be unreliable.\n",
      "WARNING : SFC RATIO computation for thrust rate above 1.0 may be unreliable.\n",
      "WARNING : MAX THRUST computation for T4 above 1600.0 may be unreliable.\n",
      "WARNING : SFC RATIO computation for thrust rate above 1.0 may be unreliable.\n",
      "WARNING : MAX THRUST computation for T4 above 1600.0 may be unreliable.\n",
      "WARNING : SFC RATIO computation for thrust rate above 1.0 may be unreliable.\n"
     ]
    },
    {
     "name": "stdout",
     "output_type": "stream",
     "text": [
      "NL: NLBGS Converged in 39 iterations\n"
     ]
    },
    {
     "name": "stderr",
     "output_type": "stream",
     "text": [
      "WARNING : MAX THRUST computation for T4 above 1600.0 may be unreliable.\n",
      "WARNING : MAX THRUST computation for T4 above 1600.0 may be unreliable.\n",
      "WARNING : MAX THRUST computation for T4 above 1600.0 may be unreliable.\n",
      "WARNING : MAX THRUST computation for T4 above 1600.0 may be unreliable.\n",
      "WARNING : MAX THRUST computation for T4 above 1600.0 may be unreliable.\n",
      "WARNING : MAX THRUST computation for T4 above 1600.0 may be unreliable.\n",
      "WARNING : MAX THRUST computation for T4 above 1600.0 may be unreliable.\n",
      "WARNING : MAX THRUST computation for T4 above 1600.0 may be unreliable.\n",
      "WARNING : MAX THRUST computation for T4 above 1600.0 may be unreliable.\n",
      "WARNING : MAX THRUST computation for T4 above 1600.0 may be unreliable.\n",
      "WARNING : MAX THRUST computation for T4 above 1600.0 may be unreliable.\n",
      "WARNING : MAX THRUST computation for T4 above 1600.0 may be unreliable.\n",
      "WARNING : MAX THRUST computation for T4 above 1600.0 may be unreliable.\n",
      "WARNING : MAX THRUST computation for T4 above 1600.0 may be unreliable.\n",
      "WARNING : MAX THRUST computation for T4 above 1600.0 may be unreliable.\n",
      "WARNING : MAX THRUST computation for T4 above 1600.0 may be unreliable.\n",
      "WARNING : MAX THRUST computation for T4 above 1600.0 may be unreliable.\n",
      "WARNING : MAX THRUST computation for T4 above 1600.0 may be unreliable.\n",
      "WARNING : MAX THRUST computation for T4 above 1600.0 may be unreliable.\n",
      "WARNING : MAX THRUST computation for T4 above 1600.0 may be unreliable.\n",
      "WARNING : MAX THRUST computation for T4 above 1600.0 may be unreliable.\n",
      "WARNING : MAX THRUST computation for T4 above 1600.0 may be unreliable.\n",
      "WARNING : MAX THRUST computation for T4 above 1600.0 may be unreliable.\n"
     ]
    },
    {
     "name": "stdout",
     "output_type": "stream",
     "text": [
      "NL: NLBGS Converged in 22 iterations\n"
     ]
    },
    {
     "name": "stderr",
     "output_type": "stream",
     "text": [
      "WARNING : MAX THRUST computation for T4 above 1600.0 may be unreliable.\n",
      "WARNING : MAX THRUST computation for T4 above 1600.0 may be unreliable.\n",
      "WARNING : MAX THRUST computation for T4 above 1600.0 may be unreliable.\n",
      "WARNING : MAX THRUST computation for T4 above 1600.0 may be unreliable.\n",
      "WARNING : MAX THRUST computation for T4 above 1600.0 may be unreliable.\n",
      "WARNING : MAX THRUST computation for T4 above 1600.0 may be unreliable.\n",
      "WARNING : MAX THRUST computation for T4 above 1600.0 may be unreliable.\n",
      "WARNING : MAX THRUST computation for T4 above 1600.0 may be unreliable.\n",
      "WARNING : MAX THRUST computation for T4 above 1600.0 may be unreliable.\n",
      "WARNING : MAX THRUST computation for Delta_T4 above 0.0 may be unreliable.\n",
      "WARNING : MAX THRUST computation for T4 above 1600.0 may be unreliable.\n",
      "WARNING : MAX THRUST computation for T4 above 1600.0 may be unreliable.\n",
      "WARNING : MAX THRUST computation for T4 above 1600.0 may be unreliable.\n",
      "WARNING : MAX THRUST computation for T4 above 1600.0 may be unreliable.\n",
      "WARNING : MAX THRUST computation for T4 above 1600.0 may be unreliable.\n",
      "WARNING : SFC RATIO computation for thrust rate below 0.5 may be unreliable.\n",
      "WARNING : MAX THRUST computation for T4 above 1600.0 may be unreliable.\n",
      "WARNING : MAX THRUST computation for T4 above 1600.0 may be unreliable.\n",
      "WARNING : MAX THRUST computation for T4 above 1600.0 may be unreliable.\n",
      "WARNING : MAX THRUST computation for T4 above 1600.0 may be unreliable.\n",
      "WARNING : MAX THRUST computation for T4 above 1600.0 may be unreliable.\n",
      "WARNING : MAX THRUST computation for T4 above 1600.0 may be unreliable.\n",
      "WARNING : MAX THRUST computation for T4 above 1600.0 may be unreliable.\n",
      "WARNING : MAX THRUST computation for T4 above 1600.0 may be unreliable.\n",
      "WARNING : MAX THRUST computation for T4 above 1600.0 may be unreliable.\n",
      "WARNING : MAX THRUST computation for T4 above 1600.0 may be unreliable.\n",
      "WARNING : MAX THRUST computation for T4 above 1600.0 may be unreliable.\n",
      "WARNING : MAX THRUST computation for T4 above 1600.0 may be unreliable.\n",
      "WARNING : MAX THRUST computation for T4 above 1600.0 may be unreliable.\n",
      "WARNING : MAX THRUST computation for T4 above 1600.0 may be unreliable.\n",
      "WARNING : MAX THRUST computation for T4 above 1600.0 may be unreliable.\n",
      "WARNING : MAX THRUST computation for T4 above 1600.0 may be unreliable.\n",
      "WARNING : MAX THRUST computation for T4 above 1600.0 may be unreliable.\n",
      "WARNING : MAX THRUST computation for T4 above 1600.0 may be unreliable.\n",
      "WARNING : MAX THRUST computation for T4 above 1600.0 may be unreliable.\n",
      "WARNING : MAX THRUST computation for T4 above 1600.0 may be unreliable.\n",
      "WARNING : MAX THRUST computation for T4 above 1600.0 may be unreliable.\n"
     ]
    },
    {
     "name": "stdout",
     "output_type": "stream",
     "text": [
      "NL: NLBGS Converged in 20 iterations\n"
     ]
    },
    {
     "name": "stderr",
     "output_type": "stream",
     "text": [
      "WARNING : MAX THRUST computation for T4 above 1600.0 may be unreliable.\n",
      "WARNING : MAX THRUST computation for T4 above 1600.0 may be unreliable.\n",
      "WARNING : MAX THRUST computation for T4 above 1600.0 may be unreliable.\n",
      "WARNING : MAX THRUST computation for T4 above 1600.0 may be unreliable.\n",
      "WARNING : MAX THRUST computation for T4 above 1600.0 may be unreliable.\n",
      "WARNING : MAX THRUST computation for T4 above 1600.0 may be unreliable.\n",
      "WARNING : MAX THRUST computation for T4 above 1600.0 may be unreliable.\n",
      "WARNING : MAX THRUST computation for T4 above 1600.0 may be unreliable.\n",
      "WARNING : MAX THRUST computation for T4 above 1600.0 may be unreliable.\n",
      "WARNING : MAX THRUST computation for T4 above 1600.0 may be unreliable.\n",
      "WARNING : MAX THRUST computation for T4 above 1600.0 may be unreliable.\n",
      "WARNING : MAX THRUST computation for T4 above 1600.0 may be unreliable.\n",
      "WARNING : MAX THRUST computation for T4 above 1600.0 may be unreliable.\n",
      "WARNING : MAX THRUST computation for T4 above 1600.0 may be unreliable.\n",
      "WARNING : MAX THRUST computation for T4 above 1600.0 may be unreliable.\n",
      "WARNING : MAX THRUST computation for T4 above 1600.0 may be unreliable.\n",
      "WARNING : MAX THRUST computation for T4 above 1600.0 may be unreliable.\n",
      "WARNING : MAX THRUST computation for T4 above 1600.0 may be unreliable.\n",
      "WARNING : MAX THRUST computation for T4 above 1600.0 may be unreliable.\n",
      "WARNING : MAX THRUST computation for T4 above 1600.0 may be unreliable.\n",
      "WARNING : MAX THRUST computation for T4 above 1600.0 may be unreliable.\n",
      "WARNING : MAX THRUST computation for T4 above 1600.0 may be unreliable.\n",
      "WARNING : MAX THRUST computation for T4 above 1600.0 may be unreliable.\n",
      "WARNING : MAX THRUST computation for T4 above 1600.0 may be unreliable.\n",
      "WARNING : MAX THRUST computation for T4 above 1600.0 may be unreliable.\n",
      "WARNING : MAX THRUST computation for T4 above 1600.0 may be unreliable.\n",
      "WARNING : MAX THRUST computation for T4 above 1600.0 may be unreliable.\n",
      "WARNING : MAX THRUST computation for T4 above 1600.0 may be unreliable.\n",
      "WARNING : MAX THRUST computation for T4 above 1600.0 may be unreliable.\n"
     ]
    },
    {
     "name": "stdout",
     "output_type": "stream",
     "text": [
      "NL: NLBGS Converged in 28 iterations\n"
     ]
    },
    {
     "name": "stderr",
     "output_type": "stream",
     "text": [
      "WARNING : MAX THRUST computation for T4 above 1600.0 may be unreliable.\n",
      "WARNING : MAX THRUST computation for T4 above 1600.0 may be unreliable.\n",
      "WARNING : MAX THRUST computation for T4 above 1600.0 may be unreliable.\n",
      "WARNING : MAX THRUST computation for T4 above 1600.0 may be unreliable.\n",
      "WARNING : MAX THRUST computation for T4 above 1600.0 may be unreliable.\n",
      "WARNING : MAX THRUST computation for T4 above 1600.0 may be unreliable.\n",
      "WARNING : MAX THRUST computation for T4 above 1600.0 may be unreliable.\n",
      "WARNING : MAX THRUST computation for T4 above 1600.0 may be unreliable.\n",
      "WARNING : MAX THRUST computation for T4 above 1600.0 may be unreliable.\n",
      "WARNING : MAX THRUST computation for T4 above 1600.0 may be unreliable.\n",
      "WARNING : MAX THRUST computation for T4 above 1600.0 may be unreliable.\n",
      "WARNING : MAX THRUST computation for T4 above 1600.0 may be unreliable.\n",
      "WARNING : MAX THRUST computation for T4 above 1600.0 may be unreliable.\n",
      "WARNING : MAX THRUST computation for T4 above 1600.0 may be unreliable.\n",
      "WARNING : MAX THRUST computation for T4 above 1600.0 may be unreliable.\n",
      "WARNING : MAX THRUST computation for T4 above 1600.0 may be unreliable.\n",
      "WARNING : MAX THRUST computation for T4 above 1600.0 may be unreliable.\n",
      "WARNING : MAX THRUST computation for T4 above 1600.0 may be unreliable.\n",
      "WARNING : MAX THRUST computation for T4 above 1600.0 may be unreliable.\n",
      "WARNING : MAX THRUST computation for T4 above 1600.0 may be unreliable.\n",
      "WARNING : MAX THRUST computation for T4 above 1600.0 may be unreliable.\n",
      "WARNING : MAX THRUST computation for T4 above 1600.0 may be unreliable.\n"
     ]
    },
    {
     "name": "stdout",
     "output_type": "stream",
     "text": [
      "NL: NLBGS Converged in 21 iterations\n"
     ]
    },
    {
     "name": "stderr",
     "output_type": "stream",
     "text": [
      "WARNING : MAX THRUST computation for T4 above 1600.0 may be unreliable.\n",
      "WARNING : MAX THRUST computation for T4 above 1600.0 may be unreliable.\n",
      "WARNING : MAX THRUST computation for T4 above 1600.0 may be unreliable.\n",
      "WARNING : MAX THRUST computation for T4 above 1600.0 may be unreliable.\n",
      "WARNING : MAX THRUST computation for T4 above 1600.0 may be unreliable.\n",
      "WARNING : MAX THRUST computation for T4 above 1600.0 may be unreliable.\n",
      "WARNING : MAX THRUST computation for T4 above 1600.0 may be unreliable.\n",
      "WARNING : MAX THRUST computation for T4 above 1600.0 may be unreliable.\n",
      "WARNING : MAX THRUST computation for T4 above 1600.0 may be unreliable.\n",
      "WARNING : MAX THRUST computation for T4 above 1600.0 may be unreliable.\n",
      "WARNING : MAX THRUST computation for T4 above 1600.0 may be unreliable.\n",
      "WARNING : MAX THRUST computation for T4 above 1600.0 may be unreliable.\n",
      "WARNING : MAX THRUST computation for T4 above 1600.0 may be unreliable.\n",
      "WARNING : MAX THRUST computation for T4 above 1600.0 may be unreliable.\n"
     ]
    },
    {
     "name": "stdout",
     "output_type": "stream",
     "text": [
      "NL: NLBGS Converged in 13 iterations\n"
     ]
    },
    {
     "name": "stderr",
     "output_type": "stream",
     "text": [
      "WARNING : MAX THRUST computation for T4 above 1600.0 may be unreliable.\n",
      "WARNING : MAX THRUST computation for T4 above 1600.0 may be unreliable.\n",
      "WARNING : MAX THRUST computation for T4 above 1600.0 may be unreliable.\n",
      "WARNING : MAX THRUST computation for T4 above 1600.0 may be unreliable.\n",
      "WARNING : MAX THRUST computation for T4 above 1600.0 may be unreliable.\n",
      "WARNING : MAX THRUST computation for T4 above 1600.0 may be unreliable.\n",
      "WARNING : MAX THRUST computation for T4 above 1600.0 may be unreliable.\n",
      "WARNING : MAX THRUST computation for T4 above 1600.0 may be unreliable.\n",
      "WARNING : MAX THRUST computation for T4 above 1600.0 may be unreliable.\n",
      "WARNING : MAX THRUST computation for T4 above 1600.0 may be unreliable.\n",
      "WARNING : MAX THRUST computation for T4 above 1600.0 may be unreliable.\n",
      "WARNING : MAX THRUST computation for T4 above 1600.0 may be unreliable.\n",
      "WARNING : MAX THRUST computation for T4 above 1600.0 may be unreliable.\n",
      "WARNING : MAX THRUST computation for T4 above 1600.0 may be unreliable.\n",
      "WARNING : MAX THRUST computation for T4 above 1600.0 may be unreliable.\n",
      "WARNING : MAX THRUST computation for T4 above 1600.0 may be unreliable.\n",
      "WARNING : MAX THRUST computation for T4 above 1600.0 may be unreliable.\n",
      "WARNING : MAX THRUST computation for T4 above 1600.0 may be unreliable.\n",
      "WARNING : MAX THRUST computation for T4 above 1600.0 may be unreliable.\n"
     ]
    },
    {
     "name": "stdout",
     "output_type": "stream",
     "text": [
      "NL: NLBGS Converged in 18 iterations\n"
     ]
    },
    {
     "name": "stderr",
     "output_type": "stream",
     "text": [
      "WARNING : MAX THRUST computation for T4 above 1600.0 may be unreliable.\n",
      "WARNING : MAX THRUST computation for T4 above 1600.0 may be unreliable.\n",
      "WARNING : MAX THRUST computation for T4 above 1600.0 may be unreliable.\n",
      "WARNING : MAX THRUST computation for T4 above 1600.0 may be unreliable.\n",
      "WARNING : MAX THRUST computation for T4 above 1600.0 may be unreliable.\n",
      "WARNING : MAX THRUST computation for T4 above 1600.0 may be unreliable.\n",
      "WARNING : MAX THRUST computation for T4 above 1600.0 may be unreliable.\n",
      "WARNING : MAX THRUST computation for T4 above 1600.0 may be unreliable.\n",
      "WARNING : MAX THRUST computation for T4 above 1600.0 may be unreliable.\n",
      "WARNING : MAX THRUST computation for T4 above 1600.0 may be unreliable.\n",
      "WARNING : MAX THRUST computation for T4 above 1600.0 may be unreliable.\n",
      "WARNING : MAX THRUST computation for T4 above 1600.0 may be unreliable.\n"
     ]
    },
    {
     "name": "stdout",
     "output_type": "stream",
     "text": [
      "NL: NLBGS Converged in 11 iterations\n"
     ]
    },
    {
     "name": "stderr",
     "output_type": "stream",
     "text": [
      "WARNING : MAX THRUST computation for T4 above 1600.0 may be unreliable.\n",
      "WARNING : MAX THRUST computation for T4 above 1600.0 may be unreliable.\n",
      "WARNING : MAX THRUST computation for T4 above 1600.0 may be unreliable.\n",
      "WARNING : MAX THRUST computation for T4 above 1600.0 may be unreliable.\n",
      "WARNING : MAX THRUST computation for T4 above 1600.0 may be unreliable.\n",
      "WARNING : MAX THRUST computation for T4 above 1600.0 may be unreliable.\n",
      "WARNING : MAX THRUST computation for T4 above 1600.0 may be unreliable.\n",
      "WARNING : MAX THRUST computation for T4 above 1600.0 may be unreliable.\n",
      "WARNING : MAX THRUST computation for T4 above 1600.0 may be unreliable.\n",
      "WARNING : MAX THRUST computation for T4 above 1600.0 may be unreliable.\n",
      "WARNING : MAX THRUST computation for T4 above 1600.0 may be unreliable.\n",
      "WARNING : MAX THRUST computation for T4 above 1600.0 may be unreliable.\n",
      "WARNING : MAX THRUST computation for T4 above 1600.0 may be unreliable.\n",
      "WARNING : MAX THRUST computation for T4 above 1600.0 may be unreliable.\n",
      "WARNING : MAX THRUST computation for T4 above 1600.0 may be unreliable.\n",
      "WARNING : MAX THRUST computation for T4 above 1600.0 may be unreliable.\n"
     ]
    },
    {
     "name": "stdout",
     "output_type": "stream",
     "text": [
      "NL: NLBGS Converged in 15 iterations\n"
     ]
    },
    {
     "name": "stderr",
     "output_type": "stream",
     "text": [
      "WARNING : MAX THRUST computation for T4 above 1600.0 may be unreliable.\n",
      "WARNING : MAX THRUST computation for T4 above 1600.0 may be unreliable.\n",
      "WARNING : MAX THRUST computation for T4 above 1600.0 may be unreliable.\n",
      "WARNING : MAX THRUST computation for T4 above 1600.0 may be unreliable.\n",
      "WARNING : MAX THRUST computation for T4 above 1600.0 may be unreliable.\n",
      "WARNING : MAX THRUST computation for T4 above 1600.0 may be unreliable.\n",
      "WARNING : MAX THRUST computation for T4 above 1600.0 may be unreliable.\n",
      "WARNING : MAX THRUST computation for T4 above 1600.0 may be unreliable.\n",
      "WARNING : MAX THRUST computation for T4 above 1600.0 may be unreliable.\n",
      "WARNING : MAX THRUST computation for T4 above 1600.0 may be unreliable.\n",
      "WARNING : MAX THRUST computation for T4 above 1600.0 may be unreliable.\n",
      "WARNING : MAX THRUST computation for T4 above 1600.0 may be unreliable.\n",
      "WARNING : MAX THRUST computation for T4 above 1600.0 may be unreliable.\n"
     ]
    },
    {
     "name": "stdout",
     "output_type": "stream",
     "text": [
      "NL: NLBGS Converged in 12 iterations\n"
     ]
    },
    {
     "name": "stderr",
     "output_type": "stream",
     "text": [
      "WARNING : MAX THRUST computation for T4 above 1600.0 may be unreliable.\n",
      "WARNING : MAX THRUST computation for T4 above 1600.0 may be unreliable.\n",
      "WARNING : MAX THRUST computation for T4 above 1600.0 may be unreliable.\n",
      "WARNING : MAX THRUST computation for T4 above 1600.0 may be unreliable.\n",
      "WARNING : MAX THRUST computation for T4 above 1600.0 may be unreliable.\n",
      "WARNING : MAX THRUST computation for T4 above 1600.0 may be unreliable.\n",
      "WARNING : MAX THRUST computation for T4 above 1600.0 may be unreliable.\n",
      "WARNING : MAX THRUST computation for T4 above 1600.0 may be unreliable.\n",
      "WARNING : MAX THRUST computation for T4 above 1600.0 may be unreliable.\n"
     ]
    },
    {
     "name": "stdout",
     "output_type": "stream",
     "text": [
      "NL: NLBGS Converged in 8 iterations\n"
     ]
    },
    {
     "name": "stderr",
     "output_type": "stream",
     "text": [
      "WARNING : MAX THRUST computation for T4 above 1600.0 may be unreliable.\n",
      "WARNING : MAX THRUST computation for T4 above 1600.0 may be unreliable.\n",
      "WARNING : MAX THRUST computation for T4 above 1600.0 may be unreliable.\n",
      "WARNING : MAX THRUST computation for T4 above 1600.0 may be unreliable.\n",
      "WARNING : MAX THRUST computation for T4 above 1600.0 may be unreliable.\n",
      "WARNING : MAX THRUST computation for T4 above 1600.0 may be unreliable.\n",
      "WARNING : MAX THRUST computation for T4 above 1600.0 may be unreliable.\n",
      "WARNING : MAX THRUST computation for T4 above 1600.0 may be unreliable.\n",
      "WARNING : MAX THRUST computation for T4 above 1600.0 may be unreliable.\n",
      "WARNING : MAX THRUST computation for T4 above 1600.0 may be unreliable.\n",
      "WARNING : MAX THRUST computation for T4 above 1600.0 may be unreliable.\n",
      "WARNING : MAX THRUST computation for T4 above 1600.0 may be unreliable.\n",
      "WARNING : MAX THRUST computation for T4 above 1600.0 may be unreliable.\n",
      "WARNING : MAX THRUST computation for T4 above 1600.0 may be unreliable.\n",
      "WARNING : MAX THRUST computation for T4 above 1600.0 may be unreliable.\n",
      "WARNING : MAX THRUST computation for T4 above 1600.0 may be unreliable.\n"
     ]
    },
    {
     "name": "stdout",
     "output_type": "stream",
     "text": [
      "NL: NLBGS Converged in 15 iterations\n"
     ]
    },
    {
     "name": "stderr",
     "output_type": "stream",
     "text": [
      "WARNING : MAX THRUST computation for T4 above 1600.0 may be unreliable.\n",
      "WARNING : MAX THRUST computation for T4 above 1600.0 may be unreliable.\n",
      "WARNING : MAX THRUST computation for T4 above 1600.0 may be unreliable.\n",
      "WARNING : MAX THRUST computation for T4 above 1600.0 may be unreliable.\n",
      "WARNING : MAX THRUST computation for T4 above 1600.0 may be unreliable.\n",
      "WARNING : MAX THRUST computation for T4 above 1600.0 may be unreliable.\n",
      "WARNING : MAX THRUST computation for T4 above 1600.0 may be unreliable.\n",
      "WARNING : MAX THRUST computation for T4 above 1600.0 may be unreliable.\n",
      "WARNING : MAX THRUST computation for T4 above 1600.0 may be unreliable.\n",
      "WARNING : MAX THRUST computation for T4 above 1600.0 may be unreliable.\n",
      "WARNING : MAX THRUST computation for T4 above 1600.0 may be unreliable.\n",
      "WARNING : MAX THRUST computation for T4 above 1600.0 may be unreliable.\n",
      "WARNING : MAX THRUST computation for T4 above 1600.0 may be unreliable.\n",
      "WARNING : MAX THRUST computation for T4 above 1600.0 may be unreliable.\n",
      "WARNING : MAX THRUST computation for T4 above 1600.0 may be unreliable.\n",
      "WARNING : MAX THRUST computation for T4 above 1600.0 may be unreliable.\n",
      "WARNING : MAX THRUST computation for T4 above 1600.0 may be unreliable.\n",
      "WARNING : MAX THRUST computation for T4 above 1600.0 may be unreliable.\n",
      "WARNING : MAX THRUST computation for T4 above 1600.0 may be unreliable.\n",
      "WARNING : MAX THRUST computation for T4 above 1600.0 may be unreliable.\n",
      "WARNING : MAX THRUST computation for T4 above 1600.0 may be unreliable.\n",
      "WARNING : MAX THRUST computation for T4 above 1600.0 may be unreliable.\n",
      "WARNING : MAX THRUST computation for T4 above 1600.0 may be unreliable.\n",
      "WARNING : MAX THRUST computation for T4 above 1600.0 may be unreliable.\n",
      "WARNING : MAX THRUST computation for T4 above 1600.0 may be unreliable.\n",
      "WARNING : MAX THRUST computation for T4 above 1600.0 may be unreliable.\n",
      "WARNING : MAX THRUST computation for T4 above 1600.0 may be unreliable.\n",
      "WARNING : MAX THRUST computation for T4 above 1600.0 may be unreliable.\n",
      "WARNING : MAX THRUST computation for T4 above 1600.0 may be unreliable.\n",
      "WARNING : MAX THRUST computation for T4 above 1600.0 may be unreliable.\n",
      "WARNING : MAX THRUST computation for T4 above 1600.0 may be unreliable.\n",
      "WARNING : MAX THRUST computation for T4 above 1600.0 may be unreliable.\n",
      "WARNING : MAX THRUST computation for T4 above 1600.0 may be unreliable.\n",
      "WARNING : MAX THRUST computation for T4 above 1600.0 may be unreliable.\n",
      "WARNING : MAX THRUST computation for T4 above 1600.0 may be unreliable.\n",
      "WARNING : MAX THRUST computation for T4 above 1600.0 may be unreliable.\n",
      "WARNING : MAX THRUST computation for T4 above 1600.0 may be unreliable.\n",
      "WARNING : MAX THRUST computation for T4 above 1600.0 may be unreliable.\n",
      "WARNING : MAX THRUST computation for T4 above 1600.0 may be unreliable.\n"
     ]
    },
    {
     "name": "stdout",
     "output_type": "stream",
     "text": [
      "NL: NLBGS Converged in 38 iterations\n"
     ]
    },
    {
     "name": "stderr",
     "output_type": "stream",
     "text": [
      "INFO    : Computation finished. Problem outputs written in D:\\s.delbecq\\Documents\\dev\\FAST-OAD\\src\\fastoad\\notebooks\\tutorial\\workdir\\problem_outputs.xml\n"
     ]
    },
    {
     "name": "stdout",
     "output_type": "stream",
     "text": [
      "Optimization terminated successfully.    (Exit mode 0)\n",
      "            Current function value: 0.4979504228299833\n",
      "            Iterations: 5\n",
      "            Function evaluations: 17\n",
      "            Gradient evaluations: 5\n",
      "Optimization Complete\n",
      "-----------------------------------\n"
     ]
    },
    {
     "ename": "KeyError",
     "evalue": "'Variable name \"propulsion:MTO_thrust\" not found.'",
     "output_type": "error",
     "traceback": [
      "\u001b[1;31m---------------------------------------------------------------------------\u001b[0m",
      "\u001b[1;31mKeyError\u001b[0m                                  Traceback (most recent call last)",
      "\u001b[1;32m<ipython-input-8-a14b17be798a>\u001b[0m in \u001b[0;36m<module>\u001b[1;34m\u001b[0m\n\u001b[0;32m      1\u001b[0m \u001b[0moptim_problem\u001b[0m \u001b[1;33m=\u001b[0m \u001b[0mapi\u001b[0m\u001b[1;33m.\u001b[0m\u001b[0moptimize_problem\u001b[0m\u001b[1;33m(\u001b[0m\u001b[0mCONFIGURATION_FILE\u001b[0m\u001b[1;33m,\u001b[0m \u001b[0moverwrite\u001b[0m\u001b[1;33m=\u001b[0m\u001b[1;32mTrue\u001b[0m\u001b[1;33m)\u001b[0m\u001b[1;33m\u001b[0m\u001b[1;33m\u001b[0m\u001b[0m\n\u001b[1;32m----> 2\u001b[1;33m \u001b[0mprint\u001b[0m\u001b[1;33m(\u001b[0m\u001b[1;34m'\"Optimized\" max thrust: %.0f'\u001b[0m \u001b[1;33m%\u001b[0m \u001b[0moptim_problem\u001b[0m\u001b[1;33m[\u001b[0m\u001b[1;34m'propulsion:MTO_thrust'\u001b[0m\u001b[1;33m]\u001b[0m\u001b[1;33m,\u001b[0m \u001b[1;34m' [N]'\u001b[0m\u001b[1;33m)\u001b[0m\u001b[1;33m\u001b[0m\u001b[1;33m\u001b[0m\u001b[0m\n\u001b[0m\u001b[0;32m      3\u001b[0m \u001b[0mprint\u001b[0m\u001b[1;33m(\u001b[0m\u001b[1;34m'Cruise thrust rate: %.2f'\u001b[0m \u001b[1;33m%\u001b[0m \u001b[0moptim_problem\u001b[0m\u001b[1;33m[\u001b[0m\u001b[1;34m'propulsion:thrust_rate'\u001b[0m\u001b[1;33m]\u001b[0m\u001b[1;33m,\u001b[0m \u001b[1;34m' [-]'\u001b[0m\u001b[1;33m)\u001b[0m\u001b[1;33m\u001b[0m\u001b[1;33m\u001b[0m\u001b[0m\n\u001b[0;32m      4\u001b[0m \u001b[0mprint\u001b[0m\u001b[1;33m(\u001b[0m\u001b[1;34m'MTOW: %.0f'\u001b[0m \u001b[1;33m%\u001b[0m \u001b[0moptim_problem\u001b[0m\u001b[1;33m[\u001b[0m\u001b[1;34m'weight:aircraft:MTOW'\u001b[0m\u001b[1;33m]\u001b[0m\u001b[1;33m,\u001b[0m \u001b[1;34m' [kg]'\u001b[0m\u001b[1;33m)\u001b[0m\u001b[1;33m\u001b[0m\u001b[1;33m\u001b[0m\u001b[0m\n",
      "\u001b[1;32mc:\\users\\s.delbecq\\.virtualenvs\\fast-oad-59piv3n_\\lib\\site-packages\\openmdao\\core\\problem.py\u001b[0m in \u001b[0;36m__getitem__\u001b[1;34m(self, name)\u001b[0m\n\u001b[0;32m    394\u001b[0m \u001b[1;33m\u001b[0m\u001b[0m\n\u001b[0;32m    395\u001b[0m         \u001b[1;32mif\u001b[0m \u001b[0mval\u001b[0m \u001b[1;32mis\u001b[0m \u001b[0m_undefined\u001b[0m\u001b[1;33m:\u001b[0m\u001b[1;33m\u001b[0m\u001b[1;33m\u001b[0m\u001b[0m\n\u001b[1;32m--> 396\u001b[1;33m             \u001b[1;32mraise\u001b[0m \u001b[0mKeyError\u001b[0m\u001b[1;33m(\u001b[0m\u001b[1;34m'Variable name \"{}\" not found.'\u001b[0m\u001b[1;33m.\u001b[0m\u001b[0mformat\u001b[0m\u001b[1;33m(\u001b[0m\u001b[0mname\u001b[0m\u001b[1;33m)\u001b[0m\u001b[1;33m)\u001b[0m\u001b[1;33m\u001b[0m\u001b[1;33m\u001b[0m\u001b[0m\n\u001b[0m\u001b[0;32m    397\u001b[0m \u001b[1;33m\u001b[0m\u001b[0m\n\u001b[0;32m    398\u001b[0m         \u001b[1;32mreturn\u001b[0m \u001b[0mval\u001b[0m\u001b[1;33m\u001b[0m\u001b[1;33m\u001b[0m\u001b[0m\n",
      "\u001b[1;31mKeyError\u001b[0m: 'Variable name \"propulsion:MTO_thrust\" not found.'"
     ]
    }
   ],
   "source": [
    "optim_problem = api.optimize_problem(CONFIGURATION_FILE, overwrite=True)\n",
    "print('\"Optimized\" max thrust: %.0f' % optim_problem['data:propulsion:MTO_thrust'], ' [N]')\n",
    "print('Cruise thrust rate: %.2f' % optim_problem['data:propulsion:thrust_rate'], ' [-]')\n",
    "print('MTOW: %.0f' % optim_problem['data:weight:aircraft:MTOW'], ' [kg]')"
   ]
  },
  {
   "cell_type": "markdown",
   "metadata": {},
   "source": [
    "## 6. Interacting with xml files"
   ]
  },
  {
   "cell_type": "code",
   "execution_count": 1,
   "metadata": {},
   "outputs": [
    {
     "name": "stdout",
     "output_type": "stream",
     "text": [
      "Unable to import mpi4py. Parallel processing unavailable.\n"
     ]
    }
   ],
   "source": [
    "import os.path as pth\n",
    "from fastoad.io.xml import OMXmlIO\n",
    "from fastoad.utils.postprocessing.dataframe import VariableViewer\n",
    "RESULTS_FOLDER_PATH = 'workdir'\n",
    "RESULT_FILE = pth.join(RESULTS_FOLDER_PATH, 'problem_outputs.xml')\n",
    "result_xml = OMXmlIO(RESULT_FILE)"
   ]
  },
  {
   "cell_type": "code",
   "execution_count": 2,
   "metadata": {},
   "outputs": [],
   "source": [
    "df = VariableViewer()"
   ]
  },
  {
   "cell_type": "code",
   "execution_count": 3,
   "metadata": {
    "scrolled": false
   },
   "outputs": [
    {
     "data": {
      "application/vnd.jupyter.widget-view+json": {
       "model_id": "f219ff6978344e03b65de541a4eefc23",
       "version_major": 2,
       "version_minor": 0
      },
      "text/plain": [
       "VBox(children=(VBox(children=(Label(value='Variable name'), HBox(children=(Dropdown(options=('data', 'settings…"
      ]
     },
     "metadata": {},
     "output_type": "display_data"
    }
   ],
   "source": [
    "df.xml_interact(result_xml)"
   ]
  },
  {
   "cell_type": "code",
   "execution_count": null,
   "metadata": {},
   "outputs": [],
   "source": []
  },
  {
   "cell_type": "code",
   "execution_count": null,
   "metadata": {},
   "outputs": [],
   "source": []
  }
 ],
 "metadata": {
  "kernelspec": {
   "display_name": "Python 3",
   "language": "python",
   "name": "python3"
  },
  "language_info": {
   "codemirror_mode": {
    "name": "ipython",
    "version": 3
   },
   "file_extension": ".py",
   "mimetype": "text/x-python",
   "name": "python",
   "nbconvert_exporter": "python",
   "pygments_lexer": "ipython3",
   "version": "3.7.4"
  }
 },
 "nbformat": 4,
 "nbformat_minor": 4
}
